{
 "cells": [
  {
   "cell_type": "code",
   "execution_count": 3,
   "id": "aa52315f-f8f3-422c-bc86-a5cbb438e68f",
   "metadata": {},
   "outputs": [],
   "source": [
    "import pandas as pd\n",
    "\n",
    "\n",
    "DEFAULT_DATA_FILE_PATH = \"data/realty.tsv\""
   ]
  },
  {
   "cell_type": "code",
   "execution_count": 4,
   "id": "f818a455-199f-4a6b-b1ef-db993a55da3b",
   "metadata": {},
   "outputs": [],
   "source": [
    "df = pd.read_csv(DEFAULT_DATA_FILE_PATH, sep=\"\\t\")"
   ]
  },
  {
   "cell_type": "code",
   "execution_count": 5,
   "id": "88c52de3-7df0-402a-9906-2f05e0a8bbd8",
   "metadata": {},
   "outputs": [
    {
     "data": {
      "text/html": [
       "<div>\n",
       "<style scoped>\n",
       "    .dataframe tbody tr th:only-of-type {\n",
       "        vertical-align: middle;\n",
       "    }\n",
       "\n",
       "    .dataframe tbody tr th {\n",
       "        vertical-align: top;\n",
       "    }\n",
       "\n",
       "    .dataframe thead th {\n",
       "        text-align: right;\n",
       "    }\n",
       "</style>\n",
       "<table border=\"1\" class=\"dataframe\">\n",
       "  <thead>\n",
       "    <tr style=\"text-align: right;\">\n",
       "      <th></th>\n",
       "      <th>CityHash</th>\n",
       "      <th>area</th>\n",
       "      <th>balcony</th>\n",
       "      <th>build_year</th>\n",
       "      <th>building_series_id</th>\n",
       "      <th>building_type_int</th>\n",
       "      <th>ceiling_height</th>\n",
       "      <th>first_day_exposition</th>\n",
       "      <th>first_month_exposition</th>\n",
       "      <th>flats_count</th>\n",
       "      <th>...</th>\n",
       "      <th>longitude</th>\n",
       "      <th>offer_id_hash</th>\n",
       "      <th>parking</th>\n",
       "      <th>price_sqm</th>\n",
       "      <th>renovation</th>\n",
       "      <th>rooms</th>\n",
       "      <th>rooms_offered</th>\n",
       "      <th>studio</th>\n",
       "      <th>total_area</th>\n",
       "      <th>unified_address</th>\n",
       "    </tr>\n",
       "  </thead>\n",
       "  <tbody>\n",
       "    <tr>\n",
       "      <th>0</th>\n",
       "      <td>9846558176160253361</td>\n",
       "      <td>35.099998</td>\n",
       "      <td>1</td>\n",
       "      <td>1965</td>\n",
       "      <td>663294</td>\n",
       "      <td>6</td>\n",
       "      <td>2.64</td>\n",
       "      <td>1647032400000000</td>\n",
       "      <td>2022-03</td>\n",
       "      <td>84</td>\n",
       "      <td>...</td>\n",
       "      <td>37.78112</td>\n",
       "      <td>4710561669182977508</td>\n",
       "      <td>8</td>\n",
       "      <td>270655.282421</td>\n",
       "      <td>10</td>\n",
       "      <td>1</td>\n",
       "      <td>1</td>\n",
       "      <td>False</td>\n",
       "      <td>35.099998</td>\n",
       "      <td>Россия, Москва, 1-я Новокузьминская улица, 6</td>\n",
       "    </tr>\n",
       "    <tr>\n",
       "      <th>1</th>\n",
       "      <td>7756789824974483327</td>\n",
       "      <td>31.500000</td>\n",
       "      <td>0</td>\n",
       "      <td>1964</td>\n",
       "      <td>663294</td>\n",
       "      <td>6</td>\n",
       "      <td>2.64</td>\n",
       "      <td>1606165200000000</td>\n",
       "      <td>2020-11</td>\n",
       "      <td>0</td>\n",
       "      <td>...</td>\n",
       "      <td>37.59383</td>\n",
       "      <td>11210712509691726138</td>\n",
       "      <td>8</td>\n",
       "      <td>276190.476190</td>\n",
       "      <td>1</td>\n",
       "      <td>1</td>\n",
       "      <td>1</td>\n",
       "      <td>False</td>\n",
       "      <td>31.500000</td>\n",
       "      <td>Россия, Москва, Нагорный бульвар, 5к1</td>\n",
       "    </tr>\n",
       "  </tbody>\n",
       "</table>\n",
       "<p>2 rows × 30 columns</p>\n",
       "</div>"
      ],
      "text/plain": [
       "              CityHash       area  balcony  build_year  building_series_id  \\\n",
       "0  9846558176160253361  35.099998        1        1965              663294   \n",
       "1  7756789824974483327  31.500000        0        1964              663294   \n",
       "\n",
       "   building_type_int  ceiling_height  first_day_exposition  \\\n",
       "0                  6            2.64      1647032400000000   \n",
       "1                  6            2.64      1606165200000000   \n",
       "\n",
       "  first_month_exposition  flats_count  ...  longitude         offer_id_hash  \\\n",
       "0                2022-03           84  ...   37.78112   4710561669182977508   \n",
       "1                2020-11            0  ...   37.59383  11210712509691726138   \n",
       "\n",
       "   parking      price_sqm  renovation  rooms  rooms_offered  studio  \\\n",
       "0        8  270655.282421          10      1              1   False   \n",
       "1        8  276190.476190           1      1              1   False   \n",
       "\n",
       "   total_area                               unified_address  \n",
       "0   35.099998  Россия, Москва, 1-я Новокузьминская улица, 6  \n",
       "1   31.500000         Россия, Москва, Нагорный бульвар, 5к1  \n",
       "\n",
       "[2 rows x 30 columns]"
      ]
     },
     "execution_count": 5,
     "metadata": {},
     "output_type": "execute_result"
    }
   ],
   "source": [
    "df.head(2)"
   ]
  },
  {
   "cell_type": "code",
   "execution_count": 41,
   "id": "3865ac67-6da8-4add-aa71-0bf91b806d90",
   "metadata": {},
   "outputs": [
    {
     "data": {
      "text/plain": [
       "(312140, 30)"
      ]
     },
     "execution_count": 41,
     "metadata": {},
     "output_type": "execute_result"
    }
   ],
   "source": [
    "df.shape"
   ]
  },
  {
   "cell_type": "code",
   "execution_count": 13,
   "id": "5003fbfa-e102-441c-9c72-f0f4103f954a",
   "metadata": {},
   "outputs": [
    {
     "data": {
      "text/plain": [
       "Index(['CityHash', 'area', 'balcony', 'build_year', 'building_series_id',\n",
       "       'building_type_int', 'ceiling_height', 'first_day_exposition',\n",
       "       'first_month_exposition', 'flats_count', 'floor', 'floors_total',\n",
       "       'has_elevator', 'is_apartment', 'kitchen_area', 'last_day_exposition',\n",
       "       'last_price', 'latitude', 'living_area', 'locality_name', 'longitude',\n",
       "       'offer_id_hash', 'parking', 'price_sqm', 'renovation', 'rooms',\n",
       "       'rooms_offered', 'studio', 'total_area', 'unified_address'],\n",
       "      dtype='object')"
      ]
     },
     "execution_count": 13,
     "metadata": {},
     "output_type": "execute_result"
    }
   ],
   "source": [
    "df.columns"
   ]
  },
  {
   "cell_type": "code",
   "execution_count": 19,
   "id": "db1c3a4a-4020-4e25-ad5b-a0dbe80f3821",
   "metadata": {},
   "outputs": [
    {
     "data": {
      "text/plain": [
       "True"
      ]
     },
     "execution_count": 19,
     "metadata": {},
     "output_type": "execute_result"
    }
   ],
   "source": [
    "len(df[\"CityHash\"].unique()) == df.shape[0]"
   ]
  },
  {
   "cell_type": "code",
   "execution_count": 38,
   "id": "fbb461ba-7c5d-40f7-b209-41ec392a6ba1",
   "metadata": {},
   "outputs": [
    {
     "data": {
      "text/plain": [
       "studio\n",
       "False    294229\n",
       "True      17911\n",
       "Name: count, dtype: int64"
      ]
     },
     "execution_count": 38,
     "metadata": {},
     "output_type": "execute_result"
    }
   ],
   "source": [
    "df[\"studio\"].value_counts()"
   ]
  },
  {
   "cell_type": "markdown",
   "id": "4e6fbc0c-8547-496d-9b63-836a96f011f3",
   "metadata": {},
   "source": [
    "#### Features Types:\n",
    "\n",
    "- Numeric features: `area`, `ceiling_height`, `flats_count`, `floor`, `floors_total`, `floor`/`floors_total`, `kitchen_area`, `kitchen_area`/`area`, `living_area`, `living_area`/`area`, `price_sqm`, `rooms`, `rooms_offered`, `total_area`\n",
    "- Categorical features: `balcony`, `building_series_id`, `building_type_int`, `ceiling_height`, `floor`, `has_elevator`, `is_apartment`, `parking`, `renovation`, `rooms`, `studio`, \n",
    "- Date features: `build_year`, `first_day_exposition`, `first_month_exposition`, `last_day_exposition`\n",
    "- Text feature: `locality_name`, `unified_address`\n",
    "- Geo features: `latitude`, `longitude`, `unified_address`, `locality_name`"
   ]
  }
 ],
 "metadata": {
  "kernelspec": {
   "display_name": "Python 3 (ipykernel)",
   "language": "python",
   "name": "python3"
  },
  "language_info": {
   "codemirror_mode": {
    "name": "ipython",
    "version": 3
   },
   "file_extension": ".py",
   "mimetype": "text/x-python",
   "name": "python",
   "nbconvert_exporter": "python",
   "pygments_lexer": "ipython3",
   "version": "3.11.3"
  }
 },
 "nbformat": 4,
 "nbformat_minor": 5
}
