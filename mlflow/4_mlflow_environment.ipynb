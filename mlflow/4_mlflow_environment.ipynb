{
 "cells": [
  {
   "cell_type": "code",
   "execution_count": 2,
   "id": "7ffc89dd-9d41-4252-9092-96f1dfaa8e67",
   "metadata": {},
   "outputs": [
    {
     "name": "stderr",
     "output_type": "stream",
     "text": [
      "/Users/nikolaistepanov/.pyenv/versions/3.11.3/lib/python3.11/site-packages/pydantic/_internal/_fields.py:127: UserWarning: Field \"model_server_url\" has conflict with protected namespace \"model_\".\n",
      "\n",
      "You may be able to resolve this warning by setting `model_config['protected_namespaces'] = ()`.\n",
      "  warnings.warn(\n",
      "/Users/nikolaistepanov/.pyenv/versions/3.11.3/lib/python3.11/site-packages/pydantic/_internal/_config.py:269: UserWarning: Valid config keys have changed in V2:\n",
      "* 'schema_extra' has been renamed to 'json_schema_extra'\n",
      "  warnings.warn(message, UserWarning)\n"
     ]
    }
   ],
   "source": [
    "import os\n",
    "\n",
    "import psycopg\n",
    "import pandas as pd\n",
    "import mlflow\n",
    "from sklearn.metrics import (\n",
    "    roc_auc_score,\n",
    "    f1_score,\n",
    "    precision_score,\n",
    "    recall_score,\n",
    "    confusion_matrix,\n",
    "    log_loss,\n",
    ")"
   ]
  },
  {
   "cell_type": "markdown",
   "id": "41e42726-c600-4eaf-b168-fd892a76e0f6",
   "metadata": {},
   "source": [
    "##### 1. Определим глобальные перменные"
   ]
  },
  {
   "cell_type": "code",
   "execution_count": 3,
   "id": "baa0ee62-5115-4d7c-9301-eb5e1514f79a",
   "metadata": {},
   "outputs": [],
   "source": [
    "TABLE_NAME = \"users_churn\"\n",
    "\n",
    "TRACKING_SERVER_HOST = \"127.0.0.1\"\n",
    "TRACKING_SERVER_PORT = 5000\n",
    "\n",
    "EXPERIMENT_NAME = \"churn_nikolaistepanov\"\n",
    "RUN_NAME = \"model_0_registry\"\n",
    "REGISTRY_MODEL_NAME = \"churn_model_nikolaistepanov\""
   ]
  },
  {
   "cell_type": "markdown",
   "id": "e1474a7a-48e6-4f26-9068-c2c04f4c7230",
   "metadata": {},
   "source": [
    "##### 2. Заберем данные из базы данных и сформируем `dataframe`"
   ]
  },
  {
   "cell_type": "code",
   "execution_count": 4,
   "id": "c232f085-0cb3-4666-9e97-5d6e5ca903ac",
   "metadata": {},
   "outputs": [],
   "source": [
    "connection = {\"sslmode\": \"verify-full\", \"target_session_attrs\": \"read-write\"}\n",
    "postgres_credentials = {\n",
    "    \"host\": os.getenv(\"POSTGRES_HOST\"),\n",
    "    \"port\": os.getenv(\"POSTGRES_PORT\"),\n",
    "    \"dbname\": os.getenv(\"POSTGRES_DBNAME\"),\n",
    "    \"user\": os.getenv(\"POSTGRES_USER\"),\n",
    "    \"password\": os.getenv(\"POSTGRES_PASSWORD\"),\n",
    "}\n",
    "\n",
    "connection.update(postgres_credentials)"
   ]
  },
  {
   "cell_type": "code",
   "execution_count": 5,
   "id": "788f4aee-cbc5-40b3-9a3d-070ebb16f540",
   "metadata": {},
   "outputs": [],
   "source": [
    "with psycopg.connect(**connection) as conn:\n",
    "\n",
    "    with conn.cursor() as cur:\n",
    "        cur.execute(f\"SELECT * FROM {TABLE_NAME}\")\n",
    "        data = cur.fetchall()\n",
    "        columns = [col[0] for col in cur.description]\n",
    "\n",
    "df = pd.DataFrame(data, columns=columns)"
   ]
  },
  {
   "cell_type": "markdown",
   "id": "bc22951f-44b4-4f4c-a49f-e542d73337eb",
   "metadata": {},
   "source": [
    "##### 3. Достаем модель\n",
    "\n",
    "\n",
    "P.S. Сейчас, дабы не блочится о модель от Вани - обучим самостоятельно на простых фичах и будет ее использовать,\n",
    "как бейзлайн\n",
    "\n",
    "P.P.S В 4-ом ноутбуке поменяет данные, чтобы получить другие метрики. Это нужно, чтобы потом можно было показать функционал сравнения метрик в `MLFlow`"
   ]
  },
  {
   "cell_type": "code",
   "execution_count": 7,
   "id": "dd5bc6c1-4325-440c-ba2c-d4e99399c60a",
   "metadata": {},
   "outputs": [
    {
     "name": "stdout",
     "output_type": "stream",
     "text": [
      "CPU times: user 655 ms, sys: 708 ms, total: 1.36 s\n",
      "Wall time: 590 ms\n"
     ]
    },
    {
     "data": {
      "text/plain": [
       "<catboost.core.CatBoostClassifier at 0x103e6cfd0>"
      ]
     },
     "execution_count": 7,
     "metadata": {},
     "output_type": "execute_result"
    }
   ],
   "source": [
    "%%time\n",
    "\n",
    "from catboost import CatBoostClassifier\n",
    "\n",
    "\n",
    "model = CatBoostClassifier(max_depth=4, iterations=512, verbose = False)\n",
    "features = [\"monthly_charges\", \"total_charges\", \"senior_citizen\"]\n",
    "target = \"target\"\n",
    "\n",
    "percent = 40\n",
    "test_size = int(df.shape[0] - df.shape[0]/100 * percent)\n",
    "\n",
    "X_train, X_test = df[features][:test_size], df[features][test_size:]\n",
    "y_train, y_test = df[target][:test_size], df[target][test_size:]\n",
    "\n",
    "\n",
    "model.fit(X_train, y_train, cat_features=[features[-1]])"
   ]
  },
  {
   "cell_type": "markdown",
   "id": "129a6865-338e-4a13-9fe1-14e3e3b2d47d",
   "metadata": {},
   "source": [
    "##### 4. Прогоним модель на тестовых данных и залогируем метрики с моделью"
   ]
  },
  {
   "cell_type": "code",
   "execution_count": 8,
   "id": "f8889c40-2b63-4965-a798-a1e8bd56d2bf",
   "metadata": {},
   "outputs": [],
   "source": [
    "prediction = model.predict(X_test)\n",
    "probas = model.predict_proba(X_test)[:, 1]"
   ]
  },
  {
   "cell_type": "code",
   "execution_count": 9,
   "id": "e11b2e2f-d6cb-4f60-a2a0-0c3d09b7e8db",
   "metadata": {},
   "outputs": [],
   "source": [
    "metrics = {}\n",
    "\n",
    "_, err1, _, err2 = confusion_matrix(y_test, prediction, normalize='all').ravel()\n",
    "auc = roc_auc_score(y_test, probas)\n",
    "precision = precision_score(y_test, prediction)\n",
    "recall = recall_score(y_test, prediction)\n",
    "f1 = f1_score(y_test, prediction)\n",
    "logloss = log_loss(y_test, prediction)\n",
    "\n",
    "metrics[\"err1\"] = err1\n",
    "metrics[\"err2\"] = err2\n",
    "metrics[\"auc\"] = auc\n",
    "metrics[\"precision\"] = precision\n",
    "metrics[\"recall\"] = recall\n",
    "metrics[\"f1\"] = f1\n",
    "metrics[\"logloss\"] = logloss"
   ]
  },
  {
   "cell_type": "markdown",
   "id": "10e29c16-1378-48dd-877d-cd65292cced2",
   "metadata": {},
   "source": [
    "##### 5. Создадим окружение модели:\n",
    "- библиотеки: `pip_requirements`\n",
    "- входные/выходные данные: `signature`\n",
    "- пример входных данных: `input_example`"
   ]
  },
  {
   "cell_type": "code",
   "execution_count": 10,
   "id": "0cc16d54-0dee-40bc-aeb8-70893514e1d2",
   "metadata": {},
   "outputs": [
    {
     "name": "stderr",
     "output_type": "stream",
     "text": [
      "/Users/nikolaistepanov/.pyenv/versions/3.11.3/lib/python3.11/site-packages/mlflow/models/signature.py:212: UserWarning: Hint: Inferred schema contains integer column(s). Integer columns in Python cannot represent missing values. If your input data contains missing values at inference time, it will be encoded as floats and will cause a schema enforcement error. The best way to avoid this problem is to infer the model schema based on a realistic data sample (training dataset) that includes missing values. Alternatively, you can declare integer columns as doubles (float64) whenever these columns may have missing values. See `Handling Integers With Missing Values <https://www.mlflow.org/docs/latest/models.html#handling-integers-with-missing-values>`_ for more details.\n",
      "  inputs = _infer_schema(model_input) if model_input is not None else None\n"
     ]
    }
   ],
   "source": [
    "pip_requirements=\"../requirements.txt\" # can use conda_env or extra_pip_requirements\n",
    "signature = mlflow.models.infer_signature(X_test, prediction)\n",
    "input_example = X_test[:10]"
   ]
  },
  {
   "cell_type": "markdown",
   "id": "30ff19f3-05b6-461d-b15b-c490c0bac29a",
   "metadata": {},
   "source": [
    "##### 6. Подключимся к MLFLow и зарегистрируем модель"
   ]
  },
  {
   "cell_type": "code",
   "execution_count": 18,
   "id": "cc6a9185-f775-49aa-afde-8c06d154098e",
   "metadata": {},
   "outputs": [],
   "source": [
    "os.environ[\"MLFLOW_S3_ENDPOINT_URL\"] = \"...\"\n",
    "os.environ[\"AWS_ACCESS_KEY_ID\"] = \"...\"\n",
    "os.environ[\"AWS_SECRET_ACCESS_KEY\"] = \"...\""
   ]
  },
  {
   "cell_type": "code",
   "execution_count": 12,
   "id": "f1b9f2aa-369d-4748-8b47-e226eb0c9dbb",
   "metadata": {},
   "outputs": [],
   "source": [
    "mlflow.set_tracking_uri(f\"http://{TRACKING_SERVER_HOST}:{TRACKING_SERVER_PORT}\")\n",
    "mlflow.set_registry_uri(f\"http://{TRACKING_SERVER_HOST}:{TRACKING_SERVER_PORT}\")"
   ]
  },
  {
   "cell_type": "code",
   "execution_count": 13,
   "id": "828ff63e-b8d4-454b-b64a-a0e1f69ae436",
   "metadata": {},
   "outputs": [
    {
     "name": "stderr",
     "output_type": "stream",
     "text": [
      "Successfully registered model 'churn_model_nikolaistepanov'.\n",
      "2023/10/19 17:19:32 INFO mlflow.tracking._model_registry.client: Waiting up to 60 seconds for model version to finish creation. Model name: churn_model_nikolaistepanov, version 1\n",
      "Created version '1' of model 'churn_model_nikolaistepanov'.\n"
     ]
    }
   ],
   "source": [
    "experiment_id = mlflow.get_experiment_by_name(EXPERIMENT_NAME).experiment_id\n",
    "\n",
    "with mlflow.start_run(run_name=RUN_NAME, experiment_id=experiment_id) as run:\n",
    "    run_id = run.info.run_id\n",
    "    \n",
    "    mlflow.log_metrics(metrics)\n",
    "    model_info = mlflow.catboost.log_model(\n",
    "        cb_model=model,\n",
    "        artifact_path=\"models\",\n",
    "        signature=signature,\n",
    "        input_example=input_example,\n",
    "        registered_model_name=REGISTRY_MODEL_NAME,\n",
    "        await_registration_for=60,\n",
    "        pip_requirements=pip_requirements,\n",
    "    )"
   ]
  },
  {
   "cell_type": "markdown",
   "id": "ec5d647f-8728-4d5f-902f-105798ceecdb",
   "metadata": {},
   "source": [
    "##### 6.1. Проверим, что модель работает"
   ]
  },
  {
   "cell_type": "code",
   "execution_count": 14,
   "id": "3c683424-d563-4241-9b16-e092d76a5ac3",
   "metadata": {},
   "outputs": [],
   "source": [
    "loaded_model = mlflow.catboost.load_model(model_uri=model_info.model_uri)\n",
    "model_predictions = loaded_model.predict(X_test)"
   ]
  },
  {
   "cell_type": "code",
   "execution_count": 15,
   "id": "e84dc244-0ad5-41ab-bf4c-c00f322cdea3",
   "metadata": {},
   "outputs": [
    {
     "name": "stdout",
     "output_type": "stream",
     "text": [
      "[0 0 1 0 1 0 0 0 1 0]\n"
     ]
    }
   ],
   "source": [
    "assert model_predictions.dtype == int\n",
    "\n",
    "print(model_predictions[:10])"
   ]
  },
  {
   "cell_type": "code",
   "execution_count": null,
   "id": "aad87224-17de-4393-8894-0ed312b8589a",
   "metadata": {},
   "outputs": [],
   "source": []
  }
 ],
 "metadata": {
  "kernelspec": {
   "display_name": "Python 3 (ipykernel)",
   "language": "python",
   "name": "python3"
  },
  "language_info": {
   "codemirror_mode": {
    "name": "ipython",
    "version": 3
   },
   "file_extension": ".py",
   "mimetype": "text/x-python",
   "name": "python",
   "nbconvert_exporter": "python",
   "pygments_lexer": "ipython3",
   "version": "3.11.3"
  }
 },
 "nbformat": 4,
 "nbformat_minor": 5
}
