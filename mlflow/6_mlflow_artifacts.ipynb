{
 "cells": [
  {
   "cell_type": "code",
   "execution_count": 109,
   "id": "e1220e51-f215-4448-a4ae-9f5d25911fd0",
   "metadata": {},
   "outputs": [],
   "source": [
    "import os\n",
    "\n",
    "import mlflow\n",
    "from catboost import CatBoostClassifier"
   ]
  },
  {
   "cell_type": "markdown",
   "id": "bb3196a7-9bb7-4413-b71e-312b7c70c9b6",
   "metadata": {},
   "source": [
    "##### 1. Определим глобальные перменные"
   ]
  },
  {
   "cell_type": "code",
   "execution_count": 7,
   "id": "1aaaca92-f3dd-4abe-a3d4-7244b2516daf",
   "metadata": {},
   "outputs": [],
   "source": [
    "TRACKING_SERVER_HOST = \"127.0.0.1\"\n",
    "TRACKING_SERVER_PORT = 5000\n",
    "\n",
    "EXPERIMENT_NAME = \"churn_nikolaistepanov\"\n",
    "REGISTRY_MODEL_NAME = \"churn_model_nikolaistepanov_prepared\""
   ]
  },
  {
   "cell_type": "markdown",
   "id": "9c5b78cb-c212-4457-af4c-706da14bf77e",
   "metadata": {},
   "source": [
    "##### 2. Подключимся к MLFLow "
   ]
  },
  {
   "cell_type": "code",
   "execution_count": 8,
   "id": "10b9ef8e-f377-41dc-841a-604bb94890ac",
   "metadata": {},
   "outputs": [],
   "source": [
    "os.environ[\"MLFLOW_S3_ENDPOINT_URL\"] = \"...\"\n",
    "os.environ[\"AWS_ACCESS_KEY_ID\"] = \"...\"\n",
    "os.environ[\"AWS_SECRET_ACCESS_KEY\"] = \"...\""
   ]
  },
  {
   "cell_type": "code",
   "execution_count": 9,
   "id": "5467ae95-a15f-473d-880b-252c76076264",
   "metadata": {},
   "outputs": [],
   "source": [
    "mlflow.set_tracking_uri(f\"http://{TRACKING_SERVER_HOST}:{TRACKING_SERVER_PORT}\")\n",
    "mlflow.set_registry_uri(f\"http://{TRACKING_SERVER_HOST}:{TRACKING_SERVER_PORT}\")"
   ]
  },
  {
   "cell_type": "markdown",
   "id": "b4c7c88c-60d5-4688-97a3-bac473f04d01",
   "metadata": {},
   "source": [
    "##### 3. Научимся доставть информацию из MLFlow\n",
    "- информацию о запусках внутри эксперимента\n",
    "- метрики\n",
    "- артефакты\n",
    "- модель"
   ]
  },
  {
   "cell_type": "markdown",
   "id": "7aac127d-9ace-4ee3-909c-71f4f514a545",
   "metadata": {},
   "source": [
    "##### 3.1. Получим всю необходимую информацию"
   ]
  },
  {
   "cell_type": "code",
   "execution_count": 10,
   "id": "f0ba16bd-b0c2-4f5f-87ed-781f582479a5",
   "metadata": {},
   "outputs": [],
   "source": [
    "client = mlflow.MlflowClient()"
   ]
  },
  {
   "cell_type": "code",
   "execution_count": 63,
   "id": "8d79ba84-edeb-48ae-9924-4ca9a562cea0",
   "metadata": {},
   "outputs": [],
   "source": [
    "experiment = client.get_experiment_by_name(EXPERIMENT_NAME)\n",
    "experiment_id = experiment.experiment_id\n",
    "experiment_runs = mlflow.search_runs(\n",
    "    experiment_ids=[experiment_id],\n",
    ").sort_values(by=\"start_time\", ascending=False)"
   ]
  },
  {
   "cell_type": "code",
   "execution_count": 97,
   "id": "63b6d5e6-06fa-46f6-a579-87334b640ef1",
   "metadata": {},
   "outputs": [
    {
     "name": "stdout",
     "output_type": "stream",
     "text": [
      "Путь до всех артефактов эксперимента: 's3://s3-student-mle-case/7'\n"
     ]
    }
   ],
   "source": [
    "print(f\"Путь до всех артефактов эксперимента: '{experiment.artifact_location}'\")"
   ]
  },
  {
   "cell_type": "markdown",
   "id": "dd214a05-c798-4090-92a3-d25d42ab17b0",
   "metadata": {},
   "source": [
    "##### 3.2. Посмотрим на все наши запуски"
   ]
  },
  {
   "cell_type": "code",
   "execution_count": 45,
   "id": "74fd51b8-1daa-4322-8a37-16bfcae4c747",
   "metadata": {},
   "outputs": [
    {
     "data": {
      "text/html": [
       "<div>\n",
       "<style scoped>\n",
       "    .dataframe tbody tr th:only-of-type {\n",
       "        vertical-align: middle;\n",
       "    }\n",
       "\n",
       "    .dataframe tbody tr th {\n",
       "        vertical-align: top;\n",
       "    }\n",
       "\n",
       "    .dataframe thead th {\n",
       "        text-align: right;\n",
       "    }\n",
       "</style>\n",
       "<table border=\"1\" class=\"dataframe\">\n",
       "  <thead>\n",
       "    <tr style=\"text-align: right;\">\n",
       "      <th></th>\n",
       "      <th>run_id</th>\n",
       "      <th>experiment_id</th>\n",
       "      <th>status</th>\n",
       "      <th>artifact_uri</th>\n",
       "      <th>start_time</th>\n",
       "      <th>end_time</th>\n",
       "      <th>metrics.err1</th>\n",
       "      <th>metrics.err2</th>\n",
       "      <th>metrics.logloss</th>\n",
       "      <th>metrics.recall</th>\n",
       "      <th>...</th>\n",
       "      <th>metrics.paperless_billing_No</th>\n",
       "      <th>metrics.streaming_movies_Yes</th>\n",
       "      <th>metrics.type_Two year</th>\n",
       "      <th>metrics.gender_Male</th>\n",
       "      <th>tags.mlflow.log-model.history</th>\n",
       "      <th>tags.mlflow.source.git.commit</th>\n",
       "      <th>tags.mlflow.source.name</th>\n",
       "      <th>tags.mlflow.user</th>\n",
       "      <th>tags.mlflow.runName</th>\n",
       "      <th>tags.mlflow.source.type</th>\n",
       "    </tr>\n",
       "  </thead>\n",
       "  <tbody>\n",
       "    <tr>\n",
       "      <th>0</th>\n",
       "      <td>1bf428a8ab16490e83dbd2283b92c512</td>\n",
       "      <td>7</td>\n",
       "      <td>FINISHED</td>\n",
       "      <td>s3://s3-student-mle-case/7/1bf428a8ab16490e83d...</td>\n",
       "      <td>2023-10-19 14:34:00.443000+00:00</td>\n",
       "      <td>2023-10-19 14:34:03.060000+00:00</td>\n",
       "      <td>0.058211</td>\n",
       "      <td>0.117842</td>\n",
       "      <td>7.505541</td>\n",
       "      <td>0.439929</td>\n",
       "      <td>...</td>\n",
       "      <td>NaN</td>\n",
       "      <td>NaN</td>\n",
       "      <td>NaN</td>\n",
       "      <td>NaN</td>\n",
       "      <td>[{\"run_id\": \"1bf428a8ab16490e83dbd2283b92c512\"...</td>\n",
       "      <td>a57e0b5019c1d5d08d3311306bde3cf6c58997a2</td>\n",
       "      <td>/Users/nikolaistepanov/.pyenv/versions/3.11.3/...</td>\n",
       "      <td>nikolaistepanov</td>\n",
       "      <td>model_0_versioning</td>\n",
       "      <td>LOCAL</td>\n",
       "    </tr>\n",
       "    <tr>\n",
       "      <th>1</th>\n",
       "      <td>209f98b6c1ac445c9cd5e602a45c835c</td>\n",
       "      <td>7</td>\n",
       "      <td>FINISHED</td>\n",
       "      <td>s3://s3-student-mle-case/7/209f98b6c1ac445c9cd...</td>\n",
       "      <td>2023-10-19 14:19:29.233000+00:00</td>\n",
       "      <td>2023-10-19 14:19:32.013000+00:00</td>\n",
       "      <td>0.054294</td>\n",
       "      <td>0.124202</td>\n",
       "      <td>7.239428</td>\n",
       "      <td>0.458716</td>\n",
       "      <td>...</td>\n",
       "      <td>NaN</td>\n",
       "      <td>NaN</td>\n",
       "      <td>NaN</td>\n",
       "      <td>NaN</td>\n",
       "      <td>[{\"run_id\": \"209f98b6c1ac445c9cd5e602a45c835c\"...</td>\n",
       "      <td>a57e0b5019c1d5d08d3311306bde3cf6c58997a2</td>\n",
       "      <td>/Users/nikolaistepanov/.pyenv/versions/3.11.3/...</td>\n",
       "      <td>nikolaistepanov</td>\n",
       "      <td>model_0_registry</td>\n",
       "      <td>LOCAL</td>\n",
       "    </tr>\n",
       "    <tr>\n",
       "      <th>2</th>\n",
       "      <td>0c2a8e91d1e04a9caaa647beb6820ec4</td>\n",
       "      <td>7</td>\n",
       "      <td>FINISHED</td>\n",
       "      <td>s3://s3-student-mle-case/7/0c2a8e91d1e04a9caaa...</td>\n",
       "      <td>2023-10-19 13:31:00.151000+00:00</td>\n",
       "      <td>2023-10-19 13:31:02.745000+00:00</td>\n",
       "      <td>0.057488</td>\n",
       "      <td>0.124202</td>\n",
       "      <td>7.341752</td>\n",
       "      <td>0.459318</td>\n",
       "      <td>...</td>\n",
       "      <td>NaN</td>\n",
       "      <td>NaN</td>\n",
       "      <td>NaN</td>\n",
       "      <td>NaN</td>\n",
       "      <td>[{\"run_id\": \"0c2a8e91d1e04a9caaa647beb6820ec4\"...</td>\n",
       "      <td>a57e0b5019c1d5d08d3311306bde3cf6c58997a2</td>\n",
       "      <td>/Users/nikolaistepanov/.pyenv/versions/3.11.3/...</td>\n",
       "      <td>nikolaistepanov</td>\n",
       "      <td>model_0_custom_model</td>\n",
       "      <td>LOCAL</td>\n",
       "    </tr>\n",
       "    <tr>\n",
       "      <th>3</th>\n",
       "      <td>e5d9484a38d04a35ac457e4854f9912d</td>\n",
       "      <td>7</td>\n",
       "      <td>FINISHED</td>\n",
       "      <td>s3://s3-student-mle-case/7/e5d9484a38d04a35ac4...</td>\n",
       "      <td>2023-10-19 13:30:37.464000+00:00</td>\n",
       "      <td>2023-10-19 13:30:40.876000+00:00</td>\n",
       "      <td>0.057488</td>\n",
       "      <td>0.124202</td>\n",
       "      <td>7.341752</td>\n",
       "      <td>0.459318</td>\n",
       "      <td>...</td>\n",
       "      <td>NaN</td>\n",
       "      <td>NaN</td>\n",
       "      <td>NaN</td>\n",
       "      <td>NaN</td>\n",
       "      <td>[{\"run_id\": \"e5d9484a38d04a35ac457e4854f9912d\"...</td>\n",
       "      <td>a57e0b5019c1d5d08d3311306bde3cf6c58997a2</td>\n",
       "      <td>/Users/nikolaistepanov/.pyenv/versions/3.11.3/...</td>\n",
       "      <td>nikolaistepanov</td>\n",
       "      <td>model_0</td>\n",
       "      <td>LOCAL</td>\n",
       "    </tr>\n",
       "    <tr>\n",
       "      <th>4</th>\n",
       "      <td>d9f8d580f14040408e8d4645e2bcaaf2</td>\n",
       "      <td>7</td>\n",
       "      <td>FINISHED</td>\n",
       "      <td>s3://s3-student-mle-case/7/d9f8d580f14040408e8...</td>\n",
       "      <td>2023-10-18 10:25:56.800000+00:00</td>\n",
       "      <td>2023-10-18 10:25:59.736000+00:00</td>\n",
       "      <td>NaN</td>\n",
       "      <td>NaN</td>\n",
       "      <td>NaN</td>\n",
       "      <td>NaN</td>\n",
       "      <td>...</td>\n",
       "      <td>2872.0</td>\n",
       "      <td>2732.0</td>\n",
       "      <td>1695.0</td>\n",
       "      <td>3555.0</td>\n",
       "      <td>None</td>\n",
       "      <td>a57e0b5019c1d5d08d3311306bde3cf6c58997a2</td>\n",
       "      <td>/Users/nikolaistepanov/.pyenv/versions/3.11.3/...</td>\n",
       "      <td>nikolaistepanov</td>\n",
       "      <td>data_check</td>\n",
       "      <td>LOCAL</td>\n",
       "    </tr>\n",
       "  </tbody>\n",
       "</table>\n",
       "<p>5 rows × 61 columns</p>\n",
       "</div>"
      ],
      "text/plain": [
       "                             run_id experiment_id    status  \\\n",
       "0  1bf428a8ab16490e83dbd2283b92c512             7  FINISHED   \n",
       "1  209f98b6c1ac445c9cd5e602a45c835c             7  FINISHED   \n",
       "2  0c2a8e91d1e04a9caaa647beb6820ec4             7  FINISHED   \n",
       "3  e5d9484a38d04a35ac457e4854f9912d             7  FINISHED   \n",
       "4  d9f8d580f14040408e8d4645e2bcaaf2             7  FINISHED   \n",
       "\n",
       "                                        artifact_uri  \\\n",
       "0  s3://s3-student-mle-case/7/1bf428a8ab16490e83d...   \n",
       "1  s3://s3-student-mle-case/7/209f98b6c1ac445c9cd...   \n",
       "2  s3://s3-student-mle-case/7/0c2a8e91d1e04a9caaa...   \n",
       "3  s3://s3-student-mle-case/7/e5d9484a38d04a35ac4...   \n",
       "4  s3://s3-student-mle-case/7/d9f8d580f14040408e8...   \n",
       "\n",
       "                        start_time                         end_time  \\\n",
       "0 2023-10-19 14:34:00.443000+00:00 2023-10-19 14:34:03.060000+00:00   \n",
       "1 2023-10-19 14:19:29.233000+00:00 2023-10-19 14:19:32.013000+00:00   \n",
       "2 2023-10-19 13:31:00.151000+00:00 2023-10-19 13:31:02.745000+00:00   \n",
       "3 2023-10-19 13:30:37.464000+00:00 2023-10-19 13:30:40.876000+00:00   \n",
       "4 2023-10-18 10:25:56.800000+00:00 2023-10-18 10:25:59.736000+00:00   \n",
       "\n",
       "   metrics.err1  metrics.err2  metrics.logloss  metrics.recall  ...  \\\n",
       "0      0.058211      0.117842         7.505541        0.439929  ...   \n",
       "1      0.054294      0.124202         7.239428        0.458716  ...   \n",
       "2      0.057488      0.124202         7.341752        0.459318  ...   \n",
       "3      0.057488      0.124202         7.341752        0.459318  ...   \n",
       "4           NaN           NaN              NaN             NaN  ...   \n",
       "\n",
       "   metrics.paperless_billing_No  metrics.streaming_movies_Yes  \\\n",
       "0                           NaN                           NaN   \n",
       "1                           NaN                           NaN   \n",
       "2                           NaN                           NaN   \n",
       "3                           NaN                           NaN   \n",
       "4                        2872.0                        2732.0   \n",
       "\n",
       "   metrics.type_Two year  metrics.gender_Male  \\\n",
       "0                    NaN                  NaN   \n",
       "1                    NaN                  NaN   \n",
       "2                    NaN                  NaN   \n",
       "3                    NaN                  NaN   \n",
       "4                 1695.0               3555.0   \n",
       "\n",
       "                       tags.mlflow.log-model.history  \\\n",
       "0  [{\"run_id\": \"1bf428a8ab16490e83dbd2283b92c512\"...   \n",
       "1  [{\"run_id\": \"209f98b6c1ac445c9cd5e602a45c835c\"...   \n",
       "2  [{\"run_id\": \"0c2a8e91d1e04a9caaa647beb6820ec4\"...   \n",
       "3  [{\"run_id\": \"e5d9484a38d04a35ac457e4854f9912d\"...   \n",
       "4                                               None   \n",
       "\n",
       "              tags.mlflow.source.git.commit  \\\n",
       "0  a57e0b5019c1d5d08d3311306bde3cf6c58997a2   \n",
       "1  a57e0b5019c1d5d08d3311306bde3cf6c58997a2   \n",
       "2  a57e0b5019c1d5d08d3311306bde3cf6c58997a2   \n",
       "3  a57e0b5019c1d5d08d3311306bde3cf6c58997a2   \n",
       "4  a57e0b5019c1d5d08d3311306bde3cf6c58997a2   \n",
       "\n",
       "                             tags.mlflow.source.name  tags.mlflow.user  \\\n",
       "0  /Users/nikolaistepanov/.pyenv/versions/3.11.3/...   nikolaistepanov   \n",
       "1  /Users/nikolaistepanov/.pyenv/versions/3.11.3/...   nikolaistepanov   \n",
       "2  /Users/nikolaistepanov/.pyenv/versions/3.11.3/...   nikolaistepanov   \n",
       "3  /Users/nikolaistepanov/.pyenv/versions/3.11.3/...   nikolaistepanov   \n",
       "4  /Users/nikolaistepanov/.pyenv/versions/3.11.3/...   nikolaistepanov   \n",
       "\n",
       "    tags.mlflow.runName  tags.mlflow.source.type  \n",
       "0    model_0_versioning                    LOCAL  \n",
       "1      model_0_registry                    LOCAL  \n",
       "2  model_0_custom_model                    LOCAL  \n",
       "3               model_0                    LOCAL  \n",
       "4            data_check                    LOCAL  \n",
       "\n",
       "[5 rows x 61 columns]"
      ]
     },
     "execution_count": 45,
     "metadata": {},
     "output_type": "execute_result"
    }
   ],
   "source": [
    "experiment_runs"
   ]
  },
  {
   "cell_type": "markdown",
   "id": "911e9f10-659a-4d15-b253-a66f59d655df",
   "metadata": {},
   "source": [
    "##### 3.2. Посмотрим все наши метрики. Для примера зафиксируем наш run"
   ]
  },
  {
   "cell_type": "code",
   "execution_count": 117,
   "id": "e71f1c9b-278b-4373-8ef5-5890c20453c8",
   "metadata": {},
   "outputs": [],
   "source": [
    "run = \"0c2a8e91d1e04a9caaa647beb6820ec4\""
   ]
  },
  {
   "cell_type": "code",
   "execution_count": 57,
   "id": "9b3ac4d2-d717-46a9-a410-1be65696dd3c",
   "metadata": {},
   "outputs": [
    {
     "data": {
      "text/html": [
       "<div>\n",
       "<style scoped>\n",
       "    .dataframe tbody tr th:only-of-type {\n",
       "        vertical-align: middle;\n",
       "    }\n",
       "\n",
       "    .dataframe tbody tr th {\n",
       "        vertical-align: top;\n",
       "    }\n",
       "\n",
       "    .dataframe thead th {\n",
       "        text-align: right;\n",
       "    }\n",
       "</style>\n",
       "<table border=\"1\" class=\"dataframe\">\n",
       "  <thead>\n",
       "    <tr style=\"text-align: right;\">\n",
       "      <th></th>\n",
       "      <th>run_id</th>\n",
       "      <th>start_time</th>\n",
       "      <th>metrics.err1</th>\n",
       "      <th>metrics.err2</th>\n",
       "      <th>metrics.logloss</th>\n",
       "      <th>metrics.recall</th>\n",
       "      <th>metrics.auc</th>\n",
       "      <th>metrics.f1</th>\n",
       "      <th>metrics.precision</th>\n",
       "    </tr>\n",
       "  </thead>\n",
       "  <tbody>\n",
       "    <tr>\n",
       "      <th>0</th>\n",
       "      <td>1bf428a8ab16490e83dbd2283b92c512</td>\n",
       "      <td>2023-10-19 14:34:00.443000+00:00</td>\n",
       "      <td>0.058211</td>\n",
       "      <td>0.117842</td>\n",
       "      <td>7.505541</td>\n",
       "      <td>0.439929</td>\n",
       "      <td>0.817497</td>\n",
       "      <td>0.530917</td>\n",
       "      <td>0.669355</td>\n",
       "    </tr>\n",
       "    <tr>\n",
       "      <th>1</th>\n",
       "      <td>209f98b6c1ac445c9cd5e602a45c835c</td>\n",
       "      <td>2023-10-19 14:19:29.233000+00:00</td>\n",
       "      <td>0.054294</td>\n",
       "      <td>0.124202</td>\n",
       "      <td>7.239428</td>\n",
       "      <td>0.458716</td>\n",
       "      <td>0.822151</td>\n",
       "      <td>0.552923</td>\n",
       "      <td>0.695825</td>\n",
       "    </tr>\n",
       "    <tr>\n",
       "      <th>2</th>\n",
       "      <td>0c2a8e91d1e04a9caaa647beb6820ec4</td>\n",
       "      <td>2023-10-19 13:31:00.151000+00:00</td>\n",
       "      <td>0.057488</td>\n",
       "      <td>0.124202</td>\n",
       "      <td>7.341752</td>\n",
       "      <td>0.459318</td>\n",
       "      <td>0.825564</td>\n",
       "      <td>0.549451</td>\n",
       "      <td>0.683594</td>\n",
       "    </tr>\n",
       "    <tr>\n",
       "      <th>3</th>\n",
       "      <td>e5d9484a38d04a35ac457e4854f9912d</td>\n",
       "      <td>2023-10-19 13:30:37.464000+00:00</td>\n",
       "      <td>0.057488</td>\n",
       "      <td>0.124202</td>\n",
       "      <td>7.341752</td>\n",
       "      <td>0.459318</td>\n",
       "      <td>0.825564</td>\n",
       "      <td>0.549451</td>\n",
       "      <td>0.683594</td>\n",
       "    </tr>\n",
       "  </tbody>\n",
       "</table>\n",
       "</div>"
      ],
      "text/plain": [
       "                             run_id                       start_time  \\\n",
       "0  1bf428a8ab16490e83dbd2283b92c512 2023-10-19 14:34:00.443000+00:00   \n",
       "1  209f98b6c1ac445c9cd5e602a45c835c 2023-10-19 14:19:29.233000+00:00   \n",
       "2  0c2a8e91d1e04a9caaa647beb6820ec4 2023-10-19 13:31:00.151000+00:00   \n",
       "3  e5d9484a38d04a35ac457e4854f9912d 2023-10-19 13:30:37.464000+00:00   \n",
       "\n",
       "   metrics.err1  metrics.err2  metrics.logloss  metrics.recall  metrics.auc  \\\n",
       "0      0.058211      0.117842         7.505541        0.439929     0.817497   \n",
       "1      0.054294      0.124202         7.239428        0.458716     0.822151   \n",
       "2      0.057488      0.124202         7.341752        0.459318     0.825564   \n",
       "3      0.057488      0.124202         7.341752        0.459318     0.825564   \n",
       "\n",
       "   metrics.f1  metrics.precision  \n",
       "0    0.530917           0.669355  \n",
       "1    0.552923           0.695825  \n",
       "2    0.549451           0.683594  \n",
       "3    0.549451           0.683594  "
      ]
     },
     "execution_count": 57,
     "metadata": {},
     "output_type": "execute_result"
    }
   ],
   "source": [
    "experiment_runs[[\n",
    "    \"run_id\", \"start_time\",\n",
    "    \"metrics.err1\", 'metrics.err2', 'metrics.logloss',\n",
    "    \"metrics.recall\", 'metrics.auc', 'metrics.f1', 'metrics.precision'\n",
    "]].dropna()"
   ]
  },
  {
   "cell_type": "markdown",
   "id": "cb0d394a-2967-438e-88aa-533b3e4f71bf",
   "metadata": {},
   "source": [
    "##### 3.3. Можем посмотреть как на конкретную метрику, так и на все"
   ]
  },
  {
   "cell_type": "code",
   "execution_count": 114,
   "id": "88cd7b3e-29c6-49a1-8ac2-94be7c0a1abe",
   "metadata": {},
   "outputs": [
    {
     "data": {
      "text/plain": [
       "[<Metric: key='logloss', step=0, timestamp=1697722260419, value=7.3417519678329475>]"
      ]
     },
     "execution_count": 114,
     "metadata": {},
     "output_type": "execute_result"
    }
   ],
   "source": [
    "client.get_metric_history(run, \"logloss\")"
   ]
  },
  {
   "cell_type": "code",
   "execution_count": 115,
   "id": "d12ef620-0fd1-4f29-9842-2b4b1db00e0a",
   "metadata": {},
   "outputs": [
    {
     "data": {
      "text/plain": [
       "{'err1': 0.057487579843860895,\n",
       " 'err2': 0.1242015613910575,\n",
       " 'auc': 0.8255639980800066,\n",
       " 'precision': 0.68359375,\n",
       " 'recall': 0.45931758530183725,\n",
       " 'f1': 0.5494505494505495,\n",
       " 'logloss': 7.3417519678329475}"
      ]
     },
     "execution_count": 115,
     "metadata": {},
     "output_type": "execute_result"
    }
   ],
   "source": [
    "client.get_run(run).data.metrics"
   ]
  },
  {
   "cell_type": "markdown",
   "id": "7e4d9139-83dd-43ab-a025-045a64b72c85",
   "metadata": {},
   "source": [
    "##### 3.4. Достанем `dataframe` для обучения, который мы логировали в самом начале"
   ]
  },
  {
   "cell_type": "code",
   "execution_count": 116,
   "id": "9e10c367-a6f4-4df0-81ab-511890cb306a",
   "metadata": {},
   "outputs": [],
   "source": [
    "run = \"d9f8d580f14040408e8d4645e2bcaaf2\""
   ]
  },
  {
   "cell_type": "code",
   "execution_count": 86,
   "id": "1b90526f-26ac-4db5-b174-b81b89e2b184",
   "metadata": {},
   "outputs": [
    {
     "name": "stdout",
     "output_type": "stream",
     "text": [
      "Путь артефакта в S3: 's3://s3-student-mle-case/7/d9f8d580f14040408e8d4645e2bcaaf2/artifacts'\n"
     ]
    }
   ],
   "source": [
    "run = client.get_run(run)\n",
    "artifact_uri = run.info.artifact_uri\n",
    "\n",
    "print(f\"Путь артефакта в S3: '{artifact_uri}'\")"
   ]
  },
  {
   "cell_type": "code",
   "execution_count": 78,
   "id": "da80a0a8-4484-4fed-88a5-e3f1204632a9",
   "metadata": {},
   "outputs": [
    {
     "data": {
      "text/plain": [
       "'/Users/nikolaistepanov/YandexPracticum/mle-sprint2/mlflow/dataset/artifacts'"
      ]
     },
     "execution_count": 78,
     "metadata": {},
     "output_type": "execute_result"
    }
   ],
   "source": [
    "mlflow.artifacts.download_artifacts(artifact_uri, dst_path=\"./dataset\")"
   ]
  },
  {
   "cell_type": "markdown",
   "id": "17795837-1513-413e-87d0-9e2aebd7ca85",
   "metadata": {},
   "source": [
    "##### 3.5. Достанем модели"
   ]
  },
  {
   "cell_type": "code",
   "execution_count": 112,
   "id": "fb3a488b-8a60-4d18-8d8e-adc801f11d8c",
   "metadata": {},
   "outputs": [
    {
     "name": "stdout",
     "output_type": "stream",
     "text": [
      "Путь до 1-ой модели в S3: 's3://s3-student-mle-case/7/209f98b6c1ac445c9cd5e602a45c835c/artifacts/models'\n",
      "Путь до 2-ой модели в S3: 's3://s3-student-mle-case/7/1bf428a8ab16490e83dbd2283b92c512/artifacts/models'\n"
     ]
    }
   ],
   "source": [
    "model_1_uri = client.get_model_version_download_uri(REGISTRY_MODEL_NAME, \"1\")\n",
    "model_2_uri = client.get_model_version_download_uri(REGISTRY_MODEL_NAME, \"2\")\n",
    "\n",
    "print(f\"Путь до 1-ой модели в S3: '{model_1_uri}'\")\n",
    "print(f\"Путь до 2-ой модели в S3: '{model_2_uri}'\")"
   ]
  },
  {
   "cell_type": "code",
   "execution_count": 106,
   "id": "eb58afc9-aa6c-49d0-83ea-d0096ecf58fc",
   "metadata": {},
   "outputs": [],
   "source": [
    "model_1 = mlflow.catboost.load_model(model_1_uri)\n",
    "model_2 = mlflow.catboost.load_model(model_2_uri)"
   ]
  },
  {
   "cell_type": "code",
   "execution_count": 111,
   "id": "b276eaf5-dc59-4d12-bc71-c8cacbcce473",
   "metadata": {},
   "outputs": [],
   "source": [
    "assert isinstance(model_1, CatBoostClassifier)\n",
    "assert isinstance(model_2, CatBoostClassifier)"
   ]
  },
  {
   "cell_type": "code",
   "execution_count": null,
   "id": "466531e8-0e7d-4987-a507-fad77c593547",
   "metadata": {},
   "outputs": [],
   "source": []
  }
 ],
 "metadata": {
  "kernelspec": {
   "display_name": "Python 3 (ipykernel)",
   "language": "python",
   "name": "python3"
  },
  "language_info": {
   "codemirror_mode": {
    "name": "ipython",
    "version": 3
   },
   "file_extension": ".py",
   "mimetype": "text/x-python",
   "name": "python",
   "nbconvert_exporter": "python",
   "pygments_lexer": "ipython3",
   "version": "3.11.3"
  }
 },
 "nbformat": 4,
 "nbformat_minor": 5
}
