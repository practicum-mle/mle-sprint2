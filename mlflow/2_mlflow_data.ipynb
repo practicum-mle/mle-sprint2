{
 "cells": [
  {
   "cell_type": "markdown",
   "id": "58f6b06a-a952-40b6-ac62-7ee3e1c7f606",
   "metadata": {},
   "source": [
    "##### 1. Установим новые библиотеки для получения и работы с данными"
   ]
  },
  {
   "cell_type": "code",
   "execution_count": 1,
   "id": "cc2bca70-0786-4728-adeb-4047fadc8ba4",
   "metadata": {},
   "outputs": [],
   "source": [
    "%pip install psycopg==3.1.12\n",
    "%pip install \"psycopg[binary,pool]\"\n",
    "%pip install pandas==2.1.1"
   ]
  },
  {
   "cell_type": "markdown",
   "id": "fcaa28ce-d0ac-47ad-839a-90fd2dd4d89e",
   "metadata": {},
   "source": [
    "##### 2. Определим глобальные перменные"
   ]
  },
  {
   "cell_type": "code",
   "execution_count": 2,
   "id": "90a4c6d9-4cfa-4c67-b655-ff6dc6c2ab6b",
   "metadata": {},
   "outputs": [],
   "source": [
    "TABLE_NAME = \"users_churn\"\n",
    "\n",
    "TRACKING_SERVER_HOST = \"127.0.0.1\"\n",
    "TRACKING_SERVER_PORT = 5000\n",
    "\n",
    "EXPERIMENT_NAME = \"churn_nikolaistepanov\"\n",
    "RUN_NAME = \"data_check\""
   ]
  },
  {
   "cell_type": "code",
   "execution_count": 33,
   "id": "397094e1-20f7-4df0-b2f3-e536774d5581",
   "metadata": {},
   "outputs": [],
   "source": [
    "import os\n",
    "\n",
    "import psycopg\n",
    "import pandas as pd\n",
    "import mlflow"
   ]
  },
  {
   "cell_type": "markdown",
   "id": "0b42529c-5090-4ce1-aec4-161994de5097",
   "metadata": {},
   "source": [
    "##### 3. Заберем данные из базы данных и сформируем `dataframe`"
   ]
  },
  {
   "cell_type": "code",
   "execution_count": 4,
   "id": "593906fa-e0ce-420b-a2b7-67d157d013f5",
   "metadata": {},
   "outputs": [],
   "source": [
    "connection = {\"sslmode\": \"verify-full\", \"target_session_attrs\": \"read-write\"}\n",
    "postgres_credentials = {\n",
    "    \"host\": os.getenv(\"POSTGRES_HOST\"),\n",
    "    \"port\": os.getenv(\"POSTGRES_PORT\"),\n",
    "    \"dbname\": os.getenv(\"POSTGRES_DBNAME\"),\n",
    "    \"user\": os.getenv(\"POSTGRES_USER\"),\n",
    "    \"password\": os.getenv(\"POSTGRES_PASSWORD\"),\n",
    "}\n",
    "\n",
    "connection.update(postgres_credentials)"
   ]
  },
  {
   "cell_type": "code",
   "execution_count": 5,
   "id": "aade1890-188a-4ef6-b278-eeefad26526f",
   "metadata": {},
   "outputs": [],
   "source": [
    "with psycopg.connect(**connection) as conn:\n",
    "\n",
    "    with conn.cursor() as cur:\n",
    "        cur.execute(f\"SELECT * FROM {TABLE_NAME}\")\n",
    "        data = cur.fetchall()\n",
    "        columns = [col[0] for col in cur.description]\n",
    "\n",
    "    # ATTENTION: don't use a sctipt below:\n",
    "    # cur.execute(\"SELECT column_name FROM information_schema.columns WHERE table_name = 'your_table_name'\")\n",
    "\n",
    "df = pd.DataFrame(data, columns=columns)"
   ]
  },
  {
   "cell_type": "markdown",
   "id": "2cbf1a23-b2be-4be0-beec-4626ded24beb",
   "metadata": {},
   "source": [
    "##### 4. Базово посмотрим dataframe - залогируем метрики в базу данных и сам `dataframe` в `Object Storage`"
   ]
  },
  {
   "cell_type": "markdown",
   "id": "6c03acdf-f7dc-4d76-9ddf-2216a64ce764",
   "metadata": {},
   "source": [
    "##### 4.1. Поднимаем `MLFlow` и подключаемся к нему, как в предыдущем уроке"
   ]
  },
  {
   "cell_type": "code",
   "execution_count": 7,
   "id": "e960230c-dccf-4265-bc30-01e82fc788b0",
   "metadata": {},
   "outputs": [],
   "source": [
    "os.environ[\"MLFLOW_S3_ENDPOINT_URL\"] = \"...\"\n",
    "os.environ[\"AWS_ACCESS_KEY_ID\"] = \"...\"\n",
    "os.environ[\"AWS_SECRET_ACCESS_KEY\"] = \"...\""
   ]
  },
  {
   "cell_type": "code",
   "execution_count": 10,
   "id": "ad55b19e-5567-4278-a6fa-9f888fe59fe5",
   "metadata": {},
   "outputs": [],
   "source": [
    "mlflow.set_tracking_uri(f\"http://{TRACKING_SERVER_HOST}:{TRACKING_SERVER_PORT}\")"
   ]
  },
  {
   "cell_type": "markdown",
   "id": "b3684ec5-47a3-4eb4-84b5-18c60d082502",
   "metadata": {},
   "source": [
    "##### 4.2. Подготовим данные для записи:\n",
    "- названия колонок\n",
    "- метрики `dataframe`\n",
    "- файл с `dataframe`"
   ]
  },
  {
   "cell_type": "code",
   "execution_count": 12,
   "id": "c40e626f-b4c7-497e-889f-cf98d6996dd3",
   "metadata": {},
   "outputs": [
    {
     "data": {
      "text/html": [
       "<div>\n",
       "<style scoped>\n",
       "    .dataframe tbody tr th:only-of-type {\n",
       "        vertical-align: middle;\n",
       "    }\n",
       "\n",
       "    .dataframe tbody tr th {\n",
       "        vertical-align: top;\n",
       "    }\n",
       "\n",
       "    .dataframe thead th {\n",
       "        text-align: right;\n",
       "    }\n",
       "</style>\n",
       "<table border=\"1\" class=\"dataframe\">\n",
       "  <thead>\n",
       "    <tr style=\"text-align: right;\">\n",
       "      <th></th>\n",
       "      <th>id</th>\n",
       "      <th>customer_id</th>\n",
       "      <th>begin_date</th>\n",
       "      <th>end_date</th>\n",
       "      <th>type</th>\n",
       "      <th>paperless_billing</th>\n",
       "      <th>payment_method</th>\n",
       "      <th>monthly_charges</th>\n",
       "      <th>total_charges</th>\n",
       "      <th>internet_service</th>\n",
       "      <th>...</th>\n",
       "      <th>device_protection</th>\n",
       "      <th>tech_support</th>\n",
       "      <th>streaming_tv</th>\n",
       "      <th>streaming_movies</th>\n",
       "      <th>gender</th>\n",
       "      <th>senior_citizen</th>\n",
       "      <th>partner</th>\n",
       "      <th>dependents</th>\n",
       "      <th>multiple_lines</th>\n",
       "      <th>target</th>\n",
       "    </tr>\n",
       "  </thead>\n",
       "  <tbody>\n",
       "    <tr>\n",
       "      <th>0</th>\n",
       "      <td>489</td>\n",
       "      <td>7590-VHVEG</td>\n",
       "      <td>2020-01-01</td>\n",
       "      <td>NaT</td>\n",
       "      <td>Month-to-month</td>\n",
       "      <td>Yes</td>\n",
       "      <td>Electronic check</td>\n",
       "      <td>29.85</td>\n",
       "      <td>29.85</td>\n",
       "      <td>DSL</td>\n",
       "      <td>...</td>\n",
       "      <td>No</td>\n",
       "      <td>No</td>\n",
       "      <td>No</td>\n",
       "      <td>No</td>\n",
       "      <td>Female</td>\n",
       "      <td>0</td>\n",
       "      <td>Yes</td>\n",
       "      <td>No</td>\n",
       "      <td>None</td>\n",
       "      <td>0</td>\n",
       "    </tr>\n",
       "    <tr>\n",
       "      <th>1</th>\n",
       "      <td>490</td>\n",
       "      <td>5575-GNVDE</td>\n",
       "      <td>2017-04-01</td>\n",
       "      <td>NaT</td>\n",
       "      <td>One year</td>\n",
       "      <td>No</td>\n",
       "      <td>Mailed check</td>\n",
       "      <td>56.95</td>\n",
       "      <td>1889.50</td>\n",
       "      <td>DSL</td>\n",
       "      <td>...</td>\n",
       "      <td>Yes</td>\n",
       "      <td>No</td>\n",
       "      <td>No</td>\n",
       "      <td>No</td>\n",
       "      <td>Male</td>\n",
       "      <td>0</td>\n",
       "      <td>No</td>\n",
       "      <td>No</td>\n",
       "      <td>No</td>\n",
       "      <td>0</td>\n",
       "    </tr>\n",
       "  </tbody>\n",
       "</table>\n",
       "<p>2 rows × 22 columns</p>\n",
       "</div>"
      ],
      "text/plain": [
       "    id customer_id begin_date end_date            type paperless_billing  \\\n",
       "0  489  7590-VHVEG 2020-01-01      NaT  Month-to-month               Yes   \n",
       "1  490  5575-GNVDE 2017-04-01      NaT        One year                No   \n",
       "\n",
       "     payment_method  monthly_charges  total_charges internet_service  ...  \\\n",
       "0  Electronic check            29.85          29.85              DSL  ...   \n",
       "1      Mailed check            56.95        1889.50              DSL  ...   \n",
       "\n",
       "  device_protection tech_support streaming_tv streaming_movies  gender  \\\n",
       "0                No           No           No               No  Female   \n",
       "1               Yes           No           No               No    Male   \n",
       "\n",
       "  senior_citizen partner  dependents multiple_lines target  \n",
       "0              0     Yes          No           None      0  \n",
       "1              0      No          No             No      0  \n",
       "\n",
       "[2 rows x 22 columns]"
      ]
     },
     "execution_count": 12,
     "metadata": {},
     "output_type": "execute_result"
    }
   ],
   "source": [
    "df.head(2)"
   ]
  },
  {
   "cell_type": "code",
   "execution_count": 13,
   "id": "1ed98b5f-6f48-422a-ab45-3c0a6094cd43",
   "metadata": {},
   "outputs": [],
   "source": [
    "with open(\"columns.txt\", \"w\", encoding=\"utf-8\") as fio:\n",
    "    fio.write(\", \".join(df.columns))"
   ]
  },
  {
   "cell_type": "code",
   "execution_count": 14,
   "id": "e147230c-50ff-45db-b15d-cbf9abf0f803",
   "metadata": {},
   "outputs": [],
   "source": [
    "counts_columns = [\n",
    "    \"type\", \"paperless_billing\", \"internet_service\", \"online_security\", \"online_backup\", \"device_protection\",\n",
    "    \"tech_support\", \"streaming_tv\", \"streaming_movies\", \"gender\", \"senior_citizen\", \"partner\", \"dependents\",\n",
    "    \"multiple_lines\", \"target\"\n",
    "]\n",
    "\n",
    "stats = {}\n",
    "\n",
    "for col in counts_columns:\n",
    "    column_stat = df[col].value_counts().to_dict()\n",
    "    column_stat = {f\"{col}_{key}\": value for key, value in column_stat.items()}\n",
    "    stats.update(column_stat)\n",
    "\n",
    "\n",
    "stats[\"data_length\"] = df.shape[0]\n",
    "stats[\"monthly_charges_min\"] = df[\"monthly_charges\"].min()\n",
    "stats[\"monthly_charges_max\"] = df[\"monthly_charges\"].max()\n",
    "stats[\"monthly_charges_mean\"] = df[\"monthly_charges\"].mean()\n",
    "stats[\"monthly_charges_median\"] = df[\"monthly_charges\"].median()\n",
    "stats[\"total_charges_min\"] = df[\"total_charges\"].min()\n",
    "stats[\"total_charges_max\"] = df[\"total_charges\"].max()\n",
    "stats[\"total_charges_mean\"] = df[\"total_charges\"].mean()\n",
    "stats[\"total_charges_median\"] = df[\"total_charges\"].median()\n",
    "stats[\"unique_customers_number\"] = len(df[\"customer_id\"].unique())\n",
    "stats[\"end_date_nan\"] = df[\"end_date\"].isna().sum()"
   ]
  },
  {
   "cell_type": "code",
   "execution_count": 15,
   "id": "f0a564ad-2101-44a7-adcb-6f8057710f10",
   "metadata": {},
   "outputs": [],
   "source": [
    "df.to_csv(\"users_churn.csv\")"
   ]
  },
  {
   "cell_type": "code",
   "execution_count": 16,
   "id": "1326de40-46b2-4fe8-8986-51936746d58c",
   "metadata": {},
   "outputs": [],
   "source": [
    "experiment_id = mlflow.create_experiment(EXPERIMENT_NAME)\n",
    "\n",
    "with mlflow.start_run(run_name=RUN_NAME, experiment_id=experiment_id) as run:\n",
    "    run_id = run.info.run_id\n",
    "    \n",
    "    mlflow.log_metrics(stats)\n",
    "    mlflow.log_artifact(\"columns.txt\", \"dataframe\")\n",
    "    mlflow.log_artifact(\"users_churn.csv\", \"dataframe\")"
   ]
  },
  {
   "cell_type": "markdown",
   "id": "49a10445-8d70-4349-ab06-e163c141be10",
   "metadata": {},
   "source": [
    "##### 5. Проверяем, что все успешно залогировалось и удаляем файлы с локальной машины"
   ]
  },
  {
   "cell_type": "code",
   "execution_count": 17,
   "id": "8888a3cf-c08a-4e30-8f36-4efd30935594",
   "metadata": {},
   "outputs": [],
   "source": [
    "experiment = mlflow.get_experiment_by_name(EXPERIMENT_NAME)\n",
    "run = mlflow.get_run(run_id)"
   ]
  },
  {
   "cell_type": "code",
   "execution_count": 32,
   "id": "c2cfbc01-cca7-465d-b80b-87f38bc6eb2e",
   "metadata": {},
   "outputs": [],
   "source": [
    "assert stats.keys() == run.data.metrics.keys()\n",
    "assert run.info.artifact_uri\n",
    "assert 'FINISHED' == run.info.status\n",
    "\n",
    "os.remove(\"columns.txt\")\n",
    "os.remove(\"users_churn.csv\")"
   ]
  },
  {
   "cell_type": "code",
   "execution_count": null,
   "id": "77f74bcf-464d-44a9-901c-f2f0e8f55ae3",
   "metadata": {},
   "outputs": [],
   "source": []
  }
 ],
 "metadata": {
  "kernelspec": {
   "display_name": "Python 3 (ipykernel)",
   "language": "python",
   "name": "python3"
  },
  "language_info": {
   "codemirror_mode": {
    "name": "ipython",
    "version": 3
   },
   "file_extension": ".py",
   "mimetype": "text/x-python",
   "name": "python",
   "nbconvert_exporter": "python",
   "pygments_lexer": "ipython3",
   "version": "3.11.3"
  }
 },
 "nbformat": 4,
 "nbformat_minor": 5
}
