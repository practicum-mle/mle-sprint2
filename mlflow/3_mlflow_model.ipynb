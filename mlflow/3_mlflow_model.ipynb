{
 "cells": [
  {
   "cell_type": "markdown",
   "id": "24467b7e-9178-4ceb-836e-a8cbf0d886b1",
   "metadata": {},
   "source": [
    "##### 1. Установим новые библиотеки"
   ]
  },
  {
   "cell_type": "code",
   "execution_count": 1,
   "id": "e3cec029-ced7-4bcd-a6a6-aca8c27b44cd",
   "metadata": {},
   "outputs": [],
   "source": [
    "%pip install scikit-learn==1.3.1"
   ]
  },
  {
   "cell_type": "code",
   "execution_count": 1,
   "id": "7ffc89dd-9d41-4252-9092-96f1dfaa8e67",
   "metadata": {},
   "outputs": [
    {
     "name": "stderr",
     "output_type": "stream",
     "text": [
      "/Users/nikolaistepanov/.pyenv/versions/3.11.3/lib/python3.11/site-packages/pydantic/_internal/_fields.py:127: UserWarning: Field \"model_server_url\" has conflict with protected namespace \"model_\".\n",
      "\n",
      "You may be able to resolve this warning by setting `model_config['protected_namespaces'] = ()`.\n",
      "  warnings.warn(\n",
      "/Users/nikolaistepanov/.pyenv/versions/3.11.3/lib/python3.11/site-packages/pydantic/_internal/_config.py:269: UserWarning: Valid config keys have changed in V2:\n",
      "* 'schema_extra' has been renamed to 'json_schema_extra'\n",
      "  warnings.warn(message, UserWarning)\n"
     ]
    }
   ],
   "source": [
    "import os\n",
    "\n",
    "import psycopg\n",
    "import pandas as pd\n",
    "import mlflow\n",
    "from sklearn.metrics import (\n",
    "    roc_auc_score,\n",
    "    f1_score,\n",
    "    precision_score,\n",
    "    recall_score,\n",
    "    confusion_matrix,\n",
    "    log_loss,\n",
    ")"
   ]
  },
  {
   "cell_type": "markdown",
   "id": "41e42726-c600-4eaf-b168-fd892a76e0f6",
   "metadata": {},
   "source": [
    "##### 2. Определим глобальные перменные"
   ]
  },
  {
   "cell_type": "code",
   "execution_count": 3,
   "id": "baa0ee62-5115-4d7c-9301-eb5e1514f79a",
   "metadata": {},
   "outputs": [],
   "source": [
    "TABLE_NAME = \"users_churn\"\n",
    "\n",
    "TRACKING_SERVER_HOST = \"127.0.0.1\"\n",
    "TRACKING_SERVER_PORT = 5000\n",
    "\n",
    "EXPERIMENT_NAME = \"churn_nikolaistepanov\"\n",
    "RUN_NAME = \"model_0\""
   ]
  },
  {
   "cell_type": "markdown",
   "id": "e1474a7a-48e6-4f26-9068-c2c04f4c7230",
   "metadata": {},
   "source": [
    "##### 3. Заберем данные из базы данных и сформируем `dataframe`"
   ]
  },
  {
   "cell_type": "code",
   "execution_count": 4,
   "id": "c232f085-0cb3-4666-9e97-5d6e5ca903ac",
   "metadata": {},
   "outputs": [],
   "source": [
    "connection = {\"sslmode\": \"verify-full\", \"target_session_attrs\": \"read-write\"}\n",
    "postgres_credentials = {\n",
    "    \"host\": os.getenv(\"POSTGRES_HOST\"),\n",
    "    \"port\": os.getenv(\"POSTGRES_PORT\"),\n",
    "    \"dbname\": os.getenv(\"POSTGRES_DBNAME\"),\n",
    "    \"user\": os.getenv(\"POSTGRES_USER\"),\n",
    "    \"password\": os.getenv(\"POSTGRES_PASSWORD\"),\n",
    "}\n",
    "\n",
    "connection.update(postgres_credentials)"
   ]
  },
  {
   "cell_type": "code",
   "execution_count": 5,
   "id": "788f4aee-cbc5-40b3-9a3d-070ebb16f540",
   "metadata": {},
   "outputs": [],
   "source": [
    "with psycopg.connect(**connection) as conn:\n",
    "\n",
    "    with conn.cursor() as cur:\n",
    "        cur.execute(f\"SELECT * FROM {TABLE_NAME}\")\n",
    "        data = cur.fetchall()\n",
    "        columns = [col[0] for col in cur.description]\n",
    "\n",
    "df = pd.DataFrame(data, columns=columns)"
   ]
  },
  {
   "cell_type": "markdown",
   "id": "bc22951f-44b4-4f4c-a49f-e542d73337eb",
   "metadata": {},
   "source": [
    "##### 4. Достаем модель\n",
    "\n",
    "\n",
    "P.S. Сейчас, дабы не блочится о модель от Вани - обучим самостоятельно на простых фичах и будет ее использовать,\n",
    "как бейзлайн"
   ]
  },
  {
   "cell_type": "code",
   "execution_count": 6,
   "id": "7ec3dcab-d2ea-410a-88a8-27e43b076426",
   "metadata": {},
   "outputs": [],
   "source": [
    "# %pip install catboost==1.2.2"
   ]
  },
  {
   "cell_type": "code",
   "execution_count": 7,
   "id": "dd5bc6c1-4325-440c-ba2c-d4e99399c60a",
   "metadata": {},
   "outputs": [
    {
     "name": "stdout",
     "output_type": "stream",
     "text": [
      "CPU times: user 776 ms, sys: 812 ms, total: 1.59 s\n",
      "Wall time: 687 ms\n"
     ]
    },
    {
     "data": {
      "text/plain": [
       "<catboost.core.CatBoostClassifier at 0x175b0a2d0>"
      ]
     },
     "execution_count": 7,
     "metadata": {},
     "output_type": "execute_result"
    }
   ],
   "source": [
    "%%time\n",
    "\n",
    "from catboost import CatBoostClassifier\n",
    "\n",
    "\n",
    "model = CatBoostClassifier(max_depth=4, iterations=512, verbose = False)\n",
    "features = [\"monthly_charges\", \"total_charges\", \"senior_citizen\"]\n",
    "target = \"target\"\n",
    "\n",
    "percent = 20\n",
    "test_size = int(df.shape[0] - df.shape[0]/100 * percent)\n",
    "\n",
    "X_train, X_test = df[features][:test_size], df[features][test_size:]\n",
    "y_train, y_test = df[target][:test_size], df[target][test_size:]\n",
    "\n",
    "\n",
    "model.fit(X_train, y_train, cat_features=[features[-1]])"
   ]
  },
  {
   "cell_type": "markdown",
   "id": "129a6865-338e-4a13-9fe1-14e3e3b2d47d",
   "metadata": {},
   "source": [
    "##### 5. Прогоним модель на тестовых данных и залогируем метрики с моделью"
   ]
  },
  {
   "cell_type": "code",
   "execution_count": 26,
   "id": "f8889c40-2b63-4965-a798-a1e8bd56d2bf",
   "metadata": {},
   "outputs": [],
   "source": [
    "prediction = model.predict(X_test)\n",
    "probas = model.predict_proba(X_test)[:, 1]"
   ]
  },
  {
   "cell_type": "code",
   "execution_count": 9,
   "id": "e11b2e2f-d6cb-4f60-a2a0-0c3d09b7e8db",
   "metadata": {},
   "outputs": [],
   "source": [
    "metrics = {}\n",
    "\n",
    "_, err1, _, err2 = confusion_matrix(y_test, prediction, normalize='all').ravel()\n",
    "auc = roc_auc_score(y_test, probas)\n",
    "precision = precision_score(y_test, prediction)\n",
    "recall = recall_score(y_test, prediction)\n",
    "f1 = f1_score(y_test, prediction)\n",
    "logloss = log_loss(y_test, prediction)\n",
    "\n",
    "metrics[\"err1\"] = err1\n",
    "metrics[\"err2\"] = err2\n",
    "metrics[\"auc\"] = auc\n",
    "metrics[\"precision\"] = precision\n",
    "metrics[\"recall\"] = recall\n",
    "metrics[\"f1\"] = f1\n",
    "metrics[\"logloss\"] = logloss"
   ]
  },
  {
   "cell_type": "markdown",
   "id": "30ff19f3-05b6-461d-b15b-c490c0bac29a",
   "metadata": {},
   "source": [
    "##### 5. Подключимся к MLFLow и зарегистрируем модель"
   ]
  },
  {
   "cell_type": "code",
   "execution_count": 10,
   "id": "90d545cc-1e84-4836-b12b-0c9a80f31c61",
   "metadata": {},
   "outputs": [],
   "source": [
    "os.environ[\"MLFLOW_S3_ENDPOINT_URL\"] = \"...\"\n",
    "os.environ[\"AWS_ACCESS_KEY_ID\"] = \"...\"\n",
    "os.environ[\"AWS_SECRET_ACCESS_KEY\"] = \"...\""
   ]
  },
  {
   "cell_type": "code",
   "execution_count": 11,
   "id": "f1b9f2aa-369d-4748-8b47-e226eb0c9dbb",
   "metadata": {},
   "outputs": [],
   "source": [
    "mlflow.set_tracking_uri(f\"http://{TRACKING_SERVER_HOST}:{TRACKING_SERVER_PORT}\")\n",
    "mlflow.set_registry_uri(f\"http://{TRACKING_SERVER_HOST}:{TRACKING_SERVER_PORT}\")"
   ]
  },
  {
   "cell_type": "code",
   "execution_count": 17,
   "id": "828ff63e-b8d4-454b-b64a-a0e1f69ae436",
   "metadata": {},
   "outputs": [],
   "source": [
    "experiment_id = mlflow.get_experiment_by_name(EXPERIMENT_NAME).experiment_id\n",
    "\n",
    "with mlflow.start_run(run_name=RUN_NAME, experiment_id=experiment_id) as run:\n",
    "    run_id = run.info.run_id\n",
    "    \n",
    "    mlflow.log_metrics(metrics)\n",
    "    model_info = mlflow.catboost.log_model(cb_model=model, artifact_path=\"models\",)"
   ]
  },
  {
   "cell_type": "markdown",
   "id": "ec5d647f-8728-4d5f-902f-105798ceecdb",
   "metadata": {},
   "source": [
    "##### 5.1. Проверим, что модель работает"
   ]
  },
  {
   "cell_type": "code",
   "execution_count": 23,
   "id": "3c683424-d563-4241-9b16-e092d76a5ac3",
   "metadata": {},
   "outputs": [],
   "source": [
    "loaded_model = mlflow.catboost.load_model(model_uri=model_info.model_uri)\n",
    "model_predictions = loaded_model.predict(X_test)"
   ]
  },
  {
   "cell_type": "code",
   "execution_count": 25,
   "id": "e84dc244-0ad5-41ab-bf4c-c00f322cdea3",
   "metadata": {},
   "outputs": [
    {
     "name": "stdout",
     "output_type": "stream",
     "text": [
      "[0 0 0 0 0 0 1 0 0 1]\n"
     ]
    }
   ],
   "source": [
    "assert model_predictions.dtype == int\n",
    "\n",
    "print(model_predictions[:10])"
   ]
  },
  {
   "cell_type": "markdown",
   "id": "a2f8d6f0-ebf0-4bd2-9d8a-f3ae5bd28151",
   "metadata": {},
   "source": [
    "##### 6. Создадим и залогируем кастомную модель. Подробнее про это можно почитать [тут](https://mlflow.org/docs/latest/model-registry.html#registering-an-unsupported-machine-learning-model)"
   ]
  },
  {
   "cell_type": "code",
   "execution_count": 13,
   "id": "c83ec1ca-b2ed-4a52-ac50-d20289dc2dcd",
   "metadata": {},
   "outputs": [],
   "source": [
    "class CatboostModelProba(mlflow.pyfunc.PythonModel):\n",
    "\n",
    "    def __init__(self, model):\n",
    "        super().__init__()\n",
    "        self._model = model\n",
    "    \n",
    "    def predict(self, context, model_input):\n",
    "        probas = self._model.predict_proba(model_input)[:, 1]\n",
    "        \n",
    "        return probas"
   ]
  },
  {
   "cell_type": "code",
   "execution_count": 14,
   "id": "8a752200-7190-4d70-aadf-cf70cbcd3a87",
   "metadata": {},
   "outputs": [
    {
     "name": "stderr",
     "output_type": "stream",
     "text": [
      "/Users/nikolaistepanov/.pyenv/versions/3.11.3/lib/python3.11/site-packages/_distutils_hack/__init__.py:18: UserWarning: Distutils was imported before Setuptools, but importing Setuptools also replaces the `distutils` module in `sys.modules`. This may lead to undesirable behaviors or errors. To avoid these issues, avoid using distutils directly, ensure that setuptools is installed in the traditional way (e.g. not an editable install), and/or make sure that setuptools is always imported before distutils.\n",
      "  warnings.warn(\n",
      "/Users/nikolaistepanov/.pyenv/versions/3.11.3/lib/python3.11/site-packages/_distutils_hack/__init__.py:33: UserWarning: Setuptools is replacing distutils.\n",
      "  warnings.warn(\"Setuptools is replacing distutils.\")\n"
     ]
    }
   ],
   "source": [
    "with mlflow.start_run(\n",
    "    run_name=f\"{RUN_NAME}_custom_model\", \n",
    "    experiment_id=experiment_id,\n",
    ") as run:\n",
    "    run_id = run.info.run_id\n",
    "    \n",
    "    mlflow.log_metrics(metrics)\n",
    "    \n",
    "    custom_model = CatboostModelProba(model)\n",
    "    model_info = mlflow.pyfunc.log_model(artifact_path=\"models_custom_model\", python_model=custom_model)"
   ]
  },
  {
   "cell_type": "markdown",
   "id": "41fcca48-ea63-4bde-9eef-3c28cfc8dce7",
   "metadata": {},
   "source": [
    "##### 6.1. Проверим, что кастомная модель работает"
   ]
  },
  {
   "cell_type": "code",
   "execution_count": 15,
   "id": "244118c4-f3e4-4c12-844c-b9454e234d43",
   "metadata": {},
   "outputs": [],
   "source": [
    "loaded_custom_model = mlflow.pyfunc.load_model(model_uri=model_info.model_uri)\n",
    "custom_model_predictions = loaded_custom_model.predict(X_test)"
   ]
  },
  {
   "cell_type": "code",
   "execution_count": 16,
   "id": "396d174b-5170-4f0c-b227-da829d2bfbc0",
   "metadata": {},
   "outputs": [
    {
     "name": "stdout",
     "output_type": "stream",
     "text": [
      "[0.37488063 0.15212098 0.18234001 0.0636536  0.37706867 0.09171786\n",
      " 0.84696672 0.0479704  0.03616283 0.84320873]\n"
     ]
    }
   ],
   "source": [
    "assert custom_model_predictions.dtype == float\n",
    "\n",
    "print(custom_model_predictions[:10])"
   ]
  },
  {
   "cell_type": "markdown",
   "id": "b5c3c159-7009-4c8d-89e5-957d3f9a75cb",
   "metadata": {},
   "source": [
    "##### 6.2. Убедимся, что MLFlow по-разному воспринимает модели"
   ]
  },
  {
   "cell_type": "code",
   "execution_count": 32,
   "id": "5570678d-ff86-48a2-b01d-13cc93d73871",
   "metadata": {},
   "outputs": [
    {
     "data": {
      "image/png": "[encoded data removed]",
      "text/plain": [
       "<IPython.core.display.Image object>"
      ]
     },
     "execution_count": 32,
     "metadata": {},
     "output_type": "execute_result"
    }
   ],
   "source": [
    "from IPython.display import Image\n",
    "\n",
    "Image(filename=\"utils/images/models.png\")"
   ]
  },
  {
   "cell_type": "code",
   "execution_count": null,
   "id": "bea74af3-3666-4ba2-a97b-86c3836826a5",
   "metadata": {},
   "outputs": [],
   "source": []
  }
 ],
 "metadata": {
  "kernelspec": {
   "display_name": "Python 3 (ipykernel)",
   "language": "python",
   "name": "python3"
  },
  "language_info": {
   "codemirror_mode": {
    "name": "ipython",
    "version": 3
   },
   "file_extension": ".py",
   "mimetype": "text/x-python",
   "name": "python",
   "nbconvert_exporter": "python",
   "pygments_lexer": "ipython3",
   "version": "3.11.3"
  }
 },
 "nbformat": 4,
 "nbformat_minor": 5
}
