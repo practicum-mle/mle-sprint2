{
 "cells": [
  {
   "cell_type": "code",
   "execution_count": 14,
   "id": "7ffc89dd-9d41-4252-9092-96f1dfaa8e67",
   "metadata": {},
   "outputs": [],
   "source": [
    "import os\n",
    "\n",
    "import psycopg\n",
    "import pandas as pd\n",
    "import mlflow\n",
    "from sklearn.metrics import (\n",
    "    roc_auc_score,\n",
    "    f1_score,\n",
    "    precision_score,\n",
    "    recall_score,\n",
    "    confusion_matrix,\n",
    "    log_loss,\n",
    ")"
   ]
  },
  {
   "cell_type": "markdown",
   "id": "41e42726-c600-4eaf-b168-fd892a76e0f6",
   "metadata": {},
   "source": [
    "##### 1. Определим глобальные перменные"
   ]
  },
  {
   "cell_type": "code",
   "execution_count": 15,
   "id": "baa0ee62-5115-4d7c-9301-eb5e1514f79a",
   "metadata": {},
   "outputs": [],
   "source": [
    "TABLE_NAME = \"users_churn\"\n",
    "\n",
    "TRACKING_SERVER_HOST = \"127.0.0.1\"\n",
    "TRACKING_SERVER_PORT = 5000\n",
    "\n",
    "EXPERIMENT_NAME = \"churn_nikolaistepanov\"\n",
    "RUN_NAME = \"model_0_versioning\"\n",
    "REGISTRY_MODEL_NAME = \"churn_model_nikolaistepanov\""
   ]
  },
  {
   "cell_type": "markdown",
   "id": "e1474a7a-48e6-4f26-9068-c2c04f4c7230",
   "metadata": {},
   "source": [
    "##### 2. Заберем данные из базы данных и сформируем `dataframe`"
   ]
  },
  {
   "cell_type": "code",
   "execution_count": 16,
   "id": "c232f085-0cb3-4666-9e97-5d6e5ca903ac",
   "metadata": {},
   "outputs": [],
   "source": [
    "connection = {\"sslmode\": \"verify-full\", \"target_session_attrs\": \"read-write\"}\n",
    "postgres_credentials = {\n",
    "    \"host\": os.getenv(\"POSTGRES_HOST\"),\n",
    "    \"port\": os.getenv(\"POSTGRES_PORT\"),\n",
    "    \"dbname\": os.getenv(\"POSTGRES_DBNAME\"),\n",
    "    \"user\": os.getenv(\"POSTGRES_USER\"),\n",
    "    \"password\": os.getenv(\"POSTGRES_PASSWORD\"),\n",
    "}\n",
    "\n",
    "connection.update(postgres_credentials)"
   ]
  },
  {
   "cell_type": "code",
   "execution_count": 17,
   "id": "788f4aee-cbc5-40b3-9a3d-070ebb16f540",
   "metadata": {},
   "outputs": [],
   "source": [
    "with psycopg.connect(**connection) as conn:\n",
    "\n",
    "    with conn.cursor() as cur:\n",
    "        cur.execute(f\"SELECT * FROM {TABLE_NAME}\")\n",
    "        data = cur.fetchall()\n",
    "        columns = [col[0] for col in cur.description]\n",
    "\n",
    "df = pd.DataFrame(data, columns=columns)"
   ]
  },
  {
   "cell_type": "markdown",
   "id": "bc22951f-44b4-4f4c-a49f-e542d73337eb",
   "metadata": {},
   "source": [
    "##### 3. Достаем модель\n",
    "\n",
    "\n",
    "P.S. Сейчас, дабы не блочится о модель от Вани - обучим самостоятельно на простых фичах и будет ее использовать,\n",
    "как бейзлайн\n",
    "\n",
    "P.P.S В 5-ом ноутбуке поменяет данные, чтобы получить другие метрики. Это нужно, чтобы потом можно было показать функционал сравнения метрик в `MLFlow`"
   ]
  },
  {
   "cell_type": "code",
   "execution_count": 18,
   "id": "dd5bc6c1-4325-440c-ba2c-d4e99399c60a",
   "metadata": {},
   "outputs": [
    {
     "name": "stdout",
     "output_type": "stream",
     "text": [
      "CPU times: user 495 ms, sys: 610 ms, total: 1.11 s\n",
      "Wall time: 379 ms\n"
     ]
    },
    {
     "data": {
      "text/plain": [
       "<catboost.core.CatBoostClassifier at 0x14fecda50>"
      ]
     },
     "execution_count": 18,
     "metadata": {},
     "output_type": "execute_result"
    }
   ],
   "source": [
    "%%time\n",
    "\n",
    "from catboost import CatBoostClassifier\n",
    "\n",
    "\n",
    "model = CatBoostClassifier(max_depth=4, iterations=512, verbose = False)\n",
    "features = [\"monthly_charges\", \"total_charges\", \"senior_citizen\"]\n",
    "target = \"target\"\n",
    "\n",
    "percent = 60\n",
    "test_size = int(df.shape[0] - df.shape[0]/100 * percent)\n",
    "\n",
    "X_train, X_test = df[features][:test_size], df[features][test_size:]\n",
    "y_train, y_test = df[target][:test_size], df[target][test_size:]\n",
    "\n",
    "\n",
    "model.fit(X_train, y_train, cat_features=[features[-1]])"
   ]
  },
  {
   "cell_type": "markdown",
   "id": "129a6865-338e-4a13-9fe1-14e3e3b2d47d",
   "metadata": {},
   "source": [
    "##### 4. Прогоним модель на тестовых данных и залогируем метрики с моделью"
   ]
  },
  {
   "cell_type": "code",
   "execution_count": 19,
   "id": "f8889c40-2b63-4965-a798-a1e8bd56d2bf",
   "metadata": {},
   "outputs": [],
   "source": [
    "prediction = model.predict(X_test)\n",
    "probas = model.predict_proba(X_test)[:, 1]"
   ]
  },
  {
   "cell_type": "code",
   "execution_count": 20,
   "id": "e11b2e2f-d6cb-4f60-a2a0-0c3d09b7e8db",
   "metadata": {},
   "outputs": [],
   "source": [
    "metrics = {}\n",
    "\n",
    "_, err1, _, err2 = confusion_matrix(y_test, prediction, normalize='all').ravel()\n",
    "auc = roc_auc_score(y_test, probas)\n",
    "precision = precision_score(y_test, prediction)\n",
    "recall = recall_score(y_test, prediction)\n",
    "f1 = f1_score(y_test, prediction)\n",
    "logloss = log_loss(y_test, prediction)\n",
    "\n",
    "metrics[\"err1\"] = err1\n",
    "metrics[\"err2\"] = err2\n",
    "metrics[\"auc\"] = auc\n",
    "metrics[\"precision\"] = precision\n",
    "metrics[\"recall\"] = recall\n",
    "metrics[\"f1\"] = f1\n",
    "metrics[\"logloss\"] = logloss"
   ]
  },
  {
   "cell_type": "markdown",
   "id": "10e29c16-1378-48dd-877d-cd65292cced2",
   "metadata": {},
   "source": [
    "##### 5. Создадим окружение модели:\n",
    "- библиотеки: `pip_requirements`\n",
    "- входные/выходные данные: `signature`\n",
    "- пример входных данных: `input_example`"
   ]
  },
  {
   "cell_type": "code",
   "execution_count": 22,
   "id": "0cc16d54-0dee-40bc-aeb8-70893514e1d2",
   "metadata": {},
   "outputs": [],
   "source": [
    "pip_requirements=\"../requirements.txt\" # can use conda_env or extra_pip_requirements\n",
    "signature = mlflow.models.infer_signature(X_test, prediction)\n",
    "input_example = X_test[:10]"
   ]
  },
  {
   "cell_type": "markdown",
   "id": "30ff19f3-05b6-461d-b15b-c490c0bac29a",
   "metadata": {},
   "source": [
    "##### 6. Подключимся к MLFLow и зарегистрируем модель 2ой версии"
   ]
  },
  {
   "cell_type": "code",
   "execution_count": 89,
   "id": "90d545cc-1e84-4836-b12b-0c9a80f31c61",
   "metadata": {},
   "outputs": [],
   "source": [
    "os.environ[\"MLFLOW_S3_ENDPOINT_URL\"] = \"...\"\n",
    "os.environ[\"AWS_ACCESS_KEY_ID\"] = \"...\"\n",
    "os.environ[\"AWS_SECRET_ACCESS_KEY\"] = \"...\""
   ]
  },
  {
   "cell_type": "code",
   "execution_count": 24,
   "id": "f1b9f2aa-369d-4748-8b47-e226eb0c9dbb",
   "metadata": {},
   "outputs": [],
   "source": [
    "mlflow.set_tracking_uri(f\"http://{TRACKING_SERVER_HOST}:{TRACKING_SERVER_PORT}\")\n",
    "mlflow.set_registry_uri(f\"http://{TRACKING_SERVER_HOST}:{TRACKING_SERVER_PORT}\")"
   ]
  },
  {
   "cell_type": "code",
   "execution_count": 25,
   "id": "828ff63e-b8d4-454b-b64a-a0e1f69ae436",
   "metadata": {},
   "outputs": [
    {
     "name": "stderr",
     "output_type": "stream",
     "text": [
      "Registered model 'churn_model_nikolaistepanov' already exists. Creating a new version of this model...\n",
      "2023/10/19 17:34:03 INFO mlflow.tracking._model_registry.client: Waiting up to 60 seconds for model version to finish creation. Model name: churn_model_nikolaistepanov, version 2\n",
      "Created version '2' of model 'churn_model_nikolaistepanov'.\n"
     ]
    }
   ],
   "source": [
    "experiment_id = mlflow.get_experiment_by_name(EXPERIMENT_NAME).experiment_id\n",
    "\n",
    "with mlflow.start_run(run_name=RUN_NAME, experiment_id=experiment_id) as run:\n",
    "    run_id = run.info.run_id\n",
    "    \n",
    "    mlflow.log_metrics(metrics)\n",
    "    model_info = mlflow.catboost.log_model(\n",
    "        cb_model=model,\n",
    "        artifact_path=\"models\",\n",
    "        signature=signature,\n",
    "        input_example=input_example,\n",
    "        registered_model_name=REGISTRY_MODEL_NAME,\n",
    "        await_registration_for=60,\n",
    "        pip_requirements=pip_requirements,\n",
    "    )"
   ]
  },
  {
   "cell_type": "markdown",
   "id": "68caa71f-acd2-4aaf-bb27-c362165d9212",
   "metadata": {},
   "source": [
    "#### Look at the log above"
   ]
  },
  {
   "cell_type": "markdown",
   "id": "9d4decce-df58-4ad1-ba93-8d9937e3819c",
   "metadata": {},
   "source": [
    "##### 7. Изменим `stage` у каждой модели"
   ]
  },
  {
   "cell_type": "code",
   "execution_count": 26,
   "id": "44585077-6ff4-4169-95bf-f299779a4735",
   "metadata": {},
   "outputs": [],
   "source": [
    "client = mlflow.MlflowClient()"
   ]
  },
  {
   "cell_type": "code",
   "execution_count": 67,
   "id": "c5fb01b5-5c77-4861-a237-fcef668acef7",
   "metadata": {},
   "outputs": [],
   "source": [
    "models = client.search_model_versions(filter_string=f\"name = '{REGISTRY_MODEL_NAME}'\",)"
   ]
  },
  {
   "cell_type": "code",
   "execution_count": 81,
   "id": "1ac17214-1c19-46d6-be54-24ecc9a251fe",
   "metadata": {},
   "outputs": [],
   "source": [
    "model_name_1 = models[-1].name\n",
    "model_version_1 = models[-1].version\n",
    "model_stage_1 = models[-1].current_stage\n",
    "\n",
    "model_name_2 = models[-2].name\n",
    "model_version_2 = models[-2].version\n",
    "model_stage_2 = models[-2].current_stage"
   ]
  },
  {
   "cell_type": "code",
   "execution_count": 82,
   "id": "fe716005-e24b-4520-955d-b6004647764b",
   "metadata": {},
   "outputs": [
    {
     "name": "stdout",
     "output_type": "stream",
     "text": [
      "Текущий stage модели 1: None\n",
      "Текущий stage модели 2: None\n"
     ]
    }
   ],
   "source": [
    "print(f\"Текущий stage модели 1: {model_stage_1}\")\n",
    "print(f\"Текущий stage модели 2: {model_stage_2}\")"
   ]
  },
  {
   "cell_type": "code",
   "execution_count": 83,
   "id": "a06f9b8d-5c89-4d96-a158-ba4ca27a906f",
   "metadata": {},
   "outputs": [
    {
     "data": {
      "text/plain": [
       "<ModelVersion: aliases=[], creation_timestamp=1697726042787, current_stage='Staging', description='', last_updated_timestamp=1697727542949, name='churn_model_nikolaistepanov', run_id='1bf428a8ab16490e83dbd2283b92c512', run_link='', source='s3://s3-student-mle-case/7/1bf428a8ab16490e83dbd2283b92c512/artifacts/models', status='READY', status_message='', tags={}, user_id='', version='2'>"
      ]
     },
     "execution_count": 83,
     "metadata": {},
     "output_type": "execute_result"
    }
   ],
   "source": [
    "client.transition_model_version_stage(model_name_1, model_version_1, \"production\")\n",
    "client.transition_model_version_stage(model_name_2, model_version_2, \"staging\")"
   ]
  },
  {
   "cell_type": "markdown",
   "id": "8cb6529f-48a7-46ae-9227-8d2f744308b4",
   "metadata": {},
   "source": [
    "##### 7. Переименнуем нашу модель"
   ]
  },
  {
   "cell_type": "code",
   "execution_count": 84,
   "id": "fb39608a-05dd-412b-b36e-8278f21cb8ba",
   "metadata": {},
   "outputs": [],
   "source": [
    "client.rename_registered_model(\n",
    "    name=REGISTRY_MODEL_NAME, \n",
    "    new_name=f\"{REGISTRY_MODEL_NAME}_prepared\"\n",
    ")"
   ]
  },
  {
   "cell_type": "code",
   "execution_count": 85,
   "id": "cfda1531-de49-413e-b635-22ab393e685d",
   "metadata": {},
   "outputs": [],
   "source": [
    "models = client.search_model_versions(filter_string=f\"name = '{REGISTRY_MODEL_NAME}_prepared'\",)"
   ]
  },
  {
   "cell_type": "markdown",
   "id": "ec7dd657-c838-48b6-969e-035c54381c7a",
   "metadata": {},
   "source": [
    "##### 8. Проверим наши изменения"
   ]
  },
  {
   "cell_type": "code",
   "execution_count": 87,
   "id": "d3d8b29e-54c8-455d-9dc3-33104880040a",
   "metadata": {},
   "outputs": [],
   "source": [
    "model_stage_1 = models[-1].current_stage\n",
    "model_stage_2 = models[-2].current_stage"
   ]
  },
  {
   "cell_type": "code",
   "execution_count": 88,
   "id": "534ac507-09fc-43a2-9b15-465b03a1d085",
   "metadata": {},
   "outputs": [
    {
     "name": "stdout",
     "output_type": "stream",
     "text": [
      "Текущий stage модели 1: Production\n",
      "Текущий stage модели 2: Staging\n"
     ]
    }
   ],
   "source": [
    "print(f\"Текущий stage модели 1: {model_stage_1}\")\n",
    "print(f\"Текущий stage модели 2: {model_stage_2}\")"
   ]
  },
  {
   "cell_type": "code",
   "execution_count": null,
   "id": "0286738d-b09a-4094-a5cf-38c9e93f536a",
   "metadata": {},
   "outputs": [],
   "source": []
  }
 ],
 "metadata": {
  "kernelspec": {
   "display_name": "Python 3 (ipykernel)",
   "language": "python",
   "name": "python3"
  },
  "language_info": {
   "codemirror_mode": {
    "name": "ipython",
    "version": 3
   },
   "file_extension": ".py",
   "mimetype": "text/x-python",
   "name": "python",
   "nbconvert_exporter": "python",
   "pygments_lexer": "ipython3",
   "version": "3.11.3"
  }
 },
 "nbformat": 4,
 "nbformat_minor": 5
}
