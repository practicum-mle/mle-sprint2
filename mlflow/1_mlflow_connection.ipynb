{
 "cells": [
  {
   "cell_type": "code",
   "execution_count": 1,
   "id": "0d6691fc-aef9-4d87-af0d-32a6b33e726b",
   "metadata": {
    "scrolled": true
   },
   "outputs": [
    {
     "name": "stderr",
     "output_type": "stream",
     "text": [
      "/Users/nikolaistepanov/.pyenv/versions/3.11.3/lib/python3.11/site-packages/pydantic/_internal/_fields.py:127: UserWarning: Field \"model_server_url\" has conflict with protected namespace \"model_\".\n",
      "\n",
      "You may be able to resolve this warning by setting `model_config['protected_namespaces'] = ()`.\n",
      "  warnings.warn(\n",
      "/Users/nikolaistepanov/.pyenv/versions/3.11.3/lib/python3.11/site-packages/pydantic/_internal/_config.py:269: UserWarning: Valid config keys have changed in V2:\n",
      "* 'schema_extra' has been renamed to 'json_schema_extra'\n",
      "  warnings.warn(message, UserWarning)\n"
     ]
    }
   ],
   "source": [
    "import os\n",
    "\n",
    "import mlflow"
   ]
  },
  {
   "cell_type": "markdown",
   "id": "8e034c6d-1f0f-4a1f-8393-1f6b5bab808d",
   "metadata": {},
   "source": [
    "##### 1. Поднимаем MLFlow tracking server локально c Postgres & S3 Object Storage\n",
    "\n",
    "**Важно** - `credentials` тут мы передаем для нашего **tracking service**. То есть чтобы у него был доступ к базе данных и бакету"
   ]
  },
  {
   "cell_type": "markdown",
   "id": "bad81040-ccd1-4baa-a4aa-bee6ba5ec3da",
   "metadata": {},
   "source": [
    "###### Запускаем команду при помощи: `sh utils/1_run_mlflow_server.sh`\n",
    "\n",
    "\n",
    "###### Сама команда выглядит следующим образом: \n",
    "```shell\n",
    "export MLFLOW_S3_ENDPOINT_URL=...\n",
    "export AWS_ACCESS_KEY_ID=...\n",
    "export AWS_SECRET_ACCESS_KEY=...\n",
    "\n",
    "mlflow server \\\n",
    "    --backend-store-uri postgresql://{user}:{password}@{host}:{port}/{database} \\\n",
    "\t--registry-store-uri postgresql://{user}:{password}@{host}:{port}/{database} \\\n",
    "\t--default-artifact-root s3://{bucket} \\\n",
    "\t--no-serve-artifacts\n",
    "```"
   ]
  },
  {
   "cell_type": "markdown",
   "id": "dbc27632-e3d6-48fc-b40c-505c4af86a33",
   "metadata": {},
   "source": [
    "##### 1. Определяем основные credentials, которые нам нужны для подключения к MLFlow\n",
    "\n",
    "**Важно** - `credentials` тут мы передаем для нас, как пользователя tracking service. То есть чтобы у **нас** был доступ к бакету, в который мы будем складывать артефакты"
   ]
  },
  {
   "cell_type": "code",
   "execution_count": 5,
   "id": "64237d3a-40a9-42d9-b84d-07ef7b79f1e8",
   "metadata": {},
   "outputs": [],
   "source": [
    "os.environ[\"MLFLOW_S3_ENDPOINT_URL\"] = \"...\" # endpoint бакета от YandexCloud\n",
    "os.environ[\"AWS_ACCESS_KEY_ID\"] = \"...\" # внесите id ключа бакета, к которому подключен MLFlow\n",
    "os.environ[\"AWS_SECRET_ACCESS_KEY\"] = \"...\"  # внесите ключ бакета, к которому подключен MLFlow"
   ]
  },
  {
   "cell_type": "markdown",
   "id": "7624fc96-f6b1-43e5-8311-042d8ddda548",
   "metadata": {},
   "source": [
    "##### 2. Определяем глобальные переменные"
   ]
  },
  {
   "cell_type": "code",
   "execution_count": 11,
   "id": "03098b84-fb28-4115-b6c9-c45490334838",
   "metadata": {},
   "outputs": [],
   "source": [
    "# поднимаем MLFlow локально\n",
    "TRACKING_SERVER_HOST = \"127.0.0.1\"\n",
    "TRACKING_SERVER_PORT = 5000\n",
    "\n",
    "# название тестового experiment и run внутри него\n",
    "EXPERIMENT_NAME = \"test_connection_experiment_nikolaistepanov\"\n",
    "RUN_NAME = \"test_connection_run\"\n",
    "\n",
    "# тестовые данные\n",
    "METRIC_NAME = \"test_metric\"\n",
    "METRIC_VALUE = 0"
   ]
  },
  {
   "cell_type": "markdown",
   "id": "59c0d7fe-0fe4-4c99-a9d9-6b77ce73f091",
   "metadata": {},
   "source": [
    "##### 2. Устанавливаем host, который будет трекать наши эксперименты"
   ]
  },
  {
   "cell_type": "code",
   "execution_count": 12,
   "id": "3cb819a0-7347-4e31-84ce-49eeca7f6694",
   "metadata": {},
   "outputs": [],
   "source": [
    "mlflow.set_tracking_uri(f\"http://{TRACKING_SERVER_HOST}:{TRACKING_SERVER_PORT}\")"
   ]
  },
  {
   "cell_type": "markdown",
   "id": "cf4fb60e-4bfc-4d3a-8bd7-246337681ee4",
   "metadata": {},
   "source": [
    "##### 3. Создаем тестовый эксперимент и записываем в него тестовую информацию"
   ]
  },
  {
   "cell_type": "code",
   "execution_count": 13,
   "id": "25809883-083e-4771-bdfe-e21f9ad2e120",
   "metadata": {},
   "outputs": [],
   "source": [
    "experiment_id = mlflow.create_experiment(EXPERIMENT_NAME)"
   ]
  },
  {
   "cell_type": "code",
   "execution_count": 14,
   "id": "e64ee7c8-4fc5-46dd-95f9-5578c72d86cd",
   "metadata": {},
   "outputs": [],
   "source": [
    "with mlflow.start_run(run_name=RUN_NAME, experiment_id=experiment_id) as run:\n",
    "    run_id = run.info.run_id\n",
    "    \n",
    "    mlflow.log_metric(METRIC_NAME, METRIC_VALUE)"
   ]
  },
  {
   "cell_type": "markdown",
   "id": "5e5994ff-e565-40d6-a04d-a8c3aac8f687",
   "metadata": {},
   "source": [
    "##### 4. Проверяем себя, что в MLFlow:\n",
    "- создался `experiment` с нашим именем\n",
    "- внутри эксперимента появился `run`\n",
    "- внутри `run` записалась наша тестовая `metric`"
   ]
  },
  {
   "cell_type": "code",
   "execution_count": 15,
   "id": "b7aa54a5-6150-4c08-b5da-2a6a51d2e487",
   "metadata": {},
   "outputs": [],
   "source": [
    "experiment = mlflow.get_experiment_by_name(EXPERIMENT_NAME)\n",
    "run = mlflow.get_run(run_id)"
   ]
  },
  {
   "cell_type": "code",
   "execution_count": 17,
   "id": "ff4d243b-80be-4f8d-9977-c9c8fc932cc6",
   "metadata": {},
   "outputs": [],
   "source": [
    "assert \"active\" == experiment.lifecycle_stage\n",
    "assert mlflow.get_run(run_id)\n",
    "assert METRIC_VALUE == run.data.metrics[METRIC_NAME]"
   ]
  }
 ],
 "metadata": {
  "kernelspec": {
   "display_name": "Python 3 (ipykernel)",
   "language": "python",
   "name": "python3"
  },
  "language_info": {
   "codemirror_mode": {
    "name": "ipython",
    "version": 3
   },
   "file_extension": ".py",
   "mimetype": "text/x-python",
   "name": "python",
   "nbconvert_exporter": "python",
   "pygments_lexer": "ipython3",
   "version": "3.11.3"
  }
 },
 "nbformat": 4,
 "nbformat_minor": 5
}
