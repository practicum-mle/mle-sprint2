{
 "cells": [
  {
   "cell_type": "markdown",
   "id": "899a0e9b-6a65-4917-bdb1-b1df32fd8b53",
   "metadata": {},
   "source": [
    "##### 1. Установим новые библиотеки"
   ]
  },
  {
   "cell_type": "code",
   "execution_count": 1,
   "id": "10e4da85-dfa4-4b64-a4a2-56a3da9ccc0f",
   "metadata": {},
   "outputs": [],
   "source": [
    "# %pip install optuna==3.4.0"
   ]
  },
  {
   "cell_type": "code",
   "execution_count": 2,
   "id": "5ce56654-2bf3-42ad-97e6-72c344f0ae07",
   "metadata": {},
   "outputs": [
    {
     "name": "stderr",
     "output_type": "stream",
     "text": [
      "/Users/nikolaistepanov/.pyenv/versions/3.11.3/lib/python3.11/site-packages/pydantic/_internal/_fields.py:127: UserWarning: Field \"model_server_url\" has conflict with protected namespace \"model_\".\n",
      "\n",
      "You may be able to resolve this warning by setting `model_config['protected_namespaces'] = ()`.\n",
      "  warnings.warn(\n",
      "/Users/nikolaistepanov/.pyenv/versions/3.11.3/lib/python3.11/site-packages/pydantic/_internal/_config.py:269: UserWarning: Valid config keys have changed in V2:\n",
      "* 'schema_extra' has been renamed to 'json_schema_extra'\n",
      "  warnings.warn(message, UserWarning)\n"
     ]
    }
   ],
   "source": [
    "from collections import defaultdict\n",
    "import os\n",
    "\n",
    "import psycopg\n",
    "import pandas as pd\n",
    "from numpy import random, array, median\n",
    "import mlflow\n",
    "from mlflow.utils.mlflow_tags import MLFLOW_PARENT_RUN_ID\n",
    "import optuna\n",
    "from optuna.integration.mlflow import MLflowCallback\n",
    "from catboost import CatBoostClassifier\n",
    "from scipy.stats import uniform, loguniform, randint\n",
    "from sklearn.model_selection import train_test_split, StratifiedKFold\n",
    "from sklearn.metrics import (\n",
    "    roc_auc_score,\n",
    "    f1_score,\n",
    "    precision_score,\n",
    "    recall_score,\n",
    "    confusion_matrix,\n",
    "    log_loss,\n",
    ")"
   ]
  },
  {
   "cell_type": "code",
   "execution_count": 3,
   "id": "ee3c7208-5bd7-48bd-96cd-569480f9e1fd",
   "metadata": {},
   "outputs": [],
   "source": [
    "random.seed(0)"
   ]
  },
  {
   "cell_type": "markdown",
   "id": "42e46c07-7dec-402f-9cfd-1b93927a5301",
   "metadata": {},
   "source": [
    "##### 1. Определим глобальные перменные"
   ]
  },
  {
   "cell_type": "code",
   "execution_count": 4,
   "id": "06db668a-d90b-4a48-8bc3-b233077b1e16",
   "metadata": {},
   "outputs": [],
   "source": [
    "TABLE_NAME = \"users_churn\"\n",
    "\n",
    "TRACKING_SERVER_HOST = \"127.0.0.1\"\n",
    "TRACKING_SERVER_PORT = 5000\n",
    "\n",
    "EXPERIMENT_NAME = \"churn_nikolaistepanov\"\n",
    "RUN_NAME = \"model_bayesian_search\"\n",
    "\n",
    "STUDY_DB_NAME = \"sqlite:///local.study.db\"\n",
    "STUDY_NAME = \"churn_model\""
   ]
  },
  {
   "cell_type": "markdown",
   "id": "79827af4-725e-45c9-bcaf-10d2a991191b",
   "metadata": {},
   "source": [
    "##### 2. Заберем данные"
   ]
  },
  {
   "cell_type": "code",
   "execution_count": 5,
   "id": "abcf0daa-5967-41c2-b4e4-49b94b4c569c",
   "metadata": {},
   "outputs": [],
   "source": [
    "connection = {\"sslmode\": \"verify-full\", \"target_session_attrs\": \"read-write\"}\n",
    "postgres_credentials = {\n",
    "    \"host\": os.getenv(\"POSTGRES_HOST\"),\n",
    "    \"port\": os.getenv(\"POSTGRES_PORT\"),\n",
    "    \"dbname\": os.getenv(\"POSTGRES_DBNAME\"),\n",
    "    \"user\": os.getenv(\"POSTGRES_USER\"),\n",
    "    \"password\": os.getenv(\"POSTGRES_PASSWORD\"),\n",
    "}\n",
    "\n",
    "connection.update(postgres_credentials)"
   ]
  },
  {
   "cell_type": "code",
   "execution_count": 6,
   "id": "a434409a-6d7e-4ca3-ba89-f4b2ef774698",
   "metadata": {},
   "outputs": [],
   "source": [
    "with psycopg.connect(**connection) as conn:\n",
    "\n",
    "    with conn.cursor() as cur:\n",
    "        cur.execute(f\"SELECT * FROM {TABLE_NAME}\")\n",
    "        data = cur.fetchall()\n",
    "        columns = [col[0] for col in cur.description]\n",
    "\n",
    "df = pd.DataFrame(data, columns=columns)"
   ]
  },
  {
   "cell_type": "markdown",
   "id": "d18ef656-8d8f-4583-8618-916599b32104",
   "metadata": {},
   "source": [
    "##### 3. Подключимся к MLFlow"
   ]
  },
  {
   "cell_type": "code",
   "execution_count": 7,
   "id": "8f1e12f4-d543-4c88-90a6-bd9ffe6df865",
   "metadata": {},
   "outputs": [],
   "source": [
    "os.environ[\"MLFLOW_S3_ENDPOINT_URL\"] = \"...\"\n",
    "os.environ[\"AWS_ACCESS_KEY_ID\"] = \"...\"\n",
    "os.environ[\"AWS_SECRET_ACCESS_KEY\"] = \"...\""
   ]
  },
  {
   "cell_type": "code",
   "execution_count": 8,
   "id": "018d7a18-0d7c-4437-aec9-8a36a5e70744",
   "metadata": {},
   "outputs": [],
   "source": [
    "mlflow.set_tracking_uri(f\"http://{TRACKING_SERVER_HOST}:{TRACKING_SERVER_PORT}\")\n",
    "mlflow.set_registry_uri(f\"http://{TRACKING_SERVER_HOST}:{TRACKING_SERVER_PORT}\")"
   ]
  },
  {
   "cell_type": "markdown",
   "id": "0b88df31-906a-4532-926d-f2336da29096",
   "metadata": {},
   "source": [
    "##### 4. Разделим данные на train, test по `begin_date`"
   ]
  },
  {
   "cell_type": "code",
   "execution_count": 9,
   "id": "701d1012-8e36-4897-9905-5cc8a7dad9b6",
   "metadata": {},
   "outputs": [],
   "source": [
    "features = [\"monthly_charges\", \"total_charges\", \"senior_citizen\"]\n",
    "target = \"target\"\n",
    "\n",
    "split_column = \"begin_date\"\n",
    "stratify_column = [\"type\"]\n",
    "test_size = 0.2"
   ]
  },
  {
   "cell_type": "code",
   "execution_count": 10,
   "id": "aa3839a5-f774-4b66-a9fc-ec56e6280706",
   "metadata": {},
   "outputs": [],
   "source": [
    "df = df.sort_values(by=[split_column])"
   ]
  },
  {
   "cell_type": "code",
   "execution_count": 11,
   "id": "3f634612-a230-438d-86d3-8ac97376a639",
   "metadata": {},
   "outputs": [],
   "source": [
    "X_train, X_test, y_train, y_test = train_test_split(\n",
    "    df[features],\n",
    "    df[target],\n",
    "    test_size=test_size,\n",
    "    shuffle=False,\n",
    ")"
   ]
  },
  {
   "cell_type": "code",
   "execution_count": 12,
   "id": "3eb78b97-f710-4dfc-8e03-d61af0402a30",
   "metadata": {},
   "outputs": [
    {
     "name": "stdout",
     "output_type": "stream",
     "text": [
      "Размер выборки для обучения: (5634, 3)\n",
      "Размер выборки для теста: (1409, 3)\n"
     ]
    }
   ],
   "source": [
    "print(f\"Размер выборки для обучения: {X_train.shape}\")\n",
    "print(f\"Размер выборки для теста: {X_test.shape}\")"
   ]
  },
  {
   "cell_type": "markdown",
   "id": "3010a600-3a4a-4eb6-a517-a2df553e2172",
   "metadata": {},
   "source": [
    "##### 4. Определим функцию оптимизации"
   ]
  },
  {
   "cell_type": "code",
   "execution_count": 13,
   "id": "e9633d18-9117-49b3-8b1e-3f1781e41010",
   "metadata": {},
   "outputs": [],
   "source": [
    "def objective(trial: optuna.Trial) -> float:\n",
    "    param = {\n",
    "        \"learning_rate\": trial.suggest_float(\"learning_rate\", 0.001, 0.1, log=True),\n",
    "        \"depth\": trial.suggest_int(\"depth\", 1, 12),\n",
    "        \"l2_leaf_reg\": trial.suggest_float(\"l2_leaf_reg\", 0.1, 5),\n",
    "        \"random_strength\": trial.suggest_float(\"random_strength\", 0.1, 5),\n",
    "        \"loss_function\": \"Logloss\",\n",
    "        \"task_type\": \"CPU\",\n",
    "        \"random_seed\": 0,\n",
    "        \"iterations\": 300,\n",
    "        \"verbose\": False,\n",
    "    }\n",
    "\n",
    "    model = CatBoostClassifier(**param)\n",
    "\n",
    "    skf = StratifiedKFold(n_splits=2)\n",
    "\n",
    "    metrics = defaultdict(list)\n",
    "    for i, (train_index, val_index) in enumerate(skf.split(X_train, y_train)):\n",
    "        train_x = X_train.iloc[train_index]\n",
    "        train_y = y_train.iloc[train_index]\n",
    "        val_x = X_train.iloc[val_index]\n",
    "        val_y = y_train.iloc[val_index]\n",
    "    \n",
    "        model.fit(train_x, train_y)\n",
    "    \n",
    "        prediction = model.predict(val_x)\n",
    "        probas = model.predict_proba(val_x)[:, 1]\n",
    "\n",
    "        _, err1, _, err2 = confusion_matrix(val_y, prediction, normalize='all').ravel()\n",
    "        auc = roc_auc_score(val_y, probas)\n",
    "        precision = precision_score(val_y, prediction)\n",
    "        recall = recall_score(val_y, prediction)\n",
    "        f1 = f1_score(val_y, prediction)\n",
    "        logloss = log_loss(val_y, prediction)\n",
    "        \n",
    "        metrics[\"err1\"].append(err1)\n",
    "        metrics[\"err2\"].append(err2)\n",
    "        metrics[\"auc\"].append(auc)\n",
    "        metrics[\"precision\"].append(precision)\n",
    "        metrics[\"recall\"].append(recall)\n",
    "        metrics[\"f1\"].append(f1)\n",
    "        metrics[\"logloss\"].append(logloss)\n",
    "\n",
    "\n",
    "    err_1 = median(array(metrics['err1']))\n",
    "    err_2 = median(array(metrics['err2']))\n",
    "    auc = median(array(metrics['auc']))\n",
    "    precision = median(array(metrics['precision']))\n",
    "    recall = median(array(metrics['recall']))\n",
    "    f1 = median(array(metrics['f1']))\n",
    "    logloss = median(array(metrics['logloss']))\n",
    "\n",
    "    return auc"
   ]
  },
  {
   "cell_type": "markdown",
   "id": "843a48a8-5193-4b00-85b1-69ef12d2ebcf",
   "metadata": {},
   "source": [
    "##### 6. Запустим побор гиперпараметров\n",
    "- в начале создаем общий `run` для сессии подбора гиперпараметров\n",
    "- инициализируем инциализацию, указываю\n",
    "    - какой алгоритм оптимизации использовать\n",
    "    - максимизировать или минимизировать нашу метрику\n",
    "    - `storage` для хранения данных об обучении"
   ]
  },
  {
   "cell_type": "code",
   "execution_count": 14,
   "id": "aedef2dd-4438-4aae-a787-dafe8dbd61d6",
   "metadata": {},
   "outputs": [
    {
     "name": "stderr",
     "output_type": "stream",
     "text": [
      "/var/folders/61/0fvd79dn0z578qfbryxchcwr0000gn/T/ipykernel_5286/2557796259.py:6: ExperimentalWarning: MLflowCallback is experimental (supported from v1.4.0). The interface can change in the future.\n",
      "  mlflc = MLflowCallback(\n"
     ]
    }
   ],
   "source": [
    "experiment_id = mlflow.get_experiment_by_name(EXPERIMENT_NAME).experiment_id\n",
    "\n",
    "with mlflow.start_run(run_name=RUN_NAME, experiment_id=experiment_id) as run:\n",
    "    run_id = run.info.run_id\n",
    "\n",
    "mlflc = MLflowCallback(\n",
    "    tracking_uri=f\"http://{TRACKING_SERVER_HOST}:{TRACKING_SERVER_PORT}\",\n",
    "    metric_name=\"AUC\",\n",
    "    create_experiment=False,\n",
    "    mlflow_kwargs = {\n",
    "        \"experiment_id\": experiment_id, \n",
    "        \"tags\": {MLFLOW_PARENT_RUN_ID: run_id}\n",
    "    }\n",
    ")"
   ]
  },
  {
   "cell_type": "code",
   "execution_count": 15,
   "id": "db41fbfc-b83e-4b03-8762-bbb476d6f529",
   "metadata": {},
   "outputs": [
    {
     "name": "stderr",
     "output_type": "stream",
     "text": [
      "[I 2023-10-24 15:07:32,736] A new study created in RDB with name: churn_model\n",
      "/Users/nikolaistepanov/.pyenv/versions/3.11.3/lib/python3.11/site-packages/sklearn/metrics/_classification.py:1469: UndefinedMetricWarning: Precision is ill-defined and being set to 0.0 due to no predicted samples. Use `zero_division` parameter to control this behavior.\n",
      "  _warn_prf(average, modifier, msg_start, len(result))\n",
      "[I 2023-10-24 15:07:33,371] Trial 0 finished with value: 0.7557831615372861 and parameters: {'learning_rate': 0.0033036940127322287, 'depth': 7, 'l2_leaf_reg': 0.782998040417358, 'random_strength': 2.047038605997796}. Best is trial 0 with value: 0.7557831615372861.\n",
      "/Users/nikolaistepanov/.pyenv/versions/3.11.3/lib/python3.11/site-packages/sklearn/metrics/_classification.py:1469: UndefinedMetricWarning: Precision is ill-defined and being set to 0.0 due to no predicted samples. Use `zero_division` parameter to control this behavior.\n",
      "  _warn_prf(average, modifier, msg_start, len(result))\n",
      "[I 2023-10-24 15:07:35,294] Trial 1 finished with value: 0.8157934119686224 and parameters: {'learning_rate': 0.030985469108463864, 'depth': 3, 'l2_leaf_reg': 4.3912842977807856, 'random_strength': 4.420541317229445}. Best is trial 1 with value: 0.8157934119686224.\n",
      "/Users/nikolaistepanov/.pyenv/versions/3.11.3/lib/python3.11/site-packages/sklearn/metrics/_classification.py:1469: UndefinedMetricWarning: Precision is ill-defined and being set to 0.0 due to no predicted samples. Use `zero_division` parameter to control this behavior.\n",
      "  _warn_prf(average, modifier, msg_start, len(result))\n",
      "[I 2023-10-24 15:07:37,181] Trial 2 finished with value: 0.8059932648980886 and parameters: {'learning_rate': 0.06612073619991429, 'depth': 2, 'l2_leaf_reg': 1.4381690694349036, 'random_strength': 2.760524313457521}. Best is trial 1 with value: 0.8157934119686224.\n",
      "/Users/nikolaistepanov/.pyenv/versions/3.11.3/lib/python3.11/site-packages/sklearn/metrics/_classification.py:1469: UndefinedMetricWarning: Precision is ill-defined and being set to 0.0 due to no predicted samples. Use `zero_division` parameter to control this behavior.\n",
      "  _warn_prf(average, modifier, msg_start, len(result))\n",
      "[I 2023-10-24 15:07:39,616] Trial 3 finished with value: 0.6928241644597818 and parameters: {'learning_rate': 0.001773395191013641, 'depth': 9, 'l2_leaf_reg': 3.841281865232288, 'random_strength': 0.8279567665546718}. Best is trial 1 with value: 0.8157934119686224.\n",
      "/Users/nikolaistepanov/.pyenv/versions/3.11.3/lib/python3.11/site-packages/sklearn/metrics/_classification.py:1469: UndefinedMetricWarning: Precision is ill-defined and being set to 0.0 due to no predicted samples. Use `zero_division` parameter to control this behavior.\n",
      "  _warn_prf(average, modifier, msg_start, len(result))\n",
      "[I 2023-10-24 15:07:42,439] Trial 4 finished with value: 0.7646357288268124 and parameters: {'learning_rate': 0.06260660568355798, 'depth': 10, 'l2_leaf_reg': 3.0457852169861694, 'random_strength': 3.599682595262225}. Best is trial 1 with value: 0.8157934119686224.\n",
      "/Users/nikolaistepanov/.pyenv/versions/3.11.3/lib/python3.11/site-packages/sklearn/metrics/_classification.py:1469: UndefinedMetricWarning: Precision is ill-defined and being set to 0.0 due to no predicted samples. Use `zero_division` parameter to control this behavior.\n",
      "  _warn_prf(average, modifier, msg_start, len(result))\n",
      "[I 2023-10-24 15:07:44,390] Trial 5 finished with value: 0.7690701352434715 and parameters: {'learning_rate': 0.005182154447945025, 'depth': 6, 'l2_leaf_reg': 0.6781765072352702, 'random_strength': 2.648376149644019}. Best is trial 1 with value: 0.8157934119686224.\n",
      "/Users/nikolaistepanov/.pyenv/versions/3.11.3/lib/python3.11/site-packages/sklearn/metrics/_classification.py:1469: UndefinedMetricWarning: Precision is ill-defined and being set to 0.0 due to no predicted samples. Use `zero_division` parameter to control this behavior.\n",
      "  _warn_prf(average, modifier, msg_start, len(result))\n",
      "[I 2023-10-24 15:07:46,292] Trial 6 finished with value: 0.7936552306464224 and parameters: {'learning_rate': 0.012430252079931953, 'depth': 3, 'l2_leaf_reg': 1.0680758121709257, 'random_strength': 1.8378203179788664}. Best is trial 1 with value: 0.8157934119686224.\n",
      "/Users/nikolaistepanov/.pyenv/versions/3.11.3/lib/python3.11/site-packages/sklearn/metrics/_classification.py:1469: UndefinedMetricWarning: Precision is ill-defined and being set to 0.0 due to no predicted samples. Use `zero_division` parameter to control this behavior.\n",
      "  _warn_prf(average, modifier, msg_start, len(result))\n",
      "[I 2023-10-24 15:07:49,933] Trial 7 finished with value: 0.7126389688694341 and parameters: {'learning_rate': 0.002064737389403283, 'depth': 12, 'l2_leaf_reg': 2.7637013335384615, 'random_strength': 3.9980597742466433}. Best is trial 1 with value: 0.8157934119686224.\n",
      "/Users/nikolaistepanov/.pyenv/versions/3.11.3/lib/python3.11/site-packages/sklearn/metrics/_classification.py:1469: UndefinedMetricWarning: Precision is ill-defined and being set to 0.0 due to no predicted samples. Use `zero_division` parameter to control this behavior.\n",
      "  _warn_prf(average, modifier, msg_start, len(result))\n",
      "[I 2023-10-24 15:07:51,807] Trial 8 finished with value: 0.7767449878237627 and parameters: {'learning_rate': 0.01527746368937955, 'depth': 2, 'l2_leaf_reg': 3.723918489465582, 'random_strength': 4.798884215389496}. Best is trial 1 with value: 0.8157934119686224.\n",
      "/Users/nikolaistepanov/.pyenv/versions/3.11.3/lib/python3.11/site-packages/sklearn/metrics/_classification.py:1469: UndefinedMetricWarning: Precision is ill-defined and being set to 0.0 due to no predicted samples. Use `zero_division` parameter to control this behavior.\n",
      "  _warn_prf(average, modifier, msg_start, len(result))\n",
      "[I 2023-10-24 15:07:53,818] Trial 9 finished with value: 0.797652370007339 and parameters: {'learning_rate': 0.043300438355189035, 'depth': 6, 'l2_leaf_reg': 2.0597750715367575, 'random_strength': 3.1677477886976377}. Best is trial 1 with value: 0.8157934119686224.\n"
     ]
    }
   ],
   "source": [
    "study = optuna.create_study(\n",
    "    sampler=optuna.samplers.TPESampler(), \n",
    "    direction=\"maximize\", \n",
    "    study_name=STUDY_NAME,\n",
    "    storage=STUDY_DB_NAME,\n",
    ")\n",
    "\n",
    "study.optimize(objective, n_trials=10, timeout=600, callbacks=[mlflc],)"
   ]
  },
  {
   "cell_type": "code",
   "execution_count": 16,
   "id": "2dd2cc43-18c2-44de-83d5-e1843f8e61a4",
   "metadata": {},
   "outputs": [
    {
     "name": "stdout",
     "output_type": "stream",
     "text": [
      "Number of finished trials: 10\n",
      "Best params: {'learning_rate': 0.030985469108463864, 'depth': 3, 'l2_leaf_reg': 4.3912842977807856, 'random_strength': 4.420541317229445}\n"
     ]
    }
   ],
   "source": [
    "best_params = study.best_params\n",
    "print(f\"Number of finished trials: {len(study.trials)}\")\n",
    "print(f\"Best params: {best_params}\")"
   ]
  },
  {
   "cell_type": "markdown",
   "id": "e66879dc-8a0c-4f15-9e1a-19fee8de8c7d",
   "metadata": {},
   "source": [
    "##### 7. Можем продолжить наше обучение с той точки, где мы остановились"
   ]
  },
  {
   "cell_type": "code",
   "execution_count": 17,
   "id": "efab60bb-12a1-4153-abea-9bad18c855ab",
   "metadata": {},
   "outputs": [],
   "source": [
    "assert os.path.exists(STUDY_DB_NAME.split(\"///\", 1)[1])\n",
    "\n",
    "loaded_study = optuna.load_study(study_name=STUDY_NAME, storage=STUDY_DB_NAME)\n",
    "\n",
    "assert len(loaded_study.trials) == len(study.trials)"
   ]
  },
  {
   "cell_type": "code",
   "execution_count": 18,
   "id": "d02feada-2d0b-483f-963a-0a43e72b9e46",
   "metadata": {},
   "outputs": [
    {
     "name": "stderr",
     "output_type": "stream",
     "text": [
      "/Users/nikolaistepanov/.pyenv/versions/3.11.3/lib/python3.11/site-packages/sklearn/metrics/_classification.py:1469: UndefinedMetricWarning: Precision is ill-defined and being set to 0.0 due to no predicted samples. Use `zero_division` parameter to control this behavior.\n",
      "  _warn_prf(average, modifier, msg_start, len(result))\n",
      "[I 2023-10-24 15:07:55,742] Trial 10 finished with value: 0.8109966290207813 and parameters: {'learning_rate': 0.02421741839725348, 'depth': 4, 'l2_leaf_reg': 4.7850523230821205, 'random_strength': 4.999843567352545}. Best is trial 1 with value: 0.8157934119686224.\n",
      "/Users/nikolaistepanov/.pyenv/versions/3.11.3/lib/python3.11/site-packages/sklearn/metrics/_classification.py:1469: UndefinedMetricWarning: Precision is ill-defined and being set to 0.0 due to no predicted samples. Use `zero_division` parameter to control this behavior.\n",
      "  _warn_prf(average, modifier, msg_start, len(result))\n",
      "[I 2023-10-24 15:07:57,716] Trial 11 finished with value: 0.817358179191067 and parameters: {'learning_rate': 0.025089665785433292, 'depth': 4, 'l2_leaf_reg': 4.874594167919647, 'random_strength': 4.987681820966244}. Best is trial 11 with value: 0.817358179191067.\n",
      "/Users/nikolaistepanov/.pyenv/versions/3.11.3/lib/python3.11/site-packages/sklearn/metrics/_classification.py:1469: UndefinedMetricWarning: Precision is ill-defined and being set to 0.0 due to no predicted samples. Use `zero_division` parameter to control this behavior.\n",
      "  _warn_prf(average, modifier, msg_start, len(result))\n",
      "[I 2023-10-24 15:07:59,667] Trial 12 finished with value: 0.8120157185512282 and parameters: {'learning_rate': 0.024889330634369492, 'depth': 4, 'l2_leaf_reg': 4.956936565456401, 'random_strength': 4.132477060855784}. Best is trial 11 with value: 0.817358179191067.\n",
      "/Users/nikolaistepanov/.pyenv/versions/3.11.3/lib/python3.11/site-packages/sklearn/metrics/_classification.py:1469: UndefinedMetricWarning: Precision is ill-defined and being set to 0.0 due to no predicted samples. Use `zero_division` parameter to control this behavior.\n",
      "  _warn_prf(average, modifier, msg_start, len(result))\n",
      "[I 2023-10-24 15:08:01,699] Trial 13 finished with value: 0.7868095420666865 and parameters: {'learning_rate': 0.008118653145676924, 'depth': 5, 'l2_leaf_reg': 4.341481337899171, 'random_strength': 4.416840250245631}. Best is trial 11 with value: 0.817358179191067.\n",
      "/Users/nikolaistepanov/.pyenv/versions/3.11.3/lib/python3.11/site-packages/sklearn/metrics/_classification.py:1469: UndefinedMetricWarning: Precision is ill-defined and being set to 0.0 due to no predicted samples. Use `zero_division` parameter to control this behavior.\n",
      "  _warn_prf(average, modifier, msg_start, len(result))\n",
      "[I 2023-10-24 15:08:03,717] Trial 14 finished with value: 0.8009220106198008 and parameters: {'learning_rate': 0.08909112276292314, 'depth': 1, 'l2_leaf_reg': 4.158508115328514, 'random_strength': 4.902977884084392}. Best is trial 11 with value: 0.817358179191067.\n",
      "/Users/nikolaistepanov/.pyenv/versions/3.11.3/lib/python3.11/site-packages/sklearn/metrics/_classification.py:1469: UndefinedMetricWarning: Precision is ill-defined and being set to 0.0 due to no predicted samples. Use `zero_division` parameter to control this behavior.\n",
      "  _warn_prf(average, modifier, msg_start, len(result))\n",
      "[I 2023-10-24 15:08:05,886] Trial 15 finished with value: 0.7825983124165287 and parameters: {'learning_rate': 0.031527665623114154, 'depth': 8, 'l2_leaf_reg': 4.971637177995392, 'random_strength': 3.698202599585585}. Best is trial 11 with value: 0.817358179191067.\n",
      "/Users/nikolaistepanov/.pyenv/versions/3.11.3/lib/python3.11/site-packages/sklearn/metrics/_classification.py:1469: UndefinedMetricWarning: Precision is ill-defined and being set to 0.0 due to no predicted samples. Use `zero_division` parameter to control this behavior.\n",
      "  _warn_prf(average, modifier, msg_start, len(result))\n",
      "[I 2023-10-24 15:08:07,860] Trial 16 finished with value: 0.7976184050501196 and parameters: {'learning_rate': 0.018029893535221407, 'depth': 4, 'l2_leaf_reg': 3.5989749113673746, 'random_strength': 4.5034012409287225}. Best is trial 11 with value: 0.817358179191067.\n",
      "/Users/nikolaistepanov/.pyenv/versions/3.11.3/lib/python3.11/site-packages/sklearn/metrics/_classification.py:1469: UndefinedMetricWarning: Precision is ill-defined and being set to 0.0 due to no predicted samples. Use `zero_division` parameter to control this behavior.\n",
      "  _warn_prf(average, modifier, msg_start, len(result))\n",
      "/Users/nikolaistepanov/.pyenv/versions/3.11.3/lib/python3.11/site-packages/sklearn/metrics/_classification.py:1469: UndefinedMetricWarning: Precision is ill-defined and being set to 0.0 due to no predicted samples. Use `zero_division` parameter to control this behavior.\n",
      "  _warn_prf(average, modifier, msg_start, len(result))\n",
      "[I 2023-10-24 15:08:09,700] Trial 17 finished with value: 0.7154928194195002 and parameters: {'learning_rate': 0.010516570401960931, 'depth': 1, 'l2_leaf_reg': 4.297901366789283, 'random_strength': 4.181677949492472}. Best is trial 11 with value: 0.817358179191067.\n",
      "/Users/nikolaistepanov/.pyenv/versions/3.11.3/lib/python3.11/site-packages/sklearn/metrics/_classification.py:1469: UndefinedMetricWarning: Precision is ill-defined and being set to 0.0 due to no predicted samples. Use `zero_division` parameter to control this behavior.\n",
      "  _warn_prf(average, modifier, msg_start, len(result))\n",
      "[I 2023-10-24 15:08:11,578] Trial 18 finished with value: 0.8231111522722228 and parameters: {'learning_rate': 0.028645594831218812, 'depth': 3, 'l2_leaf_reg': 3.1452137749925777, 'random_strength': 3.4437692936077338}. Best is trial 18 with value: 0.8231111522722228.\n",
      "/Users/nikolaistepanov/.pyenv/versions/3.11.3/lib/python3.11/site-packages/sklearn/metrics/_classification.py:1469: UndefinedMetricWarning: Precision is ill-defined and being set to 0.0 due to no predicted samples. Use `zero_division` parameter to control this behavior.\n",
      "  _warn_prf(average, modifier, msg_start, len(result))\n",
      "[I 2023-10-24 15:08:13,568] Trial 19 finished with value: 0.8168437581304402 and parameters: {'learning_rate': 0.03922782959344091, 'depth': 5, 'l2_leaf_reg': 2.241168229304301, 'random_strength': 3.3323386428446002}. Best is trial 18 with value: 0.8231111522722228.\n"
     ]
    }
   ],
   "source": [
    "loaded_study.optimize(objective, n_trials=10, timeout=600, callbacks=[mlflc],)"
   ]
  },
  {
   "cell_type": "code",
   "execution_count": 19,
   "id": "eb96fde7-09d7-4aa6-810f-39dda90e87c1",
   "metadata": {},
   "outputs": [
    {
     "name": "stdout",
     "output_type": "stream",
     "text": [
      "Number of finished trials: 20\n",
      "Best params: {'learning_rate': 0.028645594831218812, 'depth': 3, 'l2_leaf_reg': 3.1452137749925777, 'random_strength': 3.4437692936077338}\n"
     ]
    }
   ],
   "source": [
    "new_best_params = loaded_study.best_params\n",
    "print(f\"Number of finished trials: {len(loaded_study.trials)}\")\n",
    "print(f\"Best params: {new_best_params}\")"
   ]
  }
 ],
 "metadata": {
  "kernelspec": {
   "display_name": "Python 3 (ipykernel)",
   "language": "python",
   "name": "python3"
  },
  "language_info": {
   "codemirror_mode": {
    "name": "ipython",
    "version": 3
   },
   "file_extension": ".py",
   "mimetype": "text/x-python",
   "name": "python",
   "nbconvert_exporter": "python",
   "pygments_lexer": "ipython3",
   "version": "3.11.3"
  }
 },
 "nbformat": 4,
 "nbformat_minor": 5
}
