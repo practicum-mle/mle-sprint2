{
 "cells": [
  {
   "cell_type": "code",
   "execution_count": 53,
   "id": "5ce56654-2bf3-42ad-97e6-72c344f0ae07",
   "metadata": {},
   "outputs": [],
   "source": [
    "import os\n",
    "\n",
    "import psycopg\n",
    "import pandas as pd\n",
    "from numpy import linspace, random\n",
    "import mlflow\n",
    "from catboost import CatBoostClassifier\n",
    "from sklearn.model_selection import train_test_split, GridSearchCV\n",
    "from sklearn.metrics import (\n",
    "    roc_auc_score,\n",
    "    f1_score,\n",
    "    precision_score,\n",
    "    recall_score,\n",
    "    confusion_matrix,\n",
    "    log_loss,\n",
    ")"
   ]
  },
  {
   "cell_type": "code",
   "execution_count": 54,
   "id": "20d63ca1-6fcc-45e3-9968-10c63121b397",
   "metadata": {},
   "outputs": [],
   "source": [
    "random.seed(0)"
   ]
  },
  {
   "cell_type": "markdown",
   "id": "42e46c07-7dec-402f-9cfd-1b93927a5301",
   "metadata": {},
   "source": [
    "##### 1. Определим глобальные перменные"
   ]
  },
  {
   "cell_type": "code",
   "execution_count": 33,
   "id": "06db668a-d90b-4a48-8bc3-b233077b1e16",
   "metadata": {},
   "outputs": [],
   "source": [
    "TABLE_NAME = \"users_churn\"\n",
    "\n",
    "TRACKING_SERVER_HOST = \"127.0.0.1\"\n",
    "TRACKING_SERVER_PORT = 5000\n",
    "\n",
    "EXPERIMENT_NAME = \"churn_nikolaistepanov\"\n",
    "RUN_NAME = \"model_grid_search\"\n",
    "REGISTRY_MODEL_NAME = \"churn_model_nikolaistepanov_prepared\""
   ]
  },
  {
   "cell_type": "markdown",
   "id": "79827af4-725e-45c9-bcaf-10d2a991191b",
   "metadata": {},
   "source": [
    "##### 2. Заберем данные"
   ]
  },
  {
   "cell_type": "code",
   "execution_count": 34,
   "id": "abcf0daa-5967-41c2-b4e4-49b94b4c569c",
   "metadata": {},
   "outputs": [],
   "source": [
    "connection = {\"sslmode\": \"verify-full\", \"target_session_attrs\": \"read-write\"}\n",
    "postgres_credentials = {\n",
    "    \"host\": os.getenv(\"POSTGRES_HOST\"),\n",
    "    \"port\": os.getenv(\"POSTGRES_PORT\"),\n",
    "    \"dbname\": os.getenv(\"POSTGRES_DBNAME\"),\n",
    "    \"user\": os.getenv(\"POSTGRES_USER\"),\n",
    "    \"password\": os.getenv(\"POSTGRES_PASSWORD\"),\n",
    "}\n",
    "\n",
    "connection.update(postgres_credentials)"
   ]
  },
  {
   "cell_type": "code",
   "execution_count": 35,
   "id": "a434409a-6d7e-4ca3-ba89-f4b2ef774698",
   "metadata": {},
   "outputs": [],
   "source": [
    "with psycopg.connect(**connection) as conn:\n",
    "\n",
    "    with conn.cursor() as cur:\n",
    "        cur.execute(f\"SELECT * FROM {TABLE_NAME}\")\n",
    "        data = cur.fetchall()\n",
    "        columns = [col[0] for col in cur.description]\n",
    "\n",
    "df = pd.DataFrame(data, columns=columns)"
   ]
  },
  {
   "cell_type": "markdown",
   "id": "0b88df31-906a-4532-926d-f2336da29096",
   "metadata": {},
   "source": [
    "##### 3. Разделим данные на train, test по `begin_date`"
   ]
  },
  {
   "cell_type": "code",
   "execution_count": 36,
   "id": "701d1012-8e36-4897-9905-5cc8a7dad9b6",
   "metadata": {},
   "outputs": [],
   "source": [
    "features = [\"monthly_charges\", \"total_charges\", \"senior_citizen\"]\n",
    "target = \"target\"\n",
    "\n",
    "split_column = \"begin_date\"\n",
    "stratify_column = [\"type\"]\n",
    "test_size = 0.2"
   ]
  },
  {
   "cell_type": "code",
   "execution_count": 37,
   "id": "aa3839a5-f774-4b66-a9fc-ec56e6280706",
   "metadata": {},
   "outputs": [],
   "source": [
    "df = df.sort_values(by=[split_column])"
   ]
  },
  {
   "cell_type": "code",
   "execution_count": 38,
   "id": "3f634612-a230-438d-86d3-8ac97376a639",
   "metadata": {},
   "outputs": [],
   "source": [
    "X_train, X_test, y_train, y_test = train_test_split(\n",
    "    df[features],\n",
    "    df[target],\n",
    "    test_size=test_size,\n",
    "    shuffle=False,\n",
    ")"
   ]
  },
  {
   "cell_type": "code",
   "execution_count": 39,
   "id": "3eb78b97-f710-4dfc-8e03-d61af0402a30",
   "metadata": {},
   "outputs": [
    {
     "name": "stdout",
     "output_type": "stream",
     "text": [
      "Размер выборки для обучения: (5634, 3)\n",
      "Размер выборки для теста: (1409, 3)\n"
     ]
    }
   ],
   "source": [
    "print(f\"Размер выборки для обучения: {X_train.shape}\")\n",
    "print(f\"Размер выборки для теста: {X_test.shape}\")"
   ]
  },
  {
   "cell_type": "markdown",
   "id": "3010a600-3a4a-4eb6-a517-a2df553e2172",
   "metadata": {},
   "source": [
    "##### 4. Определим гиперпараметры модели, которые хотим подобрать, и диапазоны возможных значений для них"
   ]
  },
  {
   "cell_type": "code",
   "execution_count": 40,
   "id": "43bd3ed8-51ab-4303-ad8a-1b9c0dd3f3bd",
   "metadata": {},
   "outputs": [],
   "source": [
    "loss_function = \"Logloss\"\n",
    "task_type = 'CPU'\n",
    "random_seed = 0\n",
    "iterations = 300\n",
    "verbose = False\n",
    "\n",
    "params = {\n",
    "    \"learning_rate\": linspace(start=0.001, stop=0.1, num=5),\n",
    "    \"depth\": [2, 5],\n",
    "    \"l2_leaf_reg\": linspace(start=0.1, stop=5, num=5),\n",
    "    \"random_strength\": linspace(start=0.1, stop=5, num=5),\n",
    "}"
   ]
  },
  {
   "cell_type": "code",
   "execution_count": 41,
   "id": "4c7f8aaa-f542-4f41-819c-2a97a5aad736",
   "metadata": {},
   "outputs": [],
   "source": [
    "model = CatBoostClassifier(\n",
    "    iterations=iterations, \n",
    "    loss_function=loss_function, \n",
    "    random_seed=random_seed, \n",
    "    task_type=task_type,\n",
    "    verbose=verbose,\n",
    ")"
   ]
  },
  {
   "cell_type": "markdown",
   "id": "f188b7fe-319c-4f58-8610-6dd9f56940c8",
   "metadata": {},
   "source": [
    "##### 5. Определим объект класса GridSearch"
   ]
  },
  {
   "cell_type": "code",
   "execution_count": 42,
   "id": "392facc0-4c19-49ad-8dd8-2ea5e7b52305",
   "metadata": {},
   "outputs": [],
   "source": [
    "cv = GridSearchCV(\n",
    "    estimator=model, \n",
    "    param_grid=params, \n",
    "    n_jobs=-1, \n",
    "    cv=2\n",
    ")"
   ]
  },
  {
   "cell_type": "markdown",
   "id": "843a48a8-5193-4b00-85b1-69ef12d2ebcf",
   "metadata": {},
   "source": [
    "##### 6. Запустим побор гиперпараметров"
   ]
  },
  {
   "cell_type": "code",
   "execution_count": 43,
   "id": "80e96ae7-3aa1-4213-8f0c-8073c563171f",
   "metadata": {},
   "outputs": [
    {
     "name": "stdout",
     "output_type": "stream",
     "text": [
      "CPU times: user 953 ms, sys: 519 ms, total: 1.47 s\n",
      "Wall time: 23.3 s\n"
     ]
    }
   ],
   "source": [
    "%%time\n",
    "\n",
    "clf = cv.fit(X_train, y_train)"
   ]
  },
  {
   "cell_type": "markdown",
   "id": "d364b172-d00f-4998-85aa-3bc0d37f457f",
   "metadata": {},
   "source": [
    "##### 7. Соберем аналитику по подбору и залогируем в `MLFlow`"
   ]
  },
  {
   "cell_type": "code",
   "execution_count": 44,
   "id": "2dc98595-2c31-4d6d-9b99-fea9667f7d44",
   "metadata": {},
   "outputs": [],
   "source": [
    "os.environ[\"MLFLOW_S3_ENDPOINT_URL\"] = \"...\"\n",
    "os.environ[\"AWS_ACCESS_KEY_ID\"] = \"...\"\n",
    "os.environ[\"AWS_SECRET_ACCESS_KEY\"] = \"...\""
   ]
  },
  {
   "cell_type": "code",
   "execution_count": 45,
   "id": "c7c87355-f0fc-42d6-9995-9b1bcfd03e0c",
   "metadata": {},
   "outputs": [],
   "source": [
    "mlflow.set_tracking_uri(f\"http://{TRACKING_SERVER_HOST}:{TRACKING_SERVER_PORT}\")\n",
    "mlflow.set_registry_uri(f\"http://{TRACKING_SERVER_HOST}:{TRACKING_SERVER_PORT}\")"
   ]
  },
  {
   "cell_type": "code",
   "execution_count": 46,
   "id": "0d3ebd79-ec29-45b8-a342-03b4e2d68d5a",
   "metadata": {},
   "outputs": [],
   "source": [
    "cv_results = pd.DataFrame(clf.cv_results_)\n",
    "\n",
    "best_params = clf.best_params_"
   ]
  },
  {
   "cell_type": "code",
   "execution_count": 47,
   "id": "6de76208-a22d-44d7-bfb1-27dbcd4b36f5",
   "metadata": {},
   "outputs": [
    {
     "data": {
      "text/html": [
       "<div>\n",
       "<style scoped>\n",
       "    .dataframe tbody tr th:only-of-type {\n",
       "        vertical-align: middle;\n",
       "    }\n",
       "\n",
       "    .dataframe tbody tr th {\n",
       "        vertical-align: top;\n",
       "    }\n",
       "\n",
       "    .dataframe thead th {\n",
       "        text-align: right;\n",
       "    }\n",
       "</style>\n",
       "<table border=\"1\" class=\"dataframe\">\n",
       "  <thead>\n",
       "    <tr style=\"text-align: right;\">\n",
       "      <th></th>\n",
       "      <th>mean_fit_time</th>\n",
       "      <th>std_fit_time</th>\n",
       "      <th>mean_score_time</th>\n",
       "      <th>std_score_time</th>\n",
       "      <th>param_depth</th>\n",
       "      <th>param_l2_leaf_reg</th>\n",
       "      <th>param_learning_rate</th>\n",
       "      <th>param_random_strength</th>\n",
       "      <th>params</th>\n",
       "      <th>split0_test_score</th>\n",
       "      <th>split1_test_score</th>\n",
       "      <th>mean_test_score</th>\n",
       "      <th>std_test_score</th>\n",
       "      <th>rank_test_score</th>\n",
       "    </tr>\n",
       "  </thead>\n",
       "  <tbody>\n",
       "    <tr>\n",
       "      <th>0</th>\n",
       "      <td>0.296663</td>\n",
       "      <td>0.004098</td>\n",
       "      <td>0.005787</td>\n",
       "      <td>0.000398</td>\n",
       "      <td>2</td>\n",
       "      <td>0.1</td>\n",
       "      <td>0.001</td>\n",
       "      <td>0.1</td>\n",
       "      <td>{'depth': 2, 'l2_leaf_reg': 0.1, 'learning_rat...</td>\n",
       "      <td>0.785942</td>\n",
       "      <td>0.683351</td>\n",
       "      <td>0.734647</td>\n",
       "      <td>0.051296</td>\n",
       "      <td>33</td>\n",
       "    </tr>\n",
       "    <tr>\n",
       "      <th>1</th>\n",
       "      <td>0.287730</td>\n",
       "      <td>0.027295</td>\n",
       "      <td>0.004534</td>\n",
       "      <td>0.001132</td>\n",
       "      <td>2</td>\n",
       "      <td>0.1</td>\n",
       "      <td>0.001</td>\n",
       "      <td>1.325</td>\n",
       "      <td>{'depth': 2, 'l2_leaf_reg': 0.1, 'learning_rat...</td>\n",
       "      <td>0.785942</td>\n",
       "      <td>0.733049</td>\n",
       "      <td>0.759496</td>\n",
       "      <td>0.026447</td>\n",
       "      <td>17</td>\n",
       "    </tr>\n",
       "  </tbody>\n",
       "</table>\n",
       "</div>"
      ],
      "text/plain": [
       "   mean_fit_time  std_fit_time  mean_score_time  std_score_time param_depth  \\\n",
       "0       0.296663      0.004098         0.005787        0.000398           2   \n",
       "1       0.287730      0.027295         0.004534        0.001132           2   \n",
       "\n",
       "  param_l2_leaf_reg param_learning_rate param_random_strength  \\\n",
       "0               0.1               0.001                   0.1   \n",
       "1               0.1               0.001                 1.325   \n",
       "\n",
       "                                              params  split0_test_score  \\\n",
       "0  {'depth': 2, 'l2_leaf_reg': 0.1, 'learning_rat...           0.785942   \n",
       "1  {'depth': 2, 'l2_leaf_reg': 0.1, 'learning_rat...           0.785942   \n",
       "\n",
       "   split1_test_score  mean_test_score  std_test_score  rank_test_score  \n",
       "0           0.683351         0.734647        0.051296               33  \n",
       "1           0.733049         0.759496        0.026447               17  "
      ]
     },
     "execution_count": 47,
     "metadata": {},
     "output_type": "execute_result"
    }
   ],
   "source": [
    "cv_results.head(2)"
   ]
  },
  {
   "cell_type": "code",
   "execution_count": 48,
   "id": "2ed012f2-575a-4858-9cdc-38e38953a529",
   "metadata": {},
   "outputs": [],
   "source": [
    "model = CatBoostClassifier(\n",
    "    iterations=iterations, \n",
    "    loss_function=loss_function, \n",
    "    random_seed=random_seed, \n",
    "    task_type=task_type,\n",
    "    verbose=verbose,\n",
    "    **best_params,\n",
    ")"
   ]
  },
  {
   "cell_type": "code",
   "execution_count": 49,
   "id": "6d398c66-9675-47e8-abec-eefbed8e6b3f",
   "metadata": {},
   "outputs": [
    {
     "data": {
      "text/plain": [
       "<catboost.core.CatBoostClassifier at 0x2942334d0>"
      ]
     },
     "execution_count": 49,
     "metadata": {},
     "output_type": "execute_result"
    }
   ],
   "source": [
    "model.fit(X_train, y_train)"
   ]
  },
  {
   "cell_type": "code",
   "execution_count": 50,
   "id": "a010384d-87f9-4765-840b-f11a9ff88b49",
   "metadata": {},
   "outputs": [],
   "source": [
    "prediction = model.predict(X_test)\n",
    "probas = model.predict_proba(X_test)[:, 1]"
   ]
  },
  {
   "cell_type": "code",
   "execution_count": 57,
   "id": "c15d2b68-9ef8-49ee-8fd0-7301a594d06e",
   "metadata": {},
   "outputs": [
    {
     "name": "stderr",
     "output_type": "stream",
     "text": [
      "/Users/nikolaistepanov/.pyenv/versions/3.11.3/lib/python3.11/site-packages/sklearn/metrics/_classification.py:1469: UndefinedMetricWarning: Precision is ill-defined and being set to 0.0 due to no predicted samples. Use `zero_division` parameter to control this behavior.\n",
      "  _warn_prf(average, modifier, msg_start, len(result))\n"
     ]
    }
   ],
   "source": [
    "metrics = {}\n",
    "\n",
    "_, err1, _, err2 = confusion_matrix(y_test, prediction, normalize='all').ravel()\n",
    "auc = roc_auc_score(y_test, probas)\n",
    "precision = precision_score(y_test, prediction)\n",
    "recall = recall_score(y_test, prediction)\n",
    "f1 = f1_score(y_test, prediction)\n",
    "logloss = log_loss(y_test, prediction)\n",
    "\n",
    "metrics[\"err1\"] = err1\n",
    "metrics[\"err2\"] = err2\n",
    "metrics[\"auc\"] = auc\n",
    "metrics[\"precision\"] = precision\n",
    "metrics[\"recall\"] = recall\n",
    "metrics[\"f1\"] = f1\n",
    "metrics[\"logloss\"] = logloss\n",
    "\n",
    "metrics[\"mean_fit_time\"] = cv_results[\"mean_fit_time\"].mean()\n",
    "metrics[\"std_fit_time\"] = cv_results[\"std_fit_time\"].mean()\n",
    "metrics[\"mean_test_score\"] = cv_results[\"mean_test_score\"].mean()\n",
    "metrics[\"std_test_score\"] = cv_results[\"std_test_score\"].mean()\n",
    "\n",
    "metrics[\"best_score\"] = clf.best_score_\n",
    "\n",
    "best_params = clf.best_params_"
   ]
  },
  {
   "cell_type": "code",
   "execution_count": 58,
   "id": "371df33e-c94b-48d0-af2b-19c6b7569332",
   "metadata": {},
   "outputs": [
    {
     "data": {
      "text/plain": [
       "{'err1': 0.0,\n",
       " 'err2': 0.0,\n",
       " 'auc': 0.7064808187659471,\n",
       " 'precision': 0.0,\n",
       " 'recall': 0.0,\n",
       " 'f1': 0.0,\n",
       " 'logloss': 16.96021447621339,\n",
       " 'mean_fit_time': 0.3372681589126587,\n",
       " 'std_fit_time': 0.03691943073272705,\n",
       " 'mean_test_score': 0.6290067447639333,\n",
       " 'std_test_score': 0.15715441959531415,\n",
       " 'best_score': 0.796059637912673}"
      ]
     },
     "execution_count": 58,
     "metadata": {},
     "output_type": "execute_result"
    }
   ],
   "source": [
    "metrics"
   ]
  },
  {
   "cell_type": "code",
   "execution_count": 55,
   "id": "624e681c-4998-40c4-b7a5-2c8d0fd89e34",
   "metadata": {},
   "outputs": [
    {
     "data": {
      "text/plain": [
       "{'depth': 2,\n",
       " 'l2_leaf_reg': 0.1,\n",
       " 'learning_rate': 0.001,\n",
       " 'random_strength': 5.0}"
      ]
     },
     "execution_count": 55,
     "metadata": {},
     "output_type": "execute_result"
    }
   ],
   "source": [
    "best_params"
   ]
  },
  {
   "cell_type": "code",
   "execution_count": 52,
   "id": "db5bbcac-3885-45d4-bafb-42e5bcdaeeba",
   "metadata": {},
   "outputs": [
    {
     "name": "stderr",
     "output_type": "stream",
     "text": [
      "/Users/nikolaistepanov/.pyenv/versions/3.11.3/lib/python3.11/site-packages/mlflow/models/signature.py:212: UserWarning: Hint: Inferred schema contains integer column(s). Integer columns in Python cannot represent missing values. If your input data contains missing values at inference time, it will be encoded as floats and will cause a schema enforcement error. The best way to avoid this problem is to infer the model schema based on a realistic data sample (training dataset) that includes missing values. Alternatively, you can declare integer columns as doubles (float64) whenever these columns may have missing values. See `Handling Integers With Missing Values <https://www.mlflow.org/docs/latest/models.html#handling-integers-with-missing-values>`_ for more details.\n",
      "  inputs = _infer_schema(model_input) if model_input is not None else None\n",
      "/Users/nikolaistepanov/.pyenv/versions/3.11.3/lib/python3.11/site-packages/_distutils_hack/__init__.py:18: UserWarning: Distutils was imported before Setuptools, but importing Setuptools also replaces the `distutils` module in `sys.modules`. This may lead to undesirable behaviors or errors. To avoid these issues, avoid using distutils directly, ensure that setuptools is installed in the traditional way (e.g. not an editable install), and/or make sure that setuptools is always imported before distutils.\n",
      "  warnings.warn(\n",
      "/Users/nikolaistepanov/.pyenv/versions/3.11.3/lib/python3.11/site-packages/_distutils_hack/__init__.py:33: UserWarning: Setuptools is replacing distutils.\n",
      "  warnings.warn(\"Setuptools is replacing distutils.\")\n",
      "/Users/nikolaistepanov/.pyenv/versions/3.11.3/lib/python3.11/site-packages/_distutils_hack/__init__.py:18: UserWarning: Distutils was imported before Setuptools, but importing Setuptools also replaces the `distutils` module in `sys.modules`. This may lead to undesirable behaviors or errors. To avoid these issues, avoid using distutils directly, ensure that setuptools is installed in the traditional way (e.g. not an editable install), and/or make sure that setuptools is always imported before distutils.\n",
      "  warnings.warn(\n",
      "/Users/nikolaistepanov/.pyenv/versions/3.11.3/lib/python3.11/site-packages/_distutils_hack/__init__.py:33: UserWarning: Setuptools is replacing distutils.\n",
      "  warnings.warn(\"Setuptools is replacing distutils.\")\n",
      "Registered model 'churn_model_nikolaistepanov_prepared' already exists. Creating a new version of this model...\n",
      "2023/10/23 13:38:48 INFO mlflow.tracking._model_registry.client: Waiting up to 60 seconds for model version to finish creation. Model name: churn_model_nikolaistepanov_prepared, version 4\n",
      "Created version '4' of model 'churn_model_nikolaistepanov_prepared'.\n"
     ]
    }
   ],
   "source": [
    "pip_requirements=\"../requirements.txt\"\n",
    "signature = mlflow.models.infer_signature(X_test, prediction)\n",
    "input_example = X_test[:10]\n",
    "\n",
    "experiment_id = mlflow.get_experiment_by_name(EXPERIMENT_NAME).experiment_id\n",
    "\n",
    "with mlflow.start_run(run_name=RUN_NAME, experiment_id=experiment_id) as run:\n",
    "    run_id = run.info.run_id\n",
    "    \n",
    "    mlflow.log_metrics(metrics)\n",
    "    mlflow.log_params(best_params)\n",
    "    cv_info = mlflow.sklearn.log_model(cv, artifact_path=\"cv\")\n",
    "    model_info = mlflow.catboost.log_model(\n",
    "        cb_model=model, \n",
    "        artifact_path=\"models\",\n",
    "        signature=signature,\n",
    "        input_example=input_example,\n",
    "        registered_model_name=REGISTRY_MODEL_NAME,\n",
    "        await_registration_for=60,\n",
    "        pip_requirements=pip_requirements,\n",
    "    )"
   ]
  },
  {
   "cell_type": "code",
   "execution_count": null,
   "id": "4b61b449-c65e-4532-9706-beaa86ade44a",
   "metadata": {},
   "outputs": [],
   "source": []
  }
 ],
 "metadata": {
  "kernelspec": {
   "display_name": "Python 3 (ipykernel)",
   "language": "python",
   "name": "python3"
  },
  "language_info": {
   "codemirror_mode": {
    "name": "ipython",
    "version": 3
   },
   "file_extension": ".py",
   "mimetype": "text/x-python",
   "name": "python",
   "nbconvert_exporter": "python",
   "pygments_lexer": "ipython3",
   "version": "3.11.3"
  }
 },
 "nbformat": 4,
 "nbformat_minor": 5
}
