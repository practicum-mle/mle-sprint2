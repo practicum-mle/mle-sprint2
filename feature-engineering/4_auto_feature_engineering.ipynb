{
 "cells": [
  {
   "cell_type": "markdown",
   "id": "baba0439-2599-4df4-9fd7-4aa9e0ca915d",
   "metadata": {},
   "source": [
    "##### 1. Установим нужные библиотеки"
   ]
  },
  {
   "cell_type": "code",
   "execution_count": 1,
   "id": "6a3737e8-3211-44b1-b9a0-4ec99ba199a2",
   "metadata": {},
   "outputs": [],
   "source": [
    "import os\n",
    "\n",
    "import psycopg\n",
    "import pandas as pd\n",
    "import numpy as np"
   ]
  },
  {
   "cell_type": "markdown",
   "id": "c2044988-b6c1-471a-bde3-9ae57d91b3b5",
   "metadata": {},
   "source": [
    "##### 1. Определим глобальные перменные"
   ]
  },
  {
   "cell_type": "code",
   "execution_count": 2,
   "id": "98744870-4a2a-4f6e-b316-291f416828eb",
   "metadata": {},
   "outputs": [],
   "source": [
    "TABLE_NAME = \"users_churn\""
   ]
  },
  {
   "cell_type": "markdown",
   "id": "e7e405b0-de01-4cd1-ae4b-5addb5192f62",
   "metadata": {},
   "source": [
    "##### 2. Заберем данные из базы данных и сформируем `dataframe`"
   ]
  },
  {
   "cell_type": "code",
   "execution_count": 3,
   "id": "c8162a5a-33f9-4a96-9042-e1df68e8c563",
   "metadata": {},
   "outputs": [],
   "source": [
    "connection = {\"sslmode\": \"verify-full\", \"target_session_attrs\": \"read-write\"}\n",
    "postgres_credentials = {\n",
    "    \"host\": os.getenv(\"POSTGRES_HOST\"),\n",
    "    \"port\": os.getenv(\"POSTGRES_PORT\"),\n",
    "    \"dbname\": os.getenv(\"POSTGRES_DBNAME\"),\n",
    "    \"user\": os.getenv(\"POSTGRES_USER\"),\n",
    "    \"password\": os.getenv(\"POSTGRES_PASSWORD\"),\n",
    "}\n",
    "\n",
    "connection.update(postgres_credentials)"
   ]
  },
  {
   "cell_type": "code",
   "execution_count": 4,
   "id": "03410367-74bd-4443-9249-d45c5179f470",
   "metadata": {},
   "outputs": [],
   "source": [
    "with psycopg.connect(**connection) as conn:\n",
    "\n",
    "    with conn.cursor() as cur:\n",
    "        cur.execute(f\"SELECT * FROM {TABLE_NAME}\")\n",
    "        data = cur.fetchall()\n",
    "        columns = [col[0] for col in cur.description]\n",
    "\n",
    "df = pd.DataFrame(data, columns=columns)"
   ]
  },
  {
   "cell_type": "markdown",
   "id": "9e225968-a67c-4b72-988e-2fa3d0ec5eeb",
   "metadata": {},
   "source": [
    "##### 2. Посмотрим какие методы можно использовать для генерации новых признаков:"
   ]
  },
  {
   "cell_type": "markdown",
   "id": "a1b166bd-9c55-417c-be64-a5468612a1c1",
   "metadata": {},
   "source": [
    "##### 4.3 Проверим, что загруженный `ColumnTransformer` работает точно также, как и оригинальный"
   ]
  },
  {
   "cell_type": "code",
   "execution_count": 95,
   "id": "f277ea92-b7dd-49b9-90b9-4b071f4d9b34",
   "metadata": {},
   "outputs": [],
   "source": [
    "features = (\n",
    "    list(transformed_df.columns) + \\\n",
    "    [\n",
    "        \"days_diff\", \"diff_years\", \"diff_months\"\n",
    "    ] + \\\n",
    "    [\n",
    "        'monthly_charges', 'total_charges', 'online_security', 'online_backup',\n",
    "        'device_protection', 'tech_support', 'streaming_tv', 'streaming_movies',\n",
    "        'senior_citizen', 'partner', 'dependents', 'multiple_lines'\n",
    "    ]\n",
    ")\n",
    "\n",
    "target = \"target\"\n",
    "\n",
    "loss_function = \"Logloss\"\n",
    "task_type = 'CPU'\n",
    "random_seed = 0\n",
    "iterations = 400\n",
    "verbose = False\n",
    "max_depth=3\n",
    "\n",
    "model = CatBoostClassifier(\n",
    "    iterations=iterations, \n",
    "    loss_function=loss_function, \n",
    "    random_seed=random_seed, \n",
    "    task_type=task_type,\n",
    "    verbose=verbose,\n",
    "    max_depth=max_depth\n",
    ")\n",
    "\n",
    "test_size = 0.2\n",
    "X_train, X_test, y_train, y_test = train_test_split(\n",
    "    df[features],\n",
    "    df[target],\n",
    "    test_size=test_size,\n",
    "    shuffle=False,\n",
    ")"
   ]
  },
  {
   "cell_type": "code",
   "execution_count": 96,
   "id": "b51cdb14-296a-4f64-ac0e-28d5db38c599",
   "metadata": {},
   "outputs": [
    {
     "data": {
      "text/html": [
       "<div>\n",
       "<style scoped>\n",
       "    .dataframe tbody tr th:only-of-type {\n",
       "        vertical-align: middle;\n",
       "    }\n",
       "\n",
       "    .dataframe tbody tr th {\n",
       "        vertical-align: top;\n",
       "    }\n",
       "\n",
       "    .dataframe thead th {\n",
       "        text-align: right;\n",
       "    }\n",
       "</style>\n",
       "<table border=\"1\" class=\"dataframe\">\n",
       "  <thead>\n",
       "    <tr style=\"text-align: right;\">\n",
       "      <th></th>\n",
       "      <th>id</th>\n",
       "      <th>customer_id</th>\n",
       "      <th>begin_date</th>\n",
       "      <th>end_date</th>\n",
       "      <th>type</th>\n",
       "      <th>paperless_billing</th>\n",
       "      <th>payment_method</th>\n",
       "      <th>monthly_charges</th>\n",
       "      <th>total_charges</th>\n",
       "      <th>internet_service</th>\n",
       "      <th>...</th>\n",
       "      <th>cat__payment_method_Credit card (automatic)</th>\n",
       "      <th>cat__payment_method_Electronic check</th>\n",
       "      <th>cat__payment_method_Mailed check</th>\n",
       "      <th>cat__internet_service_Fiber optic</th>\n",
       "      <th>cat__internet_service_No data</th>\n",
       "      <th>cat__gender_Male</th>\n",
       "      <th>current_date</th>\n",
       "      <th>days_diff</th>\n",
       "      <th>diff_years</th>\n",
       "      <th>diff_months</th>\n",
       "    </tr>\n",
       "  </thead>\n",
       "  <tbody>\n",
       "    <tr>\n",
       "      <th>0</th>\n",
       "      <td>1</td>\n",
       "      <td>7590-VHVEG</td>\n",
       "      <td>2020-01-01</td>\n",
       "      <td>NaT</td>\n",
       "      <td>Month-to-month</td>\n",
       "      <td>1</td>\n",
       "      <td>Electronic check</td>\n",
       "      <td>29.85</td>\n",
       "      <td>29.85</td>\n",
       "      <td>DSL</td>\n",
       "      <td>...</td>\n",
       "      <td>0.0</td>\n",
       "      <td>1.0</td>\n",
       "      <td>0.0</td>\n",
       "      <td>0.0</td>\n",
       "      <td>0.0</td>\n",
       "      <td>0.0</td>\n",
       "      <td>2023-10-31 13:55:36.785985</td>\n",
       "      <td>1399</td>\n",
       "      <td>3</td>\n",
       "      <td>9</td>\n",
       "    </tr>\n",
       "    <tr>\n",
       "      <th>1</th>\n",
       "      <td>2</td>\n",
       "      <td>5575-GNVDE</td>\n",
       "      <td>2017-04-01</td>\n",
       "      <td>NaT</td>\n",
       "      <td>One year</td>\n",
       "      <td>0</td>\n",
       "      <td>Mailed check</td>\n",
       "      <td>56.95</td>\n",
       "      <td>1889.50</td>\n",
       "      <td>DSL</td>\n",
       "      <td>...</td>\n",
       "      <td>0.0</td>\n",
       "      <td>0.0</td>\n",
       "      <td>1.0</td>\n",
       "      <td>0.0</td>\n",
       "      <td>0.0</td>\n",
       "      <td>1.0</td>\n",
       "      <td>2023-10-31 13:55:36.785985</td>\n",
       "      <td>2404</td>\n",
       "      <td>6</td>\n",
       "      <td>6</td>\n",
       "    </tr>\n",
       "  </tbody>\n",
       "</table>\n",
       "<p>2 rows × 62 columns</p>\n",
       "</div>"
      ],
      "text/plain": [
       "   id customer_id begin_date end_date            type  paperless_billing  \\\n",
       "0   1  7590-VHVEG 2020-01-01      NaT  Month-to-month                  1   \n",
       "1   2  5575-GNVDE 2017-04-01      NaT        One year                  0   \n",
       "\n",
       "     payment_method  monthly_charges  total_charges internet_service  ...  \\\n",
       "0  Electronic check            29.85          29.85              DSL  ...   \n",
       "1      Mailed check            56.95        1889.50              DSL  ...   \n",
       "\n",
       "   cat__payment_method_Credit card (automatic)  \\\n",
       "0                                          0.0   \n",
       "1                                          0.0   \n",
       "\n",
       "   cat__payment_method_Electronic check  cat__payment_method_Mailed check  \\\n",
       "0                                   1.0                               0.0   \n",
       "1                                   0.0                               1.0   \n",
       "\n",
       "   cat__internet_service_Fiber optic  cat__internet_service_No data  \\\n",
       "0                                0.0                            0.0   \n",
       "1                                0.0                            0.0   \n",
       "\n",
       "   cat__gender_Male               current_date  days_diff  diff_years  \\\n",
       "0               0.0 2023-10-31 13:55:36.785985       1399           3   \n",
       "1               1.0 2023-10-31 13:55:36.785985       2404           6   \n",
       "\n",
       "   diff_months  \n",
       "0            9  \n",
       "1            6  \n",
       "\n",
       "[2 rows x 62 columns]"
      ]
     },
     "execution_count": 96,
     "metadata": {},
     "output_type": "execute_result"
    }
   ],
   "source": [
    "df.head(2)"
   ]
  },
  {
   "cell_type": "code",
   "execution_count": 97,
   "id": "a23e340a-8515-49b8-86a3-f14f1838ec2c",
   "metadata": {},
   "outputs": [
    {
     "name": "stdout",
     "output_type": "stream",
     "text": [
      "Размер выборки для обучения: (5634, 51)\n",
      "Размер выборки для теста: (1409, 51)\n"
     ]
    }
   ],
   "source": [
    "print(f\"Размер выборки для обучения: {X_train.shape}\")\n",
    "print(f\"Размер выборки для теста: {X_test.shape}\")"
   ]
  },
  {
   "cell_type": "code",
   "execution_count": 98,
   "id": "975b8d9c-332d-4cd2-b7e0-c1f4bca2ed37",
   "metadata": {},
   "outputs": [
    {
     "data": {
      "text/plain": [
       "<catboost.core.CatBoostClassifier at 0x2905cb510>"
      ]
     },
     "execution_count": 98,
     "metadata": {},
     "output_type": "execute_result"
    }
   ],
   "source": [
    "model.fit(X_train, y_train)"
   ]
  },
  {
   "cell_type": "code",
   "execution_count": 101,
   "id": "fce2988b-d90e-4900-85b2-b905f972ed7e",
   "metadata": {},
   "outputs": [],
   "source": [
    "prediction = model.predict(X_test)\n",
    "probas = model.predict_proba(X_test)[:, 1]"
   ]
  },
  {
   "cell_type": "code",
   "execution_count": 103,
   "id": "81bab76a-2388-43eb-a950-2b89e07b93d1",
   "metadata": {},
   "outputs": [],
   "source": [
    "metrics = {}\n",
    "\n",
    "_, err1, _, err2 = confusion_matrix(y_test, prediction, normalize='all').ravel()\n",
    "auc = roc_auc_score(y_test, probas)\n",
    "precision = precision_score(y_test, prediction)\n",
    "recall = recall_score(y_test, prediction)\n",
    "f1 = f1_score(y_test, prediction)\n",
    "logloss = log_loss(y_test, prediction)\n",
    "\n",
    "metrics[\"err1\"] = err1\n",
    "metrics[\"err2\"] = err2\n",
    "metrics[\"auc\"] = auc\n",
    "metrics[\"precision\"] = precision\n",
    "metrics[\"recall\"] = recall\n",
    "metrics[\"f1\"] = f1\n",
    "metrics[\"logloss\"] = logloss"
   ]
  },
  {
   "cell_type": "code",
   "execution_count": 105,
   "id": "4933d3dc-263b-4733-b13b-e7aae9000d33",
   "metadata": {
    "scrolled": true
   },
   "outputs": [
    {
     "name": "stderr",
     "output_type": "stream",
     "text": [
      "/Users/nikolaistepanov/.pyenv/versions/3.11.3/lib/python3.11/site-packages/mlflow/models/signature.py:212: UserWarning: Hint: Inferred schema contains integer column(s). Integer columns in Python cannot represent missing values. If your input data contains missing values at inference time, it will be encoded as floats and will cause a schema enforcement error. The best way to avoid this problem is to infer the model schema based on a realistic data sample (training dataset) that includes missing values. Alternatively, you can declare integer columns as doubles (float64) whenever these columns may have missing values. See `Handling Integers With Missing Values <https://www.mlflow.org/docs/latest/models.html#handling-integers-with-missing-values>`_ for more details.\n",
      "  inputs = _infer_schema(model_input) if model_input is not None else None\n",
      "2023/10/31 13:58:58 WARNING mlflow.sklearn: Model was missing function: predict. Not logging python_function flavor!\n",
      "/Users/nikolaistepanov/.pyenv/versions/3.11.3/lib/python3.11/site-packages/_distutils_hack/__init__.py:33: UserWarning: Setuptools is replacing distutils.\n",
      "  warnings.warn(\"Setuptools is replacing distutils.\")\n",
      "Registered model 'churn_model_nikolaistepanov_prepared' already exists. Creating a new version of this model...\n",
      "2023/10/31 13:59:04 INFO mlflow.tracking._model_registry.client: Waiting up to 60 seconds for model version to finish creation. Model name: churn_model_nikolaistepanov_prepared, version 9\n",
      "Created version '9' of model 'churn_model_nikolaistepanov_prepared'.\n"
     ]
    }
   ],
   "source": [
    "pip_requirements=\"../requirements.txt\"\n",
    "signature = mlflow.models.infer_signature(X_test, prediction)\n",
    "input_example = X_test[:10]\n",
    "\n",
    "experiment_id = mlflow.get_experiment_by_name(EXPERIMENT_NAME).experiment_id\n",
    "\n",
    "with mlflow.start_run(run_name=RUN_NAME, experiment_id=experiment_id) as run:\n",
    "    run_id = run.info.run_id\n",
    "    \n",
    "    mlflow.log_metrics(metrics)\n",
    "    cv_info = mlflow.sklearn.log_model(preprocessor, artifact_path=\"preprocessor\")\n",
    "    model_info = mlflow.catboost.log_model(\n",
    "        cb_model=model, \n",
    "        artifact_path=\"models\",\n",
    "        signature=signature,\n",
    "        input_example=input_example,\n",
    "        registered_model_name=REGISTRY_MODEL_NAME,\n",
    "        await_registration_for=60,\n",
    "        pip_requirements=pip_requirements,\n",
    "    )"
   ]
  }
 ],
 "metadata": {
  "kernelspec": {
   "display_name": "Python 3 (ipykernel)",
   "language": "python",
   "name": "python3"
  },
  "language_info": {
   "codemirror_mode": {
    "name": "ipython",
    "version": 3
   },
   "file_extension": ".py",
   "mimetype": "text/x-python",
   "name": "python",
   "nbconvert_exporter": "python",
   "pygments_lexer": "ipython3",
   "version": "3.11.3"
  }
 },
 "nbformat": 4,
 "nbformat_minor": 5
}
