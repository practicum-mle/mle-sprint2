{
 "cells": [
  {
   "cell_type": "markdown",
   "id": "baba0439-2599-4df4-9fd7-4aa9e0ca915d",
   "metadata": {},
   "source": [
    "##### 1. Установим нужные библиотеки"
   ]
  },
  {
   "cell_type": "code",
   "execution_count": 1,
   "id": "337f40a3-1848-44e9-99ad-1557606df750",
   "metadata": {},
   "outputs": [],
   "source": [
    "# %pip install autofeat==2.1.2"
   ]
  },
  {
   "cell_type": "code",
   "execution_count": 23,
   "id": "6a3737e8-3211-44b1-b9a0-4ec99ba199a2",
   "metadata": {},
   "outputs": [
    {
     "name": "stderr",
     "output_type": "stream",
     "text": [
      "/Users/nikolaistepanov/.pyenv/versions/3.11.3/lib/python3.11/site-packages/pydantic/_internal/_fields.py:127: UserWarning: Field \"model_server_url\" has conflict with protected namespace \"model_\".\n",
      "\n",
      "You may be able to resolve this warning by setting `model_config['protected_namespaces'] = ()`.\n",
      "  warnings.warn(\n",
      "/Users/nikolaistepanov/.pyenv/versions/3.11.3/lib/python3.11/site-packages/pydantic/_internal/_config.py:269: UserWarning: Valid config keys have changed in V2:\n",
      "* 'schema_extra' has been renamed to 'json_schema_extra'\n",
      "  warnings.warn(message, UserWarning)\n"
     ]
    }
   ],
   "source": [
    "import os\n",
    "\n",
    "import psycopg\n",
    "import pandas as pd\n",
    "import numpy as np\n",
    "import mlflow\n",
    "from autofeat import AutoFeatClassifier\n",
    "from catboost import CatBoostClassifier\n",
    "from sklearn.model_selection import train_test_split\n",
    "from sklearn.metrics import (\n",
    "    roc_auc_score,\n",
    "    f1_score,\n",
    "    precision_score,\n",
    "    recall_score,\n",
    "    confusion_matrix,\n",
    "    log_loss,\n",
    ")"
   ]
  },
  {
   "cell_type": "markdown",
   "id": "c2044988-b6c1-471a-bde3-9ae57d91b3b5",
   "metadata": {},
   "source": [
    "##### 1. Определим глобальные перменные"
   ]
  },
  {
   "cell_type": "code",
   "execution_count": 26,
   "id": "98744870-4a2a-4f6e-b316-291f416828eb",
   "metadata": {},
   "outputs": [],
   "source": [
    "TABLE_NAME = \"users_churn\"\n",
    "\n",
    "TRACKING_SERVER_HOST = \"127.0.0.1\"\n",
    "TRACKING_SERVER_PORT = 5000\n",
    "\n",
    "EXPERIMENT_NAME = \"churn_nikolaistepanov\"\n",
    "RUN_NAME = \"auto_feature_engineering\"\n",
    "REGISTRY_MODEL_NAME = \"churn_model_nikolaistepanov_prepared\""
   ]
  },
  {
   "cell_type": "code",
   "execution_count": 6,
   "id": "711ed1b4-3ab0-440f-8dad-795aaeb5aab4",
   "metadata": {},
   "outputs": [],
   "source": [
    "pd.options.display.max_columns = 100\n",
    "pd.options.display.max_rows = 64"
   ]
  },
  {
   "cell_type": "markdown",
   "id": "e7e405b0-de01-4cd1-ae4b-5addb5192f62",
   "metadata": {},
   "source": [
    "##### 2. Заберем данные из базы данных и сформируем `dataframe`"
   ]
  },
  {
   "cell_type": "code",
   "execution_count": 7,
   "id": "c8162a5a-33f9-4a96-9042-e1df68e8c563",
   "metadata": {},
   "outputs": [],
   "source": [
    "connection = {\"sslmode\": \"verify-full\", \"target_session_attrs\": \"read-write\"}\n",
    "postgres_credentials = {\n",
    "    \"host\": os.getenv(\"POSTGRES_HOST\"),\n",
    "    \"port\": os.getenv(\"POSTGRES_PORT\"),\n",
    "    \"dbname\": os.getenv(\"POSTGRES_DBNAME\"),\n",
    "    \"user\": os.getenv(\"POSTGRES_USER\"),\n",
    "    \"password\": os.getenv(\"POSTGRES_PASSWORD\"),\n",
    "}\n",
    "\n",
    "connection.update(postgres_credentials)"
   ]
  },
  {
   "cell_type": "code",
   "execution_count": 8,
   "id": "03410367-74bd-4443-9249-d45c5179f470",
   "metadata": {},
   "outputs": [],
   "source": [
    "with psycopg.connect(**connection) as conn:\n",
    "\n",
    "    with conn.cursor() as cur:\n",
    "        cur.execute(f\"SELECT * FROM {TABLE_NAME}\")\n",
    "        data = cur.fetchall()\n",
    "        columns = [col[0] for col in cur.description]\n",
    "\n",
    "df = pd.DataFrame(data, columns=columns)"
   ]
  },
  {
   "cell_type": "markdown",
   "id": "8554dbc3-73f0-43a8-b38c-a490d555de0b",
   "metadata": {},
   "source": [
    "##### 3. Разделим данные на train, test по `begin_date`"
   ]
  },
  {
   "cell_type": "code",
   "execution_count": 9,
   "id": "153e0aab-2a66-4775-95b7-b170df0d3424",
   "metadata": {},
   "outputs": [],
   "source": [
    "cat_features = [\n",
    "    'paperless_billing',\n",
    "    'payment_method',\n",
    "    'internet_service',\n",
    "    'online_security',\n",
    "    'online_backup',\n",
    "    'device_protection',\n",
    "    'tech_support',\n",
    "    'streaming_tv',\n",
    "    'streaming_movies',\n",
    "    'gender',\n",
    "    'senior_citizen',\n",
    "    'partner',\n",
    "    'dependents',\n",
    "    'multiple_lines',\n",
    "]\n",
    "num_features = [\"monthly_charges\", \"total_charges\"]\n",
    "\n",
    "features = cat_features + num_features\n",
    "target = \"target\"\n",
    "\n",
    "split_column = \"begin_date\"\n",
    "stratify_column = [\"type\"]\n",
    "test_size = 0.2"
   ]
  },
  {
   "cell_type": "code",
   "execution_count": 10,
   "id": "5fa6cbc6-b754-40ef-bcec-341f7a6ba027",
   "metadata": {},
   "outputs": [],
   "source": [
    "df = df.sort_values(by=[split_column])"
   ]
  },
  {
   "cell_type": "code",
   "execution_count": 11,
   "id": "a073249e-4024-4aa4-85b8-554b5143a3e6",
   "metadata": {},
   "outputs": [],
   "source": [
    "X_train, X_test, y_train, y_test = train_test_split(\n",
    "    df[features],\n",
    "    df[target],\n",
    "    test_size=test_size,\n",
    "    shuffle=False,\n",
    ")"
   ]
  },
  {
   "cell_type": "code",
   "execution_count": 12,
   "id": "75fa20a6-6d45-4be9-a6ca-61132d43f609",
   "metadata": {},
   "outputs": [
    {
     "name": "stdout",
     "output_type": "stream",
     "text": [
      "Размер выборки для обучения: (5634, 16)\n",
      "Размер выборки для теста: (1409, 16)\n"
     ]
    }
   ],
   "source": [
    "print(f\"Размер выборки для обучения: {X_train.shape}\")\n",
    "print(f\"Размер выборки для теста: {X_test.shape}\")"
   ]
  },
  {
   "cell_type": "markdown",
   "id": "5f6b468e-a84e-47ac-9576-c4c2c90c20be",
   "metadata": {},
   "source": [
    "##### 4. Определим список трансформаций к нашим признакам"
   ]
  },
  {
   "cell_type": "code",
   "execution_count": 13,
   "id": "6bcae12f-0d2f-4102-9daa-048a925b46e8",
   "metadata": {},
   "outputs": [],
   "source": [
    "transformations = (\n",
    "    \"1/\", \"1+\", \"1-\", \n",
    "    'exp', 'log', 'abs', 'sqrt',\n",
    "    \"2^\"\n",
    ")"
   ]
  },
  {
   "cell_type": "markdown",
   "id": "7effdf3c-cb98-4af9-ad11-b90cb377b26c",
   "metadata": {},
   "source": [
    "##### 5. Запустим генератор признаков"
   ]
  },
  {
   "cell_type": "code",
   "execution_count": 14,
   "id": "da33b75a-bf1a-4ace-87f7-c0409f21eeb7",
   "metadata": {},
   "outputs": [],
   "source": [
    "afc = AutoFeatClassifier(\n",
    "    categorical_cols=cat_features,\n",
    "    transformations=transformations,\n",
    "    feateng_steps=1,\n",
    "    n_jobs=-1\n",
    ")"
   ]
  },
  {
   "cell_type": "code",
   "execution_count": 15,
   "id": "ea5958b8-2d01-4f9f-96d9-c3b83d5f7517",
   "metadata": {},
   "outputs": [
    {
     "name": "stdout",
     "output_type": "stream",
     "text": [
      "CPU times: user 9.2 s, sys: 584 ms, total: 9.79 s\n",
      "Wall time: 8.56 s\n"
     ]
    }
   ],
   "source": [
    "%%time\n",
    "\n",
    "\n",
    "X_train_features = afc.fit_transform(X_train, y_train)"
   ]
  },
  {
   "cell_type": "code",
   "execution_count": 28,
   "id": "fd04f86a-36e0-47bf-b88e-df39c01b3a51",
   "metadata": {},
   "outputs": [
    {
     "data": {
      "text/html": [
       "<div>\n",
       "<style scoped>\n",
       "    .dataframe tbody tr th:only-of-type {\n",
       "        vertical-align: middle;\n",
       "    }\n",
       "\n",
       "    .dataframe tbody tr th {\n",
       "        vertical-align: top;\n",
       "    }\n",
       "\n",
       "    .dataframe thead th {\n",
       "        text-align: right;\n",
       "    }\n",
       "</style>\n",
       "<table border=\"1\" class=\"dataframe\">\n",
       "  <thead>\n",
       "    <tr style=\"text-align: right;\">\n",
       "      <th></th>\n",
       "      <th>monthly_charges</th>\n",
       "      <th>total_charges</th>\n",
       "      <th>cat_paperless_billing_0</th>\n",
       "      <th>cat_paperless_billing_1</th>\n",
       "      <th>cat_payment_method_Bank transfer (automatic)</th>\n",
       "      <th>cat_payment_method_Credit card (automatic)</th>\n",
       "      <th>cat_payment_method_Electronic check</th>\n",
       "      <th>cat_payment_method_Mailed check</th>\n",
       "      <th>cat_internet_service_DSL</th>\n",
       "      <th>cat_internet_service_Fiber optic</th>\n",
       "      <th>cat_internet_service_No data</th>\n",
       "      <th>cat_online_security_0</th>\n",
       "      <th>cat_online_security_1</th>\n",
       "      <th>cat_online_backup_0</th>\n",
       "      <th>cat_online_backup_1</th>\n",
       "      <th>cat_device_protection_0</th>\n",
       "      <th>cat_device_protection_1</th>\n",
       "      <th>cat_tech_support_0</th>\n",
       "      <th>cat_tech_support_1</th>\n",
       "      <th>cat_streaming_tv_0</th>\n",
       "      <th>cat_streaming_tv_1</th>\n",
       "      <th>cat_streaming_movies_0</th>\n",
       "      <th>cat_streaming_movies_1</th>\n",
       "      <th>cat_gender_Female</th>\n",
       "      <th>cat_gender_Male</th>\n",
       "      <th>cat_senior_citizen_0</th>\n",
       "      <th>cat_senior_citizen_1</th>\n",
       "      <th>cat_partner_0</th>\n",
       "      <th>cat_partner_1</th>\n",
       "      <th>cat_dependents_0</th>\n",
       "      <th>cat_dependents_1</th>\n",
       "      <th>cat_multiple_lines_0</th>\n",
       "      <th>cat_multiple_lines_1</th>\n",
       "      <th>1/total_charges</th>\n",
       "    </tr>\n",
       "  </thead>\n",
       "  <tbody>\n",
       "    <tr>\n",
       "      <th>0</th>\n",
       "      <td>104.15</td>\n",
       "      <td>7689.95</td>\n",
       "      <td>0.0</td>\n",
       "      <td>1.0</td>\n",
       "      <td>1.0</td>\n",
       "      <td>0.0</td>\n",
       "      <td>0.0</td>\n",
       "      <td>0.0</td>\n",
       "      <td>0.0</td>\n",
       "      <td>1.0</td>\n",
       "      <td>0.0</td>\n",
       "      <td>1.0</td>\n",
       "      <td>0.0</td>\n",
       "      <td>0.0</td>\n",
       "      <td>1.0</td>\n",
       "      <td>0.0</td>\n",
       "      <td>1.0</td>\n",
       "      <td>1.0</td>\n",
       "      <td>0.0</td>\n",
       "      <td>0.0</td>\n",
       "      <td>1.0</td>\n",
       "      <td>0.0</td>\n",
       "      <td>1.0</td>\n",
       "      <td>0.0</td>\n",
       "      <td>1.0</td>\n",
       "      <td>0.0</td>\n",
       "      <td>1.0</td>\n",
       "      <td>0.0</td>\n",
       "      <td>1.0</td>\n",
       "      <td>1.0</td>\n",
       "      <td>0.0</td>\n",
       "      <td>0.0</td>\n",
       "      <td>1.0</td>\n",
       "      <td>0.000130</td>\n",
       "    </tr>\n",
       "    <tr>\n",
       "      <th>1</th>\n",
       "      <td>117.8</td>\n",
       "      <td>8684.8</td>\n",
       "      <td>0.0</td>\n",
       "      <td>1.0</td>\n",
       "      <td>1.0</td>\n",
       "      <td>0.0</td>\n",
       "      <td>0.0</td>\n",
       "      <td>0.0</td>\n",
       "      <td>0.0</td>\n",
       "      <td>1.0</td>\n",
       "      <td>0.0</td>\n",
       "      <td>0.0</td>\n",
       "      <td>1.0</td>\n",
       "      <td>0.0</td>\n",
       "      <td>1.0</td>\n",
       "      <td>0.0</td>\n",
       "      <td>1.0</td>\n",
       "      <td>0.0</td>\n",
       "      <td>1.0</td>\n",
       "      <td>0.0</td>\n",
       "      <td>1.0</td>\n",
       "      <td>0.0</td>\n",
       "      <td>1.0</td>\n",
       "      <td>0.0</td>\n",
       "      <td>1.0</td>\n",
       "      <td>1.0</td>\n",
       "      <td>0.0</td>\n",
       "      <td>0.0</td>\n",
       "      <td>1.0</td>\n",
       "      <td>1.0</td>\n",
       "      <td>0.0</td>\n",
       "      <td>0.0</td>\n",
       "      <td>1.0</td>\n",
       "      <td>0.000115</td>\n",
       "    </tr>\n",
       "  </tbody>\n",
       "</table>\n",
       "</div>"
      ],
      "text/plain": [
       "  monthly_charges total_charges  cat_paperless_billing_0  \\\n",
       "0          104.15       7689.95                      0.0   \n",
       "1           117.8        8684.8                      0.0   \n",
       "\n",
       "   cat_paperless_billing_1  cat_payment_method_Bank transfer (automatic)  \\\n",
       "0                      1.0                                           1.0   \n",
       "1                      1.0                                           1.0   \n",
       "\n",
       "   cat_payment_method_Credit card (automatic)  \\\n",
       "0                                         0.0   \n",
       "1                                         0.0   \n",
       "\n",
       "   cat_payment_method_Electronic check  cat_payment_method_Mailed check  \\\n",
       "0                                  0.0                              0.0   \n",
       "1                                  0.0                              0.0   \n",
       "\n",
       "   cat_internet_service_DSL  cat_internet_service_Fiber optic  \\\n",
       "0                       0.0                               1.0   \n",
       "1                       0.0                               1.0   \n",
       "\n",
       "   cat_internet_service_No data  cat_online_security_0  cat_online_security_1  \\\n",
       "0                           0.0                    1.0                    0.0   \n",
       "1                           0.0                    0.0                    1.0   \n",
       "\n",
       "   cat_online_backup_0  cat_online_backup_1  cat_device_protection_0  \\\n",
       "0                  0.0                  1.0                      0.0   \n",
       "1                  0.0                  1.0                      0.0   \n",
       "\n",
       "   cat_device_protection_1  cat_tech_support_0  cat_tech_support_1  \\\n",
       "0                      1.0                 1.0                 0.0   \n",
       "1                      1.0                 0.0                 1.0   \n",
       "\n",
       "   cat_streaming_tv_0  cat_streaming_tv_1  cat_streaming_movies_0  \\\n",
       "0                 0.0                 1.0                     0.0   \n",
       "1                 0.0                 1.0                     0.0   \n",
       "\n",
       "   cat_streaming_movies_1  cat_gender_Female  cat_gender_Male  \\\n",
       "0                     1.0                0.0              1.0   \n",
       "1                     1.0                0.0              1.0   \n",
       "\n",
       "   cat_senior_citizen_0  cat_senior_citizen_1  cat_partner_0  cat_partner_1  \\\n",
       "0                   0.0                   1.0            0.0            1.0   \n",
       "1                   1.0                   0.0            0.0            1.0   \n",
       "\n",
       "   cat_dependents_0  cat_dependents_1  cat_multiple_lines_0  \\\n",
       "0               1.0               0.0                   0.0   \n",
       "1               1.0               0.0                   0.0   \n",
       "\n",
       "   cat_multiple_lines_1  1/total_charges  \n",
       "0                   1.0         0.000130  \n",
       "1                   1.0         0.000115  "
      ]
     },
     "execution_count": 28,
     "metadata": {},
     "output_type": "execute_result"
    }
   ],
   "source": [
    "X_train_features.head(2)"
   ]
  },
  {
   "cell_type": "code",
   "execution_count": 16,
   "id": "09c8a578-4d8a-4950-8895-dfe925116c98",
   "metadata": {},
   "outputs": [],
   "source": [
    "X_test_features = afc.transform(X_test)"
   ]
  },
  {
   "cell_type": "markdown",
   "id": "14ca4213-c745-460c-bd27-a887e6fbfcb8",
   "metadata": {},
   "source": [
    "##### 5. Обучим модель на автоматически сгенерированных признаках"
   ]
  },
  {
   "cell_type": "code",
   "execution_count": 17,
   "id": "eb8fe778-3c45-411f-975d-e7b496450912",
   "metadata": {},
   "outputs": [],
   "source": [
    "loss_function = \"Logloss\"\n",
    "task_type = 'CPU'\n",
    "random_seed = 0\n",
    "iterations = 400\n",
    "verbose = False\n",
    "max_depth=3\n",
    "\n",
    "model = CatBoostClassifier(\n",
    "    iterations=iterations, \n",
    "    loss_function=loss_function, \n",
    "    random_seed=random_seed, \n",
    "    task_type=task_type,\n",
    "    verbose=verbose,\n",
    "    max_depth=max_depth\n",
    ")"
   ]
  },
  {
   "cell_type": "code",
   "execution_count": 18,
   "id": "b17c64fa-5558-4d2b-aa41-dfea3bf377ba",
   "metadata": {},
   "outputs": [
    {
     "data": {
      "text/plain": [
       "<catboost.core.CatBoostClassifier at 0x28b18b490>"
      ]
     },
     "execution_count": 18,
     "metadata": {},
     "output_type": "execute_result"
    }
   ],
   "source": [
    "model.fit(X_train_features, y_train)"
   ]
  },
  {
   "cell_type": "code",
   "execution_count": 19,
   "id": "2c2608b7-33a8-4353-bebf-e37e627b0443",
   "metadata": {},
   "outputs": [],
   "source": [
    "prediction = model.predict(X_test_features)\n",
    "probas = model.predict_proba(X_test_features)[:, 1]"
   ]
  },
  {
   "cell_type": "markdown",
   "id": "dcc5c401-c827-43b2-a3c1-2c7db07958ab",
   "metadata": {},
   "source": [
    "##### 6. Посчитаем метрики и залогируем в `MLFlow`"
   ]
  },
  {
   "cell_type": "code",
   "execution_count": 20,
   "id": "81bab76a-2388-43eb-a950-2b89e07b93d1",
   "metadata": {},
   "outputs": [],
   "source": [
    "metrics = {}\n",
    "\n",
    "_, err1, _, err2 = confusion_matrix(y_test, prediction, normalize='all').ravel()\n",
    "auc = roc_auc_score(y_test, probas)\n",
    "precision = precision_score(y_test, prediction)\n",
    "recall = recall_score(y_test, prediction)\n",
    "f1 = f1_score(y_test, prediction)\n",
    "logloss = log_loss(y_test, prediction)\n",
    "\n",
    "metrics[\"err1\"] = err1\n",
    "metrics[\"err2\"] = err2\n",
    "metrics[\"auc\"] = auc\n",
    "metrics[\"precision\"] = precision\n",
    "metrics[\"recall\"] = recall\n",
    "metrics[\"f1\"] = f1\n",
    "metrics[\"logloss\"] = logloss"
   ]
  },
  {
   "cell_type": "code",
   "execution_count": 21,
   "id": "4d645ba3-1195-40c9-8bfc-2b7881a3a7e6",
   "metadata": {},
   "outputs": [],
   "source": [
    "os.environ[\"MLFLOW_S3_ENDPOINT_URL\"] = \"...\"\n",
    "os.environ[\"AWS_ACCESS_KEY_ID\"] = \"...\"\n",
    "os.environ[\"AWS_SECRET_ACCESS_KEY\"] = \"...\""
   ]
  },
  {
   "cell_type": "code",
   "execution_count": 24,
   "id": "c9eb4c16-18e2-4869-966f-977f8d380e1b",
   "metadata": {},
   "outputs": [],
   "source": [
    "mlflow.set_tracking_uri(f\"http://{TRACKING_SERVER_HOST}:{TRACKING_SERVER_PORT}\")\n",
    "mlflow.set_registry_uri(f\"http://{TRACKING_SERVER_HOST}:{TRACKING_SERVER_PORT}\")"
   ]
  },
  {
   "cell_type": "code",
   "execution_count": 27,
   "id": "4933d3dc-263b-4733-b13b-e7aae9000d33",
   "metadata": {
    "scrolled": true
   },
   "outputs": [
    {
     "name": "stderr",
     "output_type": "stream",
     "text": [
      "/Users/nikolaistepanov/.pyenv/versions/3.11.3/lib/python3.11/site-packages/_distutils_hack/__init__.py:18: UserWarning: Distutils was imported before Setuptools, but importing Setuptools also replaces the `distutils` module in `sys.modules`. This may lead to undesirable behaviors or errors. To avoid these issues, avoid using distutils directly, ensure that setuptools is installed in the traditional way (e.g. not an editable install), and/or make sure that setuptools is always imported before distutils.\n",
      "  warnings.warn(\n",
      "/Users/nikolaistepanov/.pyenv/versions/3.11.3/lib/python3.11/site-packages/_distutils_hack/__init__.py:33: UserWarning: Setuptools is replacing distutils.\n",
      "  warnings.warn(\"Setuptools is replacing distutils.\")\n",
      "/Users/nikolaistepanov/.pyenv/versions/3.11.3/lib/python3.11/site-packages/_distutils_hack/__init__.py:18: UserWarning: Distutils was imported before Setuptools, but importing Setuptools also replaces the `distutils` module in `sys.modules`. This may lead to undesirable behaviors or errors. To avoid these issues, avoid using distutils directly, ensure that setuptools is installed in the traditional way (e.g. not an editable install), and/or make sure that setuptools is always imported before distutils.\n",
      "  warnings.warn(\n",
      "/Users/nikolaistepanov/.pyenv/versions/3.11.3/lib/python3.11/site-packages/_distutils_hack/__init__.py:33: UserWarning: Setuptools is replacing distutils.\n",
      "  warnings.warn(\"Setuptools is replacing distutils.\")\n",
      "Registered model 'churn_model_nikolaistepanov_prepared' already exists. Creating a new version of this model...\n",
      "2023/11/01 13:30:55 INFO mlflow.tracking._model_registry.client: Waiting up to 60 seconds for model version to finish creation. Model name: churn_model_nikolaistepanov_prepared, version 10\n",
      "Created version '10' of model 'churn_model_nikolaistepanov_prepared'.\n"
     ]
    }
   ],
   "source": [
    "pip_requirements=\"../requirements.txt\"\n",
    "signature = mlflow.models.infer_signature(X_test_features, prediction)\n",
    "input_example = X_test_features[:10]\n",
    "\n",
    "experiment_id = mlflow.get_experiment_by_name(EXPERIMENT_NAME).experiment_id\n",
    "\n",
    "with mlflow.start_run(run_name=RUN_NAME, experiment_id=experiment_id) as run:\n",
    "    run_id = run.info.run_id\n",
    "    \n",
    "    mlflow.log_metrics(metrics)\n",
    "    afc_info = mlflow.sklearn.log_model(afc, artifact_path=\"afc\")\n",
    "    model_info = mlflow.catboost.log_model(\n",
    "        cb_model=model, \n",
    "        artifact_path=\"models\",\n",
    "        signature=signature,\n",
    "        input_example=input_example,\n",
    "        registered_model_name=REGISTRY_MODEL_NAME,\n",
    "        await_registration_for=60,\n",
    "        pip_requirements=pip_requirements,\n",
    "    )"
   ]
  },
  {
   "cell_type": "code",
   "execution_count": null,
   "id": "c495da8d-7e15-475a-8d0f-70e36c157403",
   "metadata": {},
   "outputs": [],
   "source": []
  }
 ],
 "metadata": {
  "kernelspec": {
   "display_name": "Python 3 (ipykernel)",
   "language": "python",
   "name": "python3"
  },
  "language_info": {
   "codemirror_mode": {
    "name": "ipython",
    "version": 3
   },
   "file_extension": ".py",
   "mimetype": "text/x-python",
   "name": "python",
   "nbconvert_exporter": "python",
   "pygments_lexer": "ipython3",
   "version": "3.11.3"
  }
 },
 "nbformat": 4,
 "nbformat_minor": 5
}
