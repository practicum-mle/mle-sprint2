{
 "cells": [
  {
   "cell_type": "code",
   "execution_count": 1,
   "id": "6a3737e8-3211-44b1-b9a0-4ec99ba199a2",
   "metadata": {},
   "outputs": [],
   "source": [
    "import os\n",
    "import datetime\n",
    "from dateutil.relativedelta import relativedelta\n",
    "\n",
    "import psycopg\n",
    "import pandas as pd"
   ]
  },
  {
   "cell_type": "markdown",
   "id": "c2044988-b6c1-471a-bde3-9ae57d91b3b5",
   "metadata": {},
   "source": [
    "##### 1. Определим глобальные перменные"
   ]
  },
  {
   "cell_type": "code",
   "execution_count": 2,
   "id": "98744870-4a2a-4f6e-b316-291f416828eb",
   "metadata": {},
   "outputs": [],
   "source": [
    "TABLE_NAME = \"users_churn\""
   ]
  },
  {
   "cell_type": "markdown",
   "id": "e7e405b0-de01-4cd1-ae4b-5addb5192f62",
   "metadata": {},
   "source": [
    "##### 2. Заберем данные из базы данных и сформируем `dataframe`"
   ]
  },
  {
   "cell_type": "code",
   "execution_count": 3,
   "id": "c8162a5a-33f9-4a96-9042-e1df68e8c563",
   "metadata": {},
   "outputs": [],
   "source": [
    "connection = {\"sslmode\": \"verify-full\", \"target_session_attrs\": \"read-write\"}\n",
    "postgres_credentials = {\n",
    "    \"host\": os.getenv(\"POSTGRES_HOST\"),\n",
    "    \"port\": os.getenv(\"POSTGRES_PORT\"),\n",
    "    \"dbname\": os.getenv(\"POSTGRES_DBNAME\"),\n",
    "    \"user\": os.getenv(\"POSTGRES_USER\"),\n",
    "    \"password\": os.getenv(\"POSTGRES_PASSWORD\"),\n",
    "}\n",
    "\n",
    "connection.update(postgres_credentials)"
   ]
  },
  {
   "cell_type": "code",
   "execution_count": 4,
   "id": "03410367-74bd-4443-9249-d45c5179f470",
   "metadata": {},
   "outputs": [],
   "source": [
    "with psycopg.connect(**connection) as conn:\n",
    "\n",
    "    with conn.cursor() as cur:\n",
    "        cur.execute(f\"SELECT * FROM {TABLE_NAME}\")\n",
    "        data = cur.fetchall()\n",
    "        columns = [col[0] for col in cur.description]\n",
    "\n",
    "df = pd.DataFrame(data, columns=columns)"
   ]
  },
  {
   "cell_type": "markdown",
   "id": "9e225968-a67c-4b72-988e-2fa3d0ec5eeb",
   "metadata": {},
   "source": [
    "##### 2. Посмотрим какие методы можно использовать для генерации новых признаков:\n",
    "- lambda\n",
    "- itertuples\n",
    "- vectorize"
   ]
  },
  {
   "cell_type": "code",
   "execution_count": 5,
   "id": "7645359f-95b2-4e3f-b6cb-c1cf9f347d88",
   "metadata": {},
   "outputs": [],
   "source": [
    "def calculate_days_diff(row):\n",
    "    current_date = datetime.datetime.now()\n",
    "    begin_date = row['begin_date']\n",
    "    return (current_date - begin_date).days\n",
    "\n",
    "def calculate_diff_years(row):\n",
    "    current_date = datetime.datetime.now()\n",
    "    begin_date = row['begin_date']\n",
    "    return relativedelta(current_date, begin_date).years\n",
    "\n",
    "def calculate_diff_months(row):\n",
    "    current_date = datetime.datetime.now()\n",
    "    begin_date = row['begin_date']\n",
    "    return relativedelta(current_date, begin_date).months"
   ]
  },
  {
   "cell_type": "code",
   "execution_count": 6,
   "id": "20b22b80-0274-41c4-8682-35a5634c71c2",
   "metadata": {},
   "outputs": [],
   "source": [
    "def calculate_days_diff_itertools(row):\n",
    "    current_date = datetime.datetime.now()\n",
    "    begin_date = row.begin_date\n",
    "    return (current_date - begin_date).days\n",
    "\n",
    "def calculate_diff_years_itertools(row):\n",
    "    current_date = datetime.datetime.now()\n",
    "    begin_date = row.begin_date\n",
    "    return relativedelta(current_date - begin_date).years\n",
    "\n",
    "def calculate_diff_months_itertools(row):\n",
    "    current_date = datetime.datetime.now()\n",
    "    begin_date = row.begin_date\n",
    "    return relativedelta(current_date - begin_date).months"
   ]
  },
  {
   "cell_type": "code",
   "execution_count": 7,
   "id": "27bf4205-bb24-49c0-810a-8a8c45b3a7be",
   "metadata": {},
   "outputs": [],
   "source": [
    "def calculate_days_diff_numpy(current_day, row):\n",
    "    date_diff = (current_day - row).days\n",
    "\n",
    "    return date_diff\n",
    "\n",
    "def calculate_diff_years_numpy(current_day, row):\n",
    "    date_diff = (current_day - row).days // 365\n",
    "\n",
    "    return date_diff\n",
    "\n",
    "def calculate_diff_months_numpy(current_day, row):\n",
    "    date_diff = (current_day - row).days // 30\n",
    "\n",
    "    return date_diff"
   ]
  },
  {
   "cell_type": "code",
   "execution_count": 14,
   "id": "651dba2c-74a9-47de-8f3c-4219e55c7399",
   "metadata": {},
   "outputs": [
    {
     "data": {
      "text/plain": [
       "(7043, 25)"
      ]
     },
     "execution_count": 14,
     "metadata": {},
     "output_type": "execute_result"
    }
   ],
   "source": [
    "df.shape"
   ]
  },
  {
   "cell_type": "markdown",
   "id": "9b079044-4f43-46c1-b435-e662e30c9538",
   "metadata": {},
   "source": [
    "##### 2.1 Lambda\n"
   ]
  },
  {
   "cell_type": "code",
   "execution_count": 8,
   "id": "37fb4a55-8f3c-40b5-8d0f-1ebac2273cfc",
   "metadata": {},
   "outputs": [
    {
     "name": "stdout",
     "output_type": "stream",
     "text": [
      "CPU times: user 278 ms, sys: 5.56 ms, total: 283 ms\n",
      "Wall time: 281 ms\n"
     ]
    }
   ],
   "source": [
    "%%time\n",
    "\n",
    "df['days_diff'] = df.apply(lambda row: calculate_days_diff(row), axis=1)\n",
    "df['diff_years'] = df.apply(lambda row: calculate_diff_years(row), axis=1)\n",
    "df['diff_months'] = df.apply(lambda row: calculate_diff_months(row), axis=1)"
   ]
  },
  {
   "cell_type": "markdown",
   "id": "e5dbb4ab-f280-4c5c-9fc8-b00192d4325d",
   "metadata": {},
   "source": [
    "##### 2.3 Itertools"
   ]
  },
  {
   "cell_type": "code",
   "execution_count": 9,
   "id": "ee18350a-cfc7-4f77-a432-fda24ce26c01",
   "metadata": {},
   "outputs": [
    {
     "name": "stdout",
     "output_type": "stream",
     "text": [
      "CPU times: user 157 ms, sys: 3.79 ms, total: 161 ms\n",
      "Wall time: 158 ms\n"
     ]
    }
   ],
   "source": [
    "%%time\n",
    "\n",
    "\n",
    "df['days_diff'] = [calculate_days_diff_itertools(row) for row in df.itertuples()]\n",
    "df['diff_years'] = [calculate_diff_years_itertools(row) for row in df.itertuples()]\n",
    "df['diff_months'] = [calculate_diff_months_itertools(row) for row in df.itertuples()]"
   ]
  },
  {
   "cell_type": "markdown",
   "id": "f480ded2-438c-4722-8910-c413aa15bcc3",
   "metadata": {},
   "source": [
    "##### 2.4.1 Vectorize using pandas"
   ]
  },
  {
   "cell_type": "code",
   "execution_count": 10,
   "id": "e7c3436c-63d1-44cf-bce0-378b5696f1bb",
   "metadata": {},
   "outputs": [
    {
     "name": "stdout",
     "output_type": "stream",
     "text": [
      "CPU times: user 2.45 ms, sys: 1.44 ms, total: 3.89 ms\n",
      "Wall time: 2.69 ms\n"
     ]
    }
   ],
   "source": [
    "%%time\n",
    "\n",
    "\n",
    "current_date = datetime.datetime.now()\n",
    "\n",
    "df['days_diff'] = (current_date - df['begin_date']).dt.days\n",
    "df['diff_years'] = (current_date - df['begin_date']) // pd.Timedelta(days=365)\n",
    "df['diff_months'] = (current_date - df['begin_date']) // pd.Timedelta(days=30)"
   ]
  },
  {
   "cell_type": "markdown",
   "id": "c4145147-4c6f-4333-85a0-2e66a9e994f2",
   "metadata": {},
   "source": [
    "##### 2.4 Vectorize using numpy"
   ]
  },
  {
   "cell_type": "code",
   "execution_count": 16,
   "id": "1606e2c0-9ce3-4127-91ac-55f8e1298cd2",
   "metadata": {},
   "outputs": [
    {
     "name": "stdout",
     "output_type": "stream",
     "text": [
      "CPU times: user 113 ms, sys: 3.02 ms, total: 116 ms\n",
      "Wall time: 116 ms\n"
     ]
    }
   ],
   "source": [
    "%%time\n",
    "\n",
    "\n",
    "current_day = np.datetime64(datetime.datetime.now())\n",
    "\n",
    "calculate_days_diff_v = np.vectorize(calculate_days_diff_numpy, otypes=[np.int64])\n",
    "calculate_diff_years_v = np.vectorize(calculate_diff_years_numpy, otypes=[np.int64])\n",
    "calculate_diff_months_v = np.vectorize(calculate_diff_months_numpy, otypes=[np.int64])\n",
    "\n",
    "df['days_diff'] = calculate_days_diff_v(current_day, df[\"begin_date\"])\n",
    "df['diff_years'] = calculate_diff_years_v(current_day, df[\"begin_date\"])\n",
    "df['diff_months'] = calculate_diff_months_v(current_day, df[\"begin_date\"])"
   ]
  },
  {
   "cell_type": "markdown",
   "id": "6914f814-be22-4254-94a5-dba253c907aa",
   "metadata": {},
   "source": [
    "#### 3. Random data (without case)"
   ]
  },
  {
   "cell_type": "code",
   "execution_count": 1,
   "id": "8367bfa6-aead-4e82-8e7c-ea82e6f619cd",
   "metadata": {},
   "outputs": [],
   "source": [
    "import pandas as pd\n",
    "import numpy as np\n",
    "from datetime import datetime, timedelta\n",
    "\n",
    "# Генерация случайных дат\n",
    "start_date = datetime(2022, 1, 1)\n",
    "end_date = datetime.now()\n",
    "\n",
    "random_dates = [\n",
    "    start_date + timedelta(days=np.random.randint((end_date - start_date).days))\n",
    "    for _ in range(1000000)\n",
    "]\n",
    "\n",
    "# Создание DataFrame\n",
    "data = {\n",
    "    'random_dates': random_dates,\n",
    "    'random_numbers': np.random.rand(1000000)\n",
    "}\n",
    "\n",
    "df = pd.DataFrame(data)\n",
    "methods_time = {}"
   ]
  },
  {
   "cell_type": "code",
   "execution_count": 3,
   "id": "1566c822-25ef-4fdd-b560-759910fb6fd7",
   "metadata": {},
   "outputs": [],
   "source": [
    "# Подсчет времени выполнения для каждого метода и вычисление разницы в днях\n",
    "for method in ['np_vectorize', 'for_idx', 'for_row', 'for_itertuples', 'native_pandas', 'apply']:\n",
    "    \n",
    "    if method == 'np_vectorize':\n",
    "        start_time = datetime.now()\n",
    "\n",
    "        def np_diff_date_days(current_day, row):\n",
    "            date_diff = (current_day - row).days\n",
    "\n",
    "            return date_diff\n",
    "\n",
    "        current_date_numpy = np.datetime64(datetime.now())\n",
    "        np_diff_date_days_vectorize = np.vectorize(np_diff_date_days, otypes=[np.int64])\n",
    "        temp = np_diff_date_days_vectorize(current_date_numpy, df[\"random_dates\"])\n",
    "\n",
    "        methods_time[method] = (datetime.now() - start_time).seconds\n",
    "    \n",
    "    elif method == 'for_idx':\n",
    "        start_time = datetime.now()\n",
    "        \n",
    "        temp = []\n",
    "        current_date = datetime.now()\n",
    "        for idx in range(0, df.shape[0], 1):\n",
    "            temp.append((current_date - df['random_dates'][idx]).days)\n",
    "\n",
    "        methods_time[method] = (datetime.now() - start_time).seconds\n",
    "        \n",
    "    elif method == 'for_row':\n",
    "        start_time = datetime.now()\n",
    "        \n",
    "        temp = []\n",
    "        current_date = datetime.now()\n",
    "        for i, row in df.iterrows():\n",
    "            temp.append((current_date - row['random_dates']).days)\n",
    "\n",
    "        methods_time[method] = (datetime.now() - start_time).seconds\n",
    "    \n",
    "    elif method == 'for_itertuples':\n",
    "        start_time = datetime.now()\n",
    "        \n",
    "        temp = []\n",
    "        current_date = datetime.now()\n",
    "        for row in df.itertuples():\n",
    "            temp.append((current_date - row.random_dates).days)\n",
    "\n",
    "        methods_time[method] = (datetime.now() - start_time).seconds\n",
    "\n",
    "    elif method == 'native_pandas':\n",
    "        start_time = datetime.now()\n",
    "\n",
    "        current_date = datetime.now()\n",
    "        temp = (current_date - df['random_dates']).dt.days\n",
    "        \n",
    "        methods_time[method] = (datetime.now() - start_time).seconds\n",
    "    \n",
    "    elif method == 'apply':\n",
    "        start_time = datetime.now()\n",
    "        \n",
    "        current_date = datetime.now()\n",
    "        temp = df['random_dates'].apply(lambda x: (current_date - x).days)\n",
    "        \n",
    "        methods_time[method] = (datetime.now() - start_time).seconds"
   ]
  },
  {
   "cell_type": "code",
   "execution_count": 8,
   "id": "be1d41e8-a411-4117-8d26-040bf7ae6c43",
   "metadata": {},
   "outputs": [],
   "source": [
    "import matplotlib.pyplot as plt\n",
    "\n",
    "\n",
    "# Extract keys and values from the dictionary\n",
    "keys = list(methods_time.keys())\n",
    "values = list(methods_time.values())\n",
    "\n",
    "# Plotting the bar chart\n",
    "plt.bar(keys, values)\n",
    "plt.xlabel('Метод')\n",
    "plt.xticks(rotation=45)\n",
    "plt.ylabel('Время, секунды')\n",
    "plt.title('Время расчета разницы в днях для двух дат')\n",
    "plt.show()"
   ]
  },
  {
   "cell_type": "code",
   "execution_count": 22,
   "id": "88720daf-dd02-4aea-b4f3-957b15802f6d",
   "metadata": {},
   "outputs": [],
   "source": [
    "import math\n",
    "from datetime import datetime\n",
    "import numpy as np\n",
    "import pandas as pd\n",
    "\n",
    "\n",
    "df = pd.DataFrame(data={'random_numbers': np.random.rand(1000000)})\n",
    "methods_time = {}\n",
    "\n",
    "\n",
    "for method in ['np_vectorize', 'for_idx', 'for_row', 'for_itertuples', 'native_pandas', 'apply']:\n",
    "    \n",
    "    if method == 'np_vectorize':\n",
    "        start_time = datetime.now()\n",
    "\n",
    "        temp = np.log(df['random_numbers'])\n",
    "\n",
    "        methods_time[method] = (datetime.now() - start_time).microseconds\n",
    "    \n",
    "    elif method == 'for_idx':\n",
    "        start_time = datetime.now()\n",
    "        \n",
    "        temp = []\n",
    "        current_date = datetime.now()\n",
    "        for idx in range(0, df.shape[0], 1):\n",
    "            temp.append(math.log(df['random_numbers'].iloc[idx]))\n",
    "\n",
    "        methods_time[method] = (datetime.now() - start_time).microseconds\n",
    "        \n",
    "    elif method == 'for_row':\n",
    "        start_time = datetime.now()\n",
    "        \n",
    "        temp = []\n",
    "        current_date = datetime.now()\n",
    "        for i, row in df.iterrows():\n",
    "            temp.append(math.log(row['random_numbers']))\n",
    "\n",
    "        methods_time[method] = (datetime.now() - start_time).microseconds\n",
    "    \n",
    "    elif method == 'for_itertuples':\n",
    "        start_time = datetime.now()\n",
    "        \n",
    "        temp = []\n",
    "        current_date = datetime.now()\n",
    "        for row in df.itertuples():\n",
    "            temp.append(math.log(row.random_numbers))\n",
    "\n",
    "        methods_time[method] = (datetime.now() - start_time).microseconds\n",
    "\n",
    "    elif method == 'native_pandas':\n",
    "        start_time = datetime.now()\n",
    "\n",
    "        current_date = datetime.now()\n",
    "        temp = df['random_numbers'].apply(lambda x: math.log(x))\n",
    "        \n",
    "        methods_time[method] = (datetime.now() - start_time).microseconds\n",
    "    \n",
    "    elif method == 'apply':\n",
    "        start_time = datetime.now()\n",
    "        \n",
    "        current_date = datetime.now()\n",
    "        temp = df['random_numbers'].apply(lambda x: math.log(x))\n",
    "        \n",
    "        methods_time[method] = (datetime.now() - start_time).microseconds"
   ]
  },
  {
   "cell_type": "code",
   "execution_count": 28,
   "id": "d744788c-2af4-449c-b5e2-3910bcb229d1",
   "metadata": {
    "scrolled": true
   },
   "outputs": [],
   "source": [
    "import matplotlib.pyplot as plt\n",
    "\n",
    "\n",
    "# Extract keys and values from the dictionary\n",
    "keys = list(methods_time.keys())\n",
    "values = list(methods_time.values())\n",
    "\n",
    "# Plotting the bar chart\n",
    "plt.bar(keys, values)\n",
    "plt.xlabel('Метод')\n",
    "plt.xticks(rotation=45)\n",
    "plt.ylabel('Время, microseconds')\n",
    "plt.title('Время вычисления логарифма')\n",
    "plt.show()"
   ]
  },
  {
   "cell_type": "code",
   "execution_count": null,
   "id": "05a69d4e-77e1-4aa2-8cbd-fc0b1b34e454",
   "metadata": {},
   "outputs": [],
   "source": []
  }
 ],
 "metadata": {
  "kernelspec": {
   "display_name": "Python 3 (ipykernel)",
   "language": "python",
   "name": "python3"
  },
  "language_info": {
   "codemirror_mode": {
    "name": "ipython",
    "version": 3
   },
   "file_extension": ".py",
   "mimetype": "text/x-python",
   "name": "python",
   "nbconvert_exporter": "python",
   "pygments_lexer": "ipython3",
   "version": "3.11.3"
  }
 },
 "nbformat": 4,
 "nbformat_minor": 5
}
