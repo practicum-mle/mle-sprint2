{
 "cells": [
  {
   "cell_type": "markdown",
   "id": "baba0439-2599-4df4-9fd7-4aa9e0ca915d",
   "metadata": {},
   "source": [
    "##### 1. Установим нужные библиотеки"
   ]
  },
  {
   "cell_type": "code",
   "execution_count": 31,
   "id": "337f40a3-1848-44e9-99ad-1557606df750",
   "metadata": {},
   "outputs": [],
   "source": [
    "# %pip install mlxtend==0.23.0"
   ]
  },
  {
   "cell_type": "code",
   "execution_count": 68,
   "id": "6a3737e8-3211-44b1-b9a0-4ec99ba199a2",
   "metadata": {},
   "outputs": [],
   "source": [
    "import os\n",
    "\n",
    "import psycopg\n",
    "import pandas as pd\n",
    "import numpy as np\n",
    "import mlflow\n",
    "from autofeat import AutoFeatClassifier\n",
    "from catboost import CatBoostClassifier\n",
    "from mlxtend.feature_selection import SequentialFeatureSelector as SFS\n",
    "from mlxtend.plotting import plot_sequential_feature_selection as plot_sfs\n",
    "from sklearn.ensemble import RandomForestClassifier\n",
    "from sklearn.model_selection import train_test_split\n",
    "from sklearn.metrics import (\n",
    "    roc_auc_score,\n",
    "    f1_score,\n",
    "    precision_score,\n",
    "    recall_score,\n",
    "    confusion_matrix,\n",
    "    log_loss,\n",
    "    get_scorer_names,\n",
    ")\n",
    "import matplotlib.pyplot as plt"
   ]
  },
  {
   "cell_type": "markdown",
   "id": "c2044988-b6c1-471a-bde3-9ae57d91b3b5",
   "metadata": {},
   "source": [
    "##### 1. Определим глобальные перменные"
   ]
  },
  {
   "cell_type": "code",
   "execution_count": 124,
   "id": "98744870-4a2a-4f6e-b316-291f416828eb",
   "metadata": {},
   "outputs": [],
   "source": [
    "TABLE_NAME = \"users_churn\"\n",
    "\n",
    "TRACKING_SERVER_HOST = \"127.0.0.1\"\n",
    "TRACKING_SERVER_PORT = 5000\n",
    "\n",
    "EXPERIMENT_NAME = \"churn_nikolaistepanov\"\n",
    "RUN_NAME = \"feature_selection\"\n",
    "REGISTRY_MODEL_NAME = \"churn_model_nikolaistepanov_prepared\"\n",
    "FS_ASSETS = \"fs_assets\""
   ]
  },
  {
   "cell_type": "code",
   "execution_count": 78,
   "id": "3707f26c-88f7-4fcb-b6f8-151082312a12",
   "metadata": {},
   "outputs": [],
   "source": [
    "os.mkdir(FS_ASSETS)"
   ]
  },
  {
   "cell_type": "code",
   "execution_count": 34,
   "id": "711ed1b4-3ab0-440f-8dad-795aaeb5aab4",
   "metadata": {},
   "outputs": [],
   "source": [
    "pd.options.display.max_columns = 100\n",
    "pd.options.display.max_rows = 64"
   ]
  },
  {
   "cell_type": "markdown",
   "id": "e7e405b0-de01-4cd1-ae4b-5addb5192f62",
   "metadata": {},
   "source": [
    "##### 2. Заберем данные из базы данных и сформируем `dataframe`"
   ]
  },
  {
   "cell_type": "code",
   "execution_count": 35,
   "id": "c8162a5a-33f9-4a96-9042-e1df68e8c563",
   "metadata": {},
   "outputs": [],
   "source": [
    "connection = {\"sslmode\": \"verify-full\", \"target_session_attrs\": \"read-write\"}\n",
    "postgres_credentials = {\n",
    "    \"host\": os.getenv(\"POSTGRES_HOST\"),\n",
    "    \"port\": os.getenv(\"POSTGRES_PORT\"),\n",
    "    \"dbname\": os.getenv(\"POSTGRES_DBNAME\"),\n",
    "    \"user\": os.getenv(\"POSTGRES_USER\"),\n",
    "    \"password\": os.getenv(\"POSTGRES_PASSWORD\"),\n",
    "}\n",
    "\n",
    "connection.update(postgres_credentials)"
   ]
  },
  {
   "cell_type": "code",
   "execution_count": 36,
   "id": "03410367-74bd-4443-9249-d45c5179f470",
   "metadata": {},
   "outputs": [],
   "source": [
    "with psycopg.connect(**connection) as conn:\n",
    "\n",
    "    with conn.cursor() as cur:\n",
    "        cur.execute(f\"SELECT * FROM {TABLE_NAME}\")\n",
    "        data = cur.fetchall()\n",
    "        columns = [col[0] for col in cur.description]\n",
    "\n",
    "df = pd.DataFrame(data, columns=columns)"
   ]
  },
  {
   "cell_type": "markdown",
   "id": "8554dbc3-73f0-43a8-b38c-a490d555de0b",
   "metadata": {},
   "source": [
    "##### 3. Разделим данные на train, test по `begin_date`"
   ]
  },
  {
   "cell_type": "code",
   "execution_count": 37,
   "id": "153e0aab-2a66-4775-95b7-b170df0d3424",
   "metadata": {},
   "outputs": [],
   "source": [
    "cat_features = [\n",
    "    'paperless_billing',\n",
    "    'payment_method',\n",
    "    'internet_service',\n",
    "    'online_security',\n",
    "    'online_backup',\n",
    "    'device_protection',\n",
    "    'tech_support',\n",
    "    'streaming_tv',\n",
    "    'streaming_movies',\n",
    "    'gender',\n",
    "    'senior_citizen',\n",
    "    'partner',\n",
    "    'dependents',\n",
    "    'multiple_lines',\n",
    "]\n",
    "num_features = [\"monthly_charges\", \"total_charges\"]\n",
    "\n",
    "features = cat_features + num_features\n",
    "target = \"target\"\n",
    "\n",
    "split_column = \"begin_date\"\n",
    "stratify_column = [\"type\"]\n",
    "test_size = 0.2"
   ]
  },
  {
   "cell_type": "code",
   "execution_count": 38,
   "id": "5fa6cbc6-b754-40ef-bcec-341f7a6ba027",
   "metadata": {},
   "outputs": [],
   "source": [
    "df = df.sort_values(by=[split_column])"
   ]
  },
  {
   "cell_type": "code",
   "execution_count": 39,
   "id": "a073249e-4024-4aa4-85b8-554b5143a3e6",
   "metadata": {},
   "outputs": [],
   "source": [
    "X_train, X_test, y_train, y_test = train_test_split(\n",
    "    df[features],\n",
    "    df[target],\n",
    "    test_size=test_size,\n",
    "    shuffle=False,\n",
    ")"
   ]
  },
  {
   "cell_type": "code",
   "execution_count": 40,
   "id": "75fa20a6-6d45-4be9-a6ca-61132d43f609",
   "metadata": {},
   "outputs": [
    {
     "name": "stdout",
     "output_type": "stream",
     "text": [
      "Размер выборки для обучения: (5634, 16)\n",
      "Размер выборки для теста: (1409, 16)\n"
     ]
    }
   ],
   "source": [
    "print(f\"Размер выборки для обучения: {X_train.shape}\")\n",
    "print(f\"Размер выборки для теста: {X_test.shape}\")"
   ]
  },
  {
   "cell_type": "markdown",
   "id": "5f6b468e-a84e-47ac-9576-c4c2c90c20be",
   "metadata": {},
   "source": [
    "##### 4. Определим список трансформаций к нашим признакам"
   ]
  },
  {
   "cell_type": "code",
   "execution_count": 41,
   "id": "6bcae12f-0d2f-4102-9daa-048a925b46e8",
   "metadata": {},
   "outputs": [],
   "source": [
    "transformations = (\n",
    "    \"1/\", \"1+\", \"1-\", \n",
    "    'exp', 'log', 'abs', 'sqrt',\n",
    "    \"2^\"\n",
    ")"
   ]
  },
  {
   "cell_type": "markdown",
   "id": "7effdf3c-cb98-4af9-ad11-b90cb377b26c",
   "metadata": {},
   "source": [
    "##### 5. Запустим генератор признаков"
   ]
  },
  {
   "cell_type": "code",
   "execution_count": 42,
   "id": "da33b75a-bf1a-4ace-87f7-c0409f21eeb7",
   "metadata": {},
   "outputs": [],
   "source": [
    "afc = AutoFeatClassifier(\n",
    "    categorical_cols=cat_features,\n",
    "    transformations=transformations,\n",
    "    feateng_steps=1,\n",
    "    n_jobs=-1\n",
    ")"
   ]
  },
  {
   "cell_type": "code",
   "execution_count": 43,
   "id": "ea5958b8-2d01-4f9f-96d9-c3b83d5f7517",
   "metadata": {},
   "outputs": [
    {
     "name": "stdout",
     "output_type": "stream",
     "text": [
      "CPU times: user 8.56 s, sys: 1.25 s, total: 9.82 s\n",
      "Wall time: 8.23 s\n"
     ]
    }
   ],
   "source": [
    "%%time\n",
    "\n",
    "\n",
    "X_train_features = afc.fit_transform(X_train, y_train)"
   ]
  },
  {
   "cell_type": "code",
   "execution_count": 48,
   "id": "fd04f86a-36e0-47bf-b88e-df39c01b3a51",
   "metadata": {},
   "outputs": [
    {
     "data": {
      "text/html": [
       "<div>\n",
       "<style scoped>\n",
       "    .dataframe tbody tr th:only-of-type {\n",
       "        vertical-align: middle;\n",
       "    }\n",
       "\n",
       "    .dataframe tbody tr th {\n",
       "        vertical-align: top;\n",
       "    }\n",
       "\n",
       "    .dataframe thead th {\n",
       "        text-align: right;\n",
       "    }\n",
       "</style>\n",
       "<table border=\"1\" class=\"dataframe\">\n",
       "  <thead>\n",
       "    <tr style=\"text-align: right;\">\n",
       "      <th></th>\n",
       "      <th>monthly_charges</th>\n",
       "      <th>total_charges</th>\n",
       "      <th>cat_paperless_billing_0</th>\n",
       "      <th>cat_paperless_billing_1</th>\n",
       "      <th>cat_payment_method_Bank transfer (automatic)</th>\n",
       "      <th>cat_payment_method_Credit card (automatic)</th>\n",
       "      <th>cat_payment_method_Electronic check</th>\n",
       "      <th>cat_payment_method_Mailed check</th>\n",
       "      <th>cat_internet_service_DSL</th>\n",
       "      <th>cat_internet_service_Fiber optic</th>\n",
       "      <th>cat_internet_service_No data</th>\n",
       "      <th>cat_online_security_0</th>\n",
       "      <th>cat_online_security_1</th>\n",
       "      <th>cat_online_backup_0</th>\n",
       "      <th>cat_online_backup_1</th>\n",
       "      <th>cat_device_protection_0</th>\n",
       "      <th>cat_device_protection_1</th>\n",
       "      <th>cat_tech_support_0</th>\n",
       "      <th>cat_tech_support_1</th>\n",
       "      <th>cat_streaming_tv_0</th>\n",
       "      <th>cat_streaming_tv_1</th>\n",
       "      <th>cat_streaming_movies_0</th>\n",
       "      <th>cat_streaming_movies_1</th>\n",
       "      <th>cat_gender_Female</th>\n",
       "      <th>cat_gender_Male</th>\n",
       "      <th>cat_senior_citizen_0</th>\n",
       "      <th>cat_senior_citizen_1</th>\n",
       "      <th>cat_partner_0</th>\n",
       "      <th>cat_partner_1</th>\n",
       "      <th>cat_dependents_0</th>\n",
       "      <th>cat_dependents_1</th>\n",
       "      <th>cat_multiple_lines_0</th>\n",
       "      <th>cat_multiple_lines_1</th>\n",
       "    </tr>\n",
       "  </thead>\n",
       "  <tbody>\n",
       "    <tr>\n",
       "      <th>0</th>\n",
       "      <td>104.15</td>\n",
       "      <td>7689.95</td>\n",
       "      <td>0.0</td>\n",
       "      <td>1.0</td>\n",
       "      <td>1.0</td>\n",
       "      <td>0.0</td>\n",
       "      <td>0.0</td>\n",
       "      <td>0.0</td>\n",
       "      <td>0.0</td>\n",
       "      <td>1.0</td>\n",
       "      <td>0.0</td>\n",
       "      <td>1.0</td>\n",
       "      <td>0.0</td>\n",
       "      <td>0.0</td>\n",
       "      <td>1.0</td>\n",
       "      <td>0.0</td>\n",
       "      <td>1.0</td>\n",
       "      <td>1.0</td>\n",
       "      <td>0.0</td>\n",
       "      <td>0.0</td>\n",
       "      <td>1.0</td>\n",
       "      <td>0.0</td>\n",
       "      <td>1.0</td>\n",
       "      <td>0.0</td>\n",
       "      <td>1.0</td>\n",
       "      <td>0.0</td>\n",
       "      <td>1.0</td>\n",
       "      <td>0.0</td>\n",
       "      <td>1.0</td>\n",
       "      <td>1.0</td>\n",
       "      <td>0.0</td>\n",
       "      <td>0.0</td>\n",
       "      <td>1.0</td>\n",
       "    </tr>\n",
       "    <tr>\n",
       "      <th>1</th>\n",
       "      <td>117.8</td>\n",
       "      <td>8684.8</td>\n",
       "      <td>0.0</td>\n",
       "      <td>1.0</td>\n",
       "      <td>1.0</td>\n",
       "      <td>0.0</td>\n",
       "      <td>0.0</td>\n",
       "      <td>0.0</td>\n",
       "      <td>0.0</td>\n",
       "      <td>1.0</td>\n",
       "      <td>0.0</td>\n",
       "      <td>0.0</td>\n",
       "      <td>1.0</td>\n",
       "      <td>0.0</td>\n",
       "      <td>1.0</td>\n",
       "      <td>0.0</td>\n",
       "      <td>1.0</td>\n",
       "      <td>0.0</td>\n",
       "      <td>1.0</td>\n",
       "      <td>0.0</td>\n",
       "      <td>1.0</td>\n",
       "      <td>0.0</td>\n",
       "      <td>1.0</td>\n",
       "      <td>0.0</td>\n",
       "      <td>1.0</td>\n",
       "      <td>1.0</td>\n",
       "      <td>0.0</td>\n",
       "      <td>0.0</td>\n",
       "      <td>1.0</td>\n",
       "      <td>1.0</td>\n",
       "      <td>0.0</td>\n",
       "      <td>0.0</td>\n",
       "      <td>1.0</td>\n",
       "    </tr>\n",
       "  </tbody>\n",
       "</table>\n",
       "</div>"
      ],
      "text/plain": [
       "  monthly_charges total_charges  cat_paperless_billing_0  \\\n",
       "0          104.15       7689.95                      0.0   \n",
       "1           117.8        8684.8                      0.0   \n",
       "\n",
       "   cat_paperless_billing_1  cat_payment_method_Bank transfer (automatic)  \\\n",
       "0                      1.0                                           1.0   \n",
       "1                      1.0                                           1.0   \n",
       "\n",
       "   cat_payment_method_Credit card (automatic)  \\\n",
       "0                                         0.0   \n",
       "1                                         0.0   \n",
       "\n",
       "   cat_payment_method_Electronic check  cat_payment_method_Mailed check  \\\n",
       "0                                  0.0                              0.0   \n",
       "1                                  0.0                              0.0   \n",
       "\n",
       "   cat_internet_service_DSL  cat_internet_service_Fiber optic  \\\n",
       "0                       0.0                               1.0   \n",
       "1                       0.0                               1.0   \n",
       "\n",
       "   cat_internet_service_No data  cat_online_security_0  cat_online_security_1  \\\n",
       "0                           0.0                    1.0                    0.0   \n",
       "1                           0.0                    0.0                    1.0   \n",
       "\n",
       "   cat_online_backup_0  cat_online_backup_1  cat_device_protection_0  \\\n",
       "0                  0.0                  1.0                      0.0   \n",
       "1                  0.0                  1.0                      0.0   \n",
       "\n",
       "   cat_device_protection_1  cat_tech_support_0  cat_tech_support_1  \\\n",
       "0                      1.0                 1.0                 0.0   \n",
       "1                      1.0                 0.0                 1.0   \n",
       "\n",
       "   cat_streaming_tv_0  cat_streaming_tv_1  cat_streaming_movies_0  \\\n",
       "0                 0.0                 1.0                     0.0   \n",
       "1                 0.0                 1.0                     0.0   \n",
       "\n",
       "   cat_streaming_movies_1  cat_gender_Female  cat_gender_Male  \\\n",
       "0                     1.0                0.0              1.0   \n",
       "1                     1.0                0.0              1.0   \n",
       "\n",
       "   cat_senior_citizen_0  cat_senior_citizen_1  cat_partner_0  cat_partner_1  \\\n",
       "0                   0.0                   1.0            0.0            1.0   \n",
       "1                   1.0                   0.0            0.0            1.0   \n",
       "\n",
       "   cat_dependents_0  cat_dependents_1  cat_multiple_lines_0  \\\n",
       "0               1.0               0.0                   0.0   \n",
       "1               1.0               0.0                   0.0   \n",
       "\n",
       "   cat_multiple_lines_1  \n",
       "0                   1.0  \n",
       "1                   1.0  "
      ]
     },
     "execution_count": 48,
     "metadata": {},
     "output_type": "execute_result"
    }
   ],
   "source": [
    "X_train_features.head(2)"
   ]
  },
  {
   "cell_type": "code",
   "execution_count": 50,
   "id": "6fce4692-a03a-48cf-8f76-a0a5823a929c",
   "metadata": {},
   "outputs": [
    {
     "data": {
      "text/plain": [
       "(5634, 33)"
      ]
     },
     "execution_count": 50,
     "metadata": {},
     "output_type": "execute_result"
    }
   ],
   "source": [
    "X_train_features.shape"
   ]
  },
  {
   "cell_type": "code",
   "execution_count": 49,
   "id": "09c8a578-4d8a-4950-8895-dfe925116c98",
   "metadata": {},
   "outputs": [],
   "source": [
    "X_test_features = afc.transform(X_test)"
   ]
  },
  {
   "cell_type": "markdown",
   "id": "8c7c44d2-3628-43ff-8b69-aab6d3d5d190",
   "metadata": {},
   "source": [
    "##### 5. Определим алгоритмы отбора признаков. Рассмотрим два:\n",
    "- Sequential Forward Selection\n",
    "- Sequential Backward Selection"
   ]
  },
  {
   "cell_type": "code",
   "execution_count": 56,
   "id": "b5c9f0aa-144e-45d4-ae18-6c5d9e86413c",
   "metadata": {},
   "outputs": [],
   "source": [
    "# get_scorer_names()"
   ]
  },
  {
   "cell_type": "code",
   "execution_count": 57,
   "id": "3b1968b4-a5d9-4199-9860-883e71dd7ba6",
   "metadata": {},
   "outputs": [],
   "source": [
    "estimator = RandomForestClassifier(n_estimators=300)\n",
    "\n",
    "sfs = SFS(estimator, \n",
    "          k_features=10, \n",
    "          forward=True, \n",
    "          floating=False, \n",
    "          scoring='roc_auc',\n",
    "          cv=4,\n",
    "          n_jobs=-1)\n",
    "\n",
    "sbs = SFS(estimator, \n",
    "          k_features=10, \n",
    "          forward=False, \n",
    "          floating=False, \n",
    "          scoring='roc_auc',\n",
    "          cv=4,\n",
    "          n_jobs=-1)"
   ]
  },
  {
   "cell_type": "code",
   "execution_count": 58,
   "id": "afcdf31e-4766-4c92-a29e-084f60ea8492",
   "metadata": {},
   "outputs": [
    {
     "name": "stdout",
     "output_type": "stream",
     "text": [
      "CPU times: user 2.88 s, sys: 507 ms, total: 3.38 s\n",
      "Wall time: 1min 18s\n"
     ]
    }
   ],
   "source": [
    "%%time\n",
    "\n",
    "\n",
    "sfs = sfs.fit(X_train_features, y_train)"
   ]
  },
  {
   "cell_type": "code",
   "execution_count": 95,
   "id": "d9b782bb-662d-4927-b5c3-248b4ad831af",
   "metadata": {},
   "outputs": [],
   "source": [
    "top_sfs = sfs.k_feature_names_"
   ]
  },
  {
   "cell_type": "code",
   "execution_count": 60,
   "id": "6df90fb7-ac06-4bdb-b33d-d816f457439d",
   "metadata": {},
   "outputs": [
    {
     "name": "stdout",
     "output_type": "stream",
     "text": [
      "\n",
      "Sequential Forward Selection (k=10):\n",
      "(6, 9, 10, 12, 15, 16, 17, 18, 27, 28)\n",
      "CV Score:\n",
      "0.797989699588676\n"
     ]
    }
   ],
   "source": [
    "print('\\nSequential Forward Selection (k=10):')\n",
    "print(sfs.k_feature_idx_)\n",
    "print('CV Score:')\n",
    "print(sfs.k_score_)"
   ]
  },
  {
   "cell_type": "code",
   "execution_count": 62,
   "id": "99a1df25-b760-426f-9cb4-0d24b2d7fbd0",
   "metadata": {},
   "outputs": [],
   "source": [
    "sfs_df = pd.DataFrame.from_dict(sfs.get_metric_dict()).T"
   ]
  },
  {
   "cell_type": "code",
   "execution_count": 81,
   "id": "5bc7fe77-7c86-46e4-bd94-cba33a6e1568",
   "metadata": {},
   "outputs": [
    {
     "data": {
      "text/html": [
       "<div>\n",
       "<style scoped>\n",
       "    .dataframe tbody tr th:only-of-type {\n",
       "        vertical-align: middle;\n",
       "    }\n",
       "\n",
       "    .dataframe tbody tr th {\n",
       "        vertical-align: top;\n",
       "    }\n",
       "\n",
       "    .dataframe thead th {\n",
       "        text-align: right;\n",
       "    }\n",
       "</style>\n",
       "<table border=\"1\" class=\"dataframe\">\n",
       "  <thead>\n",
       "    <tr style=\"text-align: right;\">\n",
       "      <th></th>\n",
       "      <th>feature_idx</th>\n",
       "      <th>cv_scores</th>\n",
       "      <th>avg_score</th>\n",
       "      <th>feature_names</th>\n",
       "      <th>ci_bound</th>\n",
       "      <th>std_dev</th>\n",
       "      <th>std_err</th>\n",
       "    </tr>\n",
       "  </thead>\n",
       "  <tbody>\n",
       "    <tr>\n",
       "      <th>1</th>\n",
       "      <td>(9,)</td>\n",
       "      <td>[0.6912533814247068, 0.6973880372708146, 0.699...</td>\n",
       "      <td>0.699565</td>\n",
       "      <td>(cat_internet_service_Fiber optic,)</td>\n",
       "      <td>0.011021</td>\n",
       "      <td>0.006875</td>\n",
       "      <td>0.00397</td>\n",
       "    </tr>\n",
       "  </tbody>\n",
       "</table>\n",
       "</div>"
      ],
      "text/plain": [
       "  feature_idx                                          cv_scores avg_score  \\\n",
       "1        (9,)  [0.6912533814247068, 0.6973880372708146, 0.699...  0.699565   \n",
       "\n",
       "                         feature_names  ci_bound   std_dev  std_err  \n",
       "1  (cat_internet_service_Fiber optic,)  0.011021  0.006875  0.00397  "
      ]
     },
     "execution_count": 81,
     "metadata": {},
     "output_type": "execute_result"
    }
   ],
   "source": [
    "sfs_df.head(1)"
   ]
  },
  {
   "cell_type": "code",
   "execution_count": 82,
   "id": "f756da52-ab4f-4edd-a937-26e9f789d2df",
   "metadata": {},
   "outputs": [],
   "source": [
    "sfs_df.to_csv(f\"{FS_ASSETS}/sfs.csv\")"
   ]
  },
  {
   "cell_type": "code",
   "execution_count": 80,
   "id": "935b8d0e-63d2-47dc-b46b-15f51da2106c",
   "metadata": {},
   "outputs": [
    {
     "data": {
      "image/png": "[encoded data removed]",
      "text/plain": [
       "<Figure size 640x480 with 1 Axes>"
      ]
     },
     "metadata": {},
     "output_type": "display_data"
    },
    {
     "data": {
      "text/plain": [
       "<Figure size 640x480 with 0 Axes>"
      ]
     },
     "metadata": {},
     "output_type": "display_data"
    }
   ],
   "source": [
    "fig = plot_sfs(sfs.get_metric_dict(), kind='std_dev')\n",
    "\n",
    "plt.title('Sequential Forward Selection (w. StdDev)')\n",
    "plt.grid()\n",
    "plt.show()\n",
    "\n",
    "plt.savefig(f\"{FS_ASSETS}/sfs.png\")"
   ]
  },
  {
   "cell_type": "code",
   "execution_count": 59,
   "id": "2b3991ff-3504-4ac3-965b-114790022a39",
   "metadata": {},
   "outputs": [
    {
     "name": "stdout",
     "output_type": "stream",
     "text": [
      "CPU times: user 8.17 s, sys: 1.03 s, total: 9.2 s\n",
      "Wall time: 5min 5s\n"
     ]
    }
   ],
   "source": [
    "%%time\n",
    "\n",
    "\n",
    "sbs = sbs.fit(X_train_features, y_train)"
   ]
  },
  {
   "cell_type": "code",
   "execution_count": 94,
   "id": "8eaa4e7a-affb-4c23-8da7-3df39ceaed71",
   "metadata": {},
   "outputs": [],
   "source": [
    "top_sbs = sbs.k_feature_names_"
   ]
  },
  {
   "cell_type": "code",
   "execution_count": 61,
   "id": "b701ca40-4a14-4333-aa99-767d7eb83656",
   "metadata": {},
   "outputs": [
    {
     "name": "stdout",
     "output_type": "stream",
     "text": [
      "\n",
      "Sequential Backward Selection (k=10):\n",
      "(0, 2, 6, 12, 14, 16, 17, 21, 24, 27)\n",
      "CV Score:\n",
      "0.7404813300230413\n"
     ]
    }
   ],
   "source": [
    "print('\\nSequential Backward Selection (k=10):')\n",
    "print(sbs.k_feature_idx_)\n",
    "print('CV Score:')\n",
    "print(sbs.k_score_)"
   ]
  },
  {
   "cell_type": "code",
   "execution_count": 71,
   "id": "f34e3b38-0206-495e-ad61-470da7d98584",
   "metadata": {},
   "outputs": [],
   "source": [
    "sbs_df = pd.DataFrame.from_dict(sbs.get_metric_dict()).T"
   ]
  },
  {
   "cell_type": "code",
   "execution_count": 83,
   "id": "c69cbadb-77a3-4b55-8a81-eb779531032f",
   "metadata": {},
   "outputs": [
    {
     "data": {
      "text/html": [
       "<div>\n",
       "<style scoped>\n",
       "    .dataframe tbody tr th:only-of-type {\n",
       "        vertical-align: middle;\n",
       "    }\n",
       "\n",
       "    .dataframe tbody tr th {\n",
       "        vertical-align: top;\n",
       "    }\n",
       "\n",
       "    .dataframe thead th {\n",
       "        text-align: right;\n",
       "    }\n",
       "</style>\n",
       "<table border=\"1\" class=\"dataframe\">\n",
       "  <thead>\n",
       "    <tr style=\"text-align: right;\">\n",
       "      <th></th>\n",
       "      <th>feature_idx</th>\n",
       "      <th>cv_scores</th>\n",
       "      <th>avg_score</th>\n",
       "      <th>feature_names</th>\n",
       "      <th>ci_bound</th>\n",
       "      <th>std_dev</th>\n",
       "      <th>std_err</th>\n",
       "    </tr>\n",
       "  </thead>\n",
       "  <tbody>\n",
       "    <tr>\n",
       "      <th>33</th>\n",
       "      <td>(0, 1, 2, 3, 4, 5, 6, 7, 8, 9, 10, 11, 12, 13,...</td>\n",
       "      <td>[0.7429861737300872, 0.6265314096783888, 0.673...</td>\n",
       "      <td>0.711538</td>\n",
       "      <td>(monthly_charges, total_charges, cat_paperless...</td>\n",
       "      <td>0.107927</td>\n",
       "      <td>0.067329</td>\n",
       "      <td>0.038872</td>\n",
       "    </tr>\n",
       "  </tbody>\n",
       "</table>\n",
       "</div>"
      ],
      "text/plain": [
       "                                          feature_idx  \\\n",
       "33  (0, 1, 2, 3, 4, 5, 6, 7, 8, 9, 10, 11, 12, 13,...   \n",
       "\n",
       "                                            cv_scores avg_score  \\\n",
       "33  [0.7429861737300872, 0.6265314096783888, 0.673...  0.711538   \n",
       "\n",
       "                                        feature_names  ci_bound   std_dev  \\\n",
       "33  (monthly_charges, total_charges, cat_paperless...  0.107927  0.067329   \n",
       "\n",
       "     std_err  \n",
       "33  0.038872  "
      ]
     },
     "execution_count": 83,
     "metadata": {},
     "output_type": "execute_result"
    }
   ],
   "source": [
    "sbs_df.head(1)"
   ]
  },
  {
   "cell_type": "code",
   "execution_count": 84,
   "id": "b437f0a7-223a-4d6d-a38e-40651186e0d2",
   "metadata": {},
   "outputs": [],
   "source": [
    "sbs_df.to_csv(f\"{FS_ASSETS}/sbs.csv\")"
   ]
  },
  {
   "cell_type": "code",
   "execution_count": 79,
   "id": "f8a52577-0682-439c-807a-70f8e39b6937",
   "metadata": {},
   "outputs": [
    {
     "data": {
      "image/png": "[encoded data removed]",
      "text/plain": [
       "<Figure size 640x480 with 1 Axes>"
      ]
     },
     "metadata": {},
     "output_type": "display_data"
    },
    {
     "data": {
      "text/plain": [
       "<Figure size 640x480 with 0 Axes>"
      ]
     },
     "metadata": {},
     "output_type": "display_data"
    }
   ],
   "source": [
    "fig = plot_sfs(sbs.get_metric_dict(), kind='std_dev')\n",
    "\n",
    "plt.title('Sequential Forward Selection (w. StdDev)')\n",
    "plt.grid()\n",
    "plt.show()\n",
    "\n",
    "plt.savefig(\"FS_ASSETS/sbs.png\")"
   ]
  },
  {
   "cell_type": "markdown",
   "id": "75d58f86-94ea-45b8-9539-f356765ff1a5",
   "metadata": {},
   "source": [
    "##### 4.1. Сравним отобранные признаки от двух подходов"
   ]
  },
  {
   "cell_type": "code",
   "execution_count": 104,
   "id": "3cc26c0b-702a-4d01-8f03-1fbe97894da8",
   "metadata": {},
   "outputs": [],
   "source": [
    "interc_features = list(set(top_sbs) & set(tob_sfs))"
   ]
  },
  {
   "cell_type": "code",
   "execution_count": 105,
   "id": "446249bc-48bf-46fd-ac62-d82f2358107d",
   "metadata": {},
   "outputs": [
    {
     "data": {
      "text/plain": [
       "['cat_device_protection_1',\n",
       " 'cat_partner_0',\n",
       " 'cat_tech_support_0',\n",
       " 'cat_online_security_1',\n",
       " 'cat_payment_method_Electronic check']"
      ]
     },
     "execution_count": 105,
     "metadata": {},
     "output_type": "execute_result"
    }
   ],
   "source": [
    "interc_features"
   ]
  },
  {
   "cell_type": "code",
   "execution_count": 106,
   "id": "4b3a8b97-a68f-4c5e-b156-4bef713d9348",
   "metadata": {},
   "outputs": [],
   "source": [
    "union_features = list(set(top_sbs) | set(tob_sfs))"
   ]
  },
  {
   "cell_type": "code",
   "execution_count": 107,
   "id": "ac168f17-803b-4427-ba54-c22c4e6dceb8",
   "metadata": {},
   "outputs": [
    {
     "data": {
      "text/plain": [
       "['cat_device_protection_1',\n",
       " 'cat_internet_service_Fiber optic',\n",
       " 'cat_tech_support_1',\n",
       " 'cat_partner_1',\n",
       " 'cat_streaming_movies_0',\n",
       " 'cat_tech_support_0',\n",
       " 'cat_online_backup_1',\n",
       " 'cat_online_security_1',\n",
       " 'cat_payment_method_Electronic check',\n",
       " 'cat_partner_0',\n",
       " 'cat_internet_service_No data',\n",
       " 'monthly_charges',\n",
       " 'cat_device_protection_0',\n",
       " 'cat_paperless_billing_0',\n",
       " 'cat_gender_Male']"
      ]
     },
     "execution_count": 107,
     "metadata": {},
     "output_type": "execute_result"
    }
   ],
   "source": [
    "union_features"
   ]
  },
  {
   "cell_type": "markdown",
   "id": "14ca4213-c745-460c-bd27-a887e6fbfcb8",
   "metadata": {},
   "source": [
    "##### 5. Обучим модель на отоборанных признаков признаках (для обоих случаев)"
   ]
  },
  {
   "cell_type": "code",
   "execution_count": 112,
   "id": "eb8fe778-3c45-411f-975d-e7b496450912",
   "metadata": {},
   "outputs": [],
   "source": [
    "loss_function = \"Logloss\"\n",
    "task_type = 'CPU'\n",
    "random_seed = 0\n",
    "iterations = 400\n",
    "verbose = False\n",
    "max_depth=3\n",
    "\n",
    "model_interc = CatBoostClassifier(\n",
    "    iterations=iterations, \n",
    "    loss_function=loss_function, \n",
    "    random_seed=random_seed, \n",
    "    task_type=task_type,\n",
    "    verbose=verbose,\n",
    "    max_depth=max_depth\n",
    ")\n",
    "\n",
    "model_union = CatBoostClassifier(\n",
    "    iterations=iterations, \n",
    "    loss_function=loss_function, \n",
    "    random_seed=random_seed, \n",
    "    task_type=task_type,\n",
    "    verbose=verbose,\n",
    "    max_depth=max_depth\n",
    ")"
   ]
  },
  {
   "cell_type": "code",
   "execution_count": 113,
   "id": "b17c64fa-5558-4d2b-aa41-dfea3bf377ba",
   "metadata": {},
   "outputs": [
    {
     "name": "stdout",
     "output_type": "stream",
     "text": [
      "CPU times: user 389 ms, sys: 365 ms, total: 753 ms\n",
      "Wall time: 330 ms\n"
     ]
    },
    {
     "data": {
      "text/plain": [
       "<catboost.core.CatBoostClassifier at 0x2a2155990>"
      ]
     },
     "execution_count": 113,
     "metadata": {},
     "output_type": "execute_result"
    }
   ],
   "source": [
    "%%time\n",
    "\n",
    "model_interc.fit(X_train_features[interc_features], y_train)"
   ]
  },
  {
   "cell_type": "code",
   "execution_count": 114,
   "id": "2d5e70c8-e8c1-40af-b905-eaaccff08559",
   "metadata": {},
   "outputs": [
    {
     "name": "stdout",
     "output_type": "stream",
     "text": [
      "CPU times: user 506 ms, sys: 538 ms, total: 1.04 s\n",
      "Wall time: 405 ms\n"
     ]
    },
    {
     "data": {
      "text/plain": [
       "<catboost.core.CatBoostClassifier at 0x2a25ed690>"
      ]
     },
     "execution_count": 114,
     "metadata": {},
     "output_type": "execute_result"
    }
   ],
   "source": [
    "%%time\n",
    "\n",
    "model_union.fit(X_train_features[union_features], y_train)"
   ]
  },
  {
   "cell_type": "code",
   "execution_count": 118,
   "id": "2c2608b7-33a8-4353-bebf-e37e627b0443",
   "metadata": {},
   "outputs": [
    {
     "name": "stdout",
     "output_type": "stream",
     "text": [
      "CPU times: user 10.9 ms, sys: 3.93 ms, total: 14.8 ms\n",
      "Wall time: 8.47 ms\n"
     ]
    }
   ],
   "source": [
    "%%time\n",
    "\n",
    "prediction_interc = model_interc.predict(X_test_features[interc_features])\n",
    "probas_interc = model_interc.predict_proba(X_test_features[interc_features])[:, 1]"
   ]
  },
  {
   "cell_type": "code",
   "execution_count": 120,
   "id": "ffd7f24b-993b-4ada-bdf0-5612c3c42405",
   "metadata": {},
   "outputs": [
    {
     "name": "stdout",
     "output_type": "stream",
     "text": [
      "CPU times: user 13.8 ms, sys: 3.48 ms, total: 17.2 ms\n",
      "Wall time: 10.2 ms\n"
     ]
    }
   ],
   "source": [
    "%%time\n",
    "\n",
    "prediction_union = model_union.predict(X_test_features[union_features])\n",
    "probas_union = model_union.predict_proba(X_test_features[union_features])[:, 1]"
   ]
  },
  {
   "cell_type": "markdown",
   "id": "dcc5c401-c827-43b2-a3c1-2c7db07958ab",
   "metadata": {},
   "source": [
    "##### 6. Посчитаем метрики и залогируем в `MLFlow` оба варианта"
   ]
  },
  {
   "cell_type": "code",
   "execution_count": 121,
   "id": "81bab76a-2388-43eb-a950-2b89e07b93d1",
   "metadata": {},
   "outputs": [],
   "source": [
    "metrics_interc = {}\n",
    "\n",
    "_, err1, _, err2 = confusion_matrix(y_test, prediction_interc, normalize='all').ravel()\n",
    "auc = roc_auc_score(y_test, probas)\n",
    "precision = precision_score(y_test, prediction_interc)\n",
    "recall = recall_score(y_test, prediction_interc)\n",
    "f1 = f1_score(y_test, prediction_interc)\n",
    "logloss = log_loss(y_test, prediction_interc)\n",
    "\n",
    "metrics_interc[\"err1\"] = err1\n",
    "metrics_interc[\"err2\"] = err2\n",
    "metrics_interc[\"auc\"] = auc\n",
    "metrics_interc[\"precision\"] = precision\n",
    "metrics_interc[\"recall\"] = recall\n",
    "metrics_interc[\"f1\"] = f1\n",
    "metrics_interc[\"logloss\"] = logloss\n",
    "\n",
    "\n",
    "metrics_union = {}\n",
    "\n",
    "_, err1, _, err2 = confusion_matrix(y_test, prediction_union, normalize='all').ravel()\n",
    "auc = roc_auc_score(y_test, probas_union)\n",
    "precision = precision_score(y_test, prediction_union)\n",
    "recall = recall_score(y_test, prediction_union)\n",
    "f1 = f1_score(y_test, prediction_union)\n",
    "logloss = log_loss(y_test, prediction_union)\n",
    "\n",
    "metrics_union[\"err1\"] = err1\n",
    "metrics_union[\"err2\"] = err2\n",
    "metrics_union[\"auc\"] = auc\n",
    "metrics_union[\"precision\"] = precision\n",
    "metrics_union[\"recall\"] = recall\n",
    "metrics_union[\"f1\"] = f1\n",
    "metrics_union[\"logloss\"] = logloss"
   ]
  },
  {
   "cell_type": "code",
   "execution_count": 122,
   "id": "4d645ba3-1195-40c9-8bfc-2b7881a3a7e6",
   "metadata": {},
   "outputs": [],
   "source": [
    "os.environ[\"MLFLOW_S3_ENDPOINT_URL\"] = \"...\"\n",
    "os.environ[\"AWS_ACCESS_KEY_ID\"] = \"...\"\n",
    "os.environ[\"AWS_SECRET_ACCESS_KEY\"] = \"...\""
   ]
  },
  {
   "cell_type": "code",
   "execution_count": 123,
   "id": "c9eb4c16-18e2-4869-966f-977f8d380e1b",
   "metadata": {},
   "outputs": [],
   "source": [
    "mlflow.set_tracking_uri(f\"http://{TRACKING_SERVER_HOST}:{TRACKING_SERVER_PORT}\")\n",
    "mlflow.set_registry_uri(f\"http://{TRACKING_SERVER_HOST}:{TRACKING_SERVER_PORT}\")"
   ]
  },
  {
   "cell_type": "code",
   "execution_count": 127,
   "id": "4933d3dc-263b-4733-b13b-e7aae9000d33",
   "metadata": {
    "scrolled": true
   },
   "outputs": [
    {
     "name": "stderr",
     "output_type": "stream",
     "text": [
      "/Users/nikolaistepanov/.pyenv/versions/3.11.3/lib/python3.11/site-packages/_distutils_hack/__init__.py:18: UserWarning: Distutils was imported before Setuptools, but importing Setuptools also replaces the `distutils` module in `sys.modules`. This may lead to undesirable behaviors or errors. To avoid these issues, avoid using distutils directly, ensure that setuptools is installed in the traditional way (e.g. not an editable install), and/or make sure that setuptools is always imported before distutils.\n",
      "  warnings.warn(\n",
      "/Users/nikolaistepanov/.pyenv/versions/3.11.3/lib/python3.11/site-packages/_distutils_hack/__init__.py:33: UserWarning: Setuptools is replacing distutils.\n",
      "  warnings.warn(\"Setuptools is replacing distutils.\")\n",
      "Registered model 'churn_model_nikolaistepanov_prepared' already exists. Creating a new version of this model...\n",
      "2023/11/01 14:08:06 INFO mlflow.tracking._model_registry.client: Waiting up to 60 seconds for model version to finish creation. Model name: churn_model_nikolaistepanov_prepared, version 11\n",
      "Created version '11' of model 'churn_model_nikolaistepanov_prepared'.\n"
     ]
    }
   ],
   "source": [
    "pip_requirements=\"../requirements.txt\"\n",
    "signature = mlflow.models.infer_signature(X_test_features[interc_features], prediction_interc)\n",
    "input_example = X_test_features[interc_features][:10]\n",
    "\n",
    "experiment_id = mlflow.get_experiment_by_name(EXPERIMENT_NAME).experiment_id\n",
    "\n",
    "with mlflow.start_run(run_name=f\"{RUN_NAME}_intersection\", experiment_id=experiment_id) as run:\n",
    "    run_id = run.info.run_id\n",
    "    \n",
    "    mlflow.log_metrics(metrics_interc)\n",
    "    mlflow.log_artifacts(FS_ASSETS)\n",
    "    model_info = mlflow.catboost.log_model(\n",
    "        cb_model=model_interc, \n",
    "        artifact_path=\"models\",\n",
    "        signature=signature,\n",
    "        input_example=input_example,\n",
    "        registered_model_name=REGISTRY_MODEL_NAME,\n",
    "        await_registration_for=60,\n",
    "        pip_requirements=pip_requirements,\n",
    "    )"
   ]
  },
  {
   "cell_type": "code",
   "execution_count": 128,
   "id": "eab0bc96-7028-4109-9586-5d3df43e675b",
   "metadata": {},
   "outputs": [
    {
     "name": "stderr",
     "output_type": "stream",
     "text": [
      "/Users/nikolaistepanov/.pyenv/versions/3.11.3/lib/python3.11/site-packages/_distutils_hack/__init__.py:18: UserWarning: Distutils was imported before Setuptools, but importing Setuptools also replaces the `distutils` module in `sys.modules`. This may lead to undesirable behaviors or errors. To avoid these issues, avoid using distutils directly, ensure that setuptools is installed in the traditional way (e.g. not an editable install), and/or make sure that setuptools is always imported before distutils.\n",
      "  warnings.warn(\n",
      "/Users/nikolaistepanov/.pyenv/versions/3.11.3/lib/python3.11/site-packages/_distutils_hack/__init__.py:33: UserWarning: Setuptools is replacing distutils.\n",
      "  warnings.warn(\"Setuptools is replacing distutils.\")\n",
      "Registered model 'churn_model_nikolaistepanov_prepared' already exists. Creating a new version of this model...\n",
      "2023/11/01 14:08:34 INFO mlflow.tracking._model_registry.client: Waiting up to 60 seconds for model version to finish creation. Model name: churn_model_nikolaistepanov_prepared, version 12\n",
      "Created version '12' of model 'churn_model_nikolaistepanov_prepared'.\n"
     ]
    }
   ],
   "source": [
    "pip_requirements=\"../requirements.txt\"\n",
    "signature = mlflow.models.infer_signature(X_test_features[union_features], prediction_union)\n",
    "input_example = X_test_features[union_features][:10]\n",
    "\n",
    "experiment_id = mlflow.get_experiment_by_name(EXPERIMENT_NAME).experiment_id\n",
    "\n",
    "with mlflow.start_run(run_name=f\"{RUN_NAME}_union\", experiment_id=experiment_id) as run:\n",
    "    run_id = run.info.run_id\n",
    "    \n",
    "    mlflow.log_metrics(metrics_union)\n",
    "    mlflow.log_artifacts(FS_ASSETS)\n",
    "    model_info = mlflow.catboost.log_model(\n",
    "        cb_model=model_union, \n",
    "        artifact_path=\"models\",\n",
    "        signature=signature,\n",
    "        input_example=input_example,\n",
    "        registered_model_name=REGISTRY_MODEL_NAME,\n",
    "        await_registration_for=60,\n",
    "        pip_requirements=pip_requirements,\n",
    "    )"
   ]
  },
  {
   "cell_type": "code",
   "execution_count": null,
   "id": "c495da8d-7e15-475a-8d0f-70e36c157403",
   "metadata": {},
   "outputs": [],
   "source": []
  }
 ],
 "metadata": {
  "kernelspec": {
   "display_name": "Python 3 (ipykernel)",
   "language": "python",
   "name": "python3"
  },
  "language_info": {
   "codemirror_mode": {
    "name": "ipython",
    "version": 3
   },
   "file_extension": ".py",
   "mimetype": "text/x-python",
   "name": "python",
   "nbconvert_exporter": "python",
   "pygments_lexer": "ipython3",
   "version": "3.11.3"
  }
 },
 "nbformat": 4,
 "nbformat_minor": 5
}
