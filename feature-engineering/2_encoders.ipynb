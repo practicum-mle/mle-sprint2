{
 "cells": [
  {
   "cell_type": "code",
   "execution_count": 99,
   "id": "d328be17-c716-4687-927a-e10a0c9967a5",
   "metadata": {},
   "outputs": [],
   "source": [
    "import os\n",
    "import datetime\n",
    "from dateutil.relativedelta import relativedelta\n",
    "\n",
    "import psycopg\n",
    "import pandas as pd\n",
    "import mlflow\n",
    "from catboost import CatBoostClassifier\n",
    "from sklearn.compose import ColumnTransformer\n",
    "from sklearn.pipeline import Pipeline\n",
    "from sklearn.model_selection import train_test_split\n",
    "from sklearn.preprocessing import (\n",
    "    OneHotEncoder, \n",
    "    SplineTransformer, \n",
    "    QuantileTransformer, \n",
    "    RobustScaler,\n",
    "    PolynomialFeatures,\n",
    "    KBinsDiscretizer,\n",
    ")\n",
    "from sklearn.metrics import (\n",
    "    roc_auc_score,\n",
    "    f1_score,\n",
    "    precision_score,\n",
    "    recall_score,\n",
    "    confusion_matrix,\n",
    "    log_loss,\n",
    ")"
   ]
  },
  {
   "cell_type": "markdown",
   "id": "0de26486-c07d-41cd-ac49-9f15b0c9f738",
   "metadata": {},
   "source": [
    "##### 1. Определим глобальные перменные"
   ]
  },
  {
   "cell_type": "code",
   "execution_count": 104,
   "id": "94d277a7-8e39-4ffc-9b9b-74c15d113f1a",
   "metadata": {},
   "outputs": [],
   "source": [
    "TABLE_NAME = \"users_churn\"\n",
    "\n",
    "TRACKING_SERVER_HOST = \"127.0.0.1\"\n",
    "TRACKING_SERVER_PORT = 5000\n",
    "\n",
    "EXPERIMENT_NAME = \"churn_nikolaistepanov\"\n",
    "RUN_NAME = \"preprocessing\"\n",
    "REGISTRY_MODEL_NAME = \"churn_model_nikolaistepanov_prepared\""
   ]
  },
  {
   "cell_type": "markdown",
   "id": "f916355b-93ae-4896-987f-ad760e3642dc",
   "metadata": {},
   "source": [
    "##### 2. Заберем данные из базы данных и сформируем `dataframe`"
   ]
  },
  {
   "cell_type": "code",
   "execution_count": 58,
   "id": "e0908b4c-a812-422e-9799-40bc5b65cbf8",
   "metadata": {},
   "outputs": [],
   "source": [
    "connection = {\"sslmode\": \"verify-full\", \"target_session_attrs\": \"read-write\"}\n",
    "postgres_credentials = {\n",
    "    \"host\": os.getenv(\"POSTGRES_HOST\"),\n",
    "    \"port\": os.getenv(\"POSTGRES_PORT\"),\n",
    "    \"dbname\": os.getenv(\"POSTGRES_DBNAME\"),\n",
    "    \"user\": os.getenv(\"POSTGRES_USER\"),\n",
    "    \"password\": os.getenv(\"POSTGRES_PASSWORD\"),\n",
    "}\n",
    "\n",
    "connection.update(postgres_credentials)"
   ]
  },
  {
   "cell_type": "code",
   "execution_count": 59,
   "id": "94cc3287-ed9a-4609-b680-6eae01990a5c",
   "metadata": {},
   "outputs": [],
   "source": [
    "with psycopg.connect(**connection) as conn:\n",
    "\n",
    "    with conn.cursor() as cur:\n",
    "        cur.execute(f\"SELECT * FROM {TABLE_NAME}\")\n",
    "        data = cur.fetchall()\n",
    "        columns = [col[0] for col in cur.description]\n",
    "\n",
    "df = pd.DataFrame(data, columns=columns)"
   ]
  },
  {
   "cell_type": "markdown",
   "id": "b323f5e6-6dd1-4956-a029-f64a0917bfeb",
   "metadata": {},
   "source": [
    "##### 3. Посмотрим формально на типы наших данных"
   ]
  },
  {
   "cell_type": "code",
   "execution_count": 60,
   "id": "2974ef9e-d19e-41b9-8190-fdb41ef1e854",
   "metadata": {},
   "outputs": [
    {
     "data": {
      "text/plain": [
       "id                            int64\n",
       "customer_id                  object\n",
       "begin_date           datetime64[ns]\n",
       "end_date             datetime64[ns]\n",
       "type                         object\n",
       "paperless_billing             int64\n",
       "payment_method               object\n",
       "monthly_charges             float64\n",
       "total_charges               float64\n",
       "internet_service             object\n",
       "online_security               int64\n",
       "online_backup                 int64\n",
       "device_protection             int64\n",
       "tech_support                  int64\n",
       "streaming_tv                  int64\n",
       "streaming_movies              int64\n",
       "gender                       object\n",
       "senior_citizen                int64\n",
       "partner                       int64\n",
       "dependents                    int64\n",
       "multiple_lines                int64\n",
       "target                        int64\n",
       "dtype: object"
      ]
     },
     "execution_count": 60,
     "metadata": {},
     "output_type": "execute_result"
    }
   ],
   "source": [
    "df.dtypes"
   ]
  },
  {
   "cell_type": "markdown",
   "id": "806c7336-dc2b-4a5e-876d-205bd5d6090b",
   "metadata": {},
   "source": [
    "Последовательно будем работать с каждым типом данных и преобразовывать его в нужный нам формат при помощи `encoders`"
   ]
  },
  {
   "cell_type": "markdown",
   "id": "b69801e5-e148-4210-9ba2-fd47b8ae34f3",
   "metadata": {},
   "source": [
    "##### 3.1 Тип данных `object`"
   ]
  },
  {
   "cell_type": "code",
   "execution_count": 61,
   "id": "84ec269b-a6f7-4fc5-b26e-46a0217963d9",
   "metadata": {},
   "outputs": [],
   "source": [
    "obj_df = df.select_dtypes(include=\"object\")"
   ]
  },
  {
   "cell_type": "code",
   "execution_count": 62,
   "id": "12649179-199b-452f-be25-e3958df9783d",
   "metadata": {},
   "outputs": [
    {
     "data": {
      "text/html": [
       "<div>\n",
       "<style scoped>\n",
       "    .dataframe tbody tr th:only-of-type {\n",
       "        vertical-align: middle;\n",
       "    }\n",
       "\n",
       "    .dataframe tbody tr th {\n",
       "        vertical-align: top;\n",
       "    }\n",
       "\n",
       "    .dataframe thead th {\n",
       "        text-align: right;\n",
       "    }\n",
       "</style>\n",
       "<table border=\"1\" class=\"dataframe\">\n",
       "  <thead>\n",
       "    <tr style=\"text-align: right;\">\n",
       "      <th></th>\n",
       "      <th>customer_id</th>\n",
       "      <th>type</th>\n",
       "      <th>payment_method</th>\n",
       "      <th>internet_service</th>\n",
       "      <th>gender</th>\n",
       "    </tr>\n",
       "  </thead>\n",
       "  <tbody>\n",
       "    <tr>\n",
       "      <th>0</th>\n",
       "      <td>7590-VHVEG</td>\n",
       "      <td>Month-to-month</td>\n",
       "      <td>Electronic check</td>\n",
       "      <td>DSL</td>\n",
       "      <td>Female</td>\n",
       "    </tr>\n",
       "    <tr>\n",
       "      <th>1</th>\n",
       "      <td>5575-GNVDE</td>\n",
       "      <td>One year</td>\n",
       "      <td>Mailed check</td>\n",
       "      <td>DSL</td>\n",
       "      <td>Male</td>\n",
       "    </tr>\n",
       "  </tbody>\n",
       "</table>\n",
       "</div>"
      ],
      "text/plain": [
       "  customer_id            type    payment_method internet_service  gender\n",
       "0  7590-VHVEG  Month-to-month  Electronic check              DSL  Female\n",
       "1  5575-GNVDE        One year      Mailed check              DSL    Male"
      ]
     },
     "execution_count": 62,
     "metadata": {},
     "output_type": "execute_result"
    }
   ],
   "source": [
    "obj_df.head(2)"
   ]
  },
  {
   "cell_type": "code",
   "execution_count": 63,
   "id": "923ab5b3-bb1f-4b7b-b851-03b2e1683aad",
   "metadata": {},
   "outputs": [],
   "source": [
    "cat_columns = [\"type\", \"payment_method\", \"internet_service\", \"gender\"]"
   ]
  },
  {
   "cell_type": "code",
   "execution_count": 64,
   "id": "947914fd-b77b-45e9-b5b4-f7152a3b3047",
   "metadata": {},
   "outputs": [],
   "source": [
    "encoder_oh = OneHotEncoder(\n",
    "    categories=\"auto\",\n",
    "    handle_unknown='ignore',\n",
    "    max_categories=10,\n",
    "    sparse_output=False,\n",
    "    drop=\"first\"\n",
    ")\n",
    "encoded_features = encoder_oh.fit_transform(df[cat_columns].to_numpy())"
   ]
  },
  {
   "cell_type": "code",
   "execution_count": 65,
   "id": "c4a52e11-70c8-4ec8-88af-edd87ae7df1e",
   "metadata": {},
   "outputs": [],
   "source": [
    "encoded_df = pd.DataFrame(\n",
    "    encoded_features, \n",
    "    columns=encoder_oh.get_feature_names_out(cat_columns)\n",
    ")\n",
    "obj_df = pd.concat([obj_df, encoded_df], axis=1)"
   ]
  },
  {
   "cell_type": "code",
   "execution_count": 66,
   "id": "c63ca952-aede-4404-b1d0-9b84575042a5",
   "metadata": {},
   "outputs": [
    {
     "data": {
      "text/html": [
       "<div>\n",
       "<style scoped>\n",
       "    .dataframe tbody tr th:only-of-type {\n",
       "        vertical-align: middle;\n",
       "    }\n",
       "\n",
       "    .dataframe tbody tr th {\n",
       "        vertical-align: top;\n",
       "    }\n",
       "\n",
       "    .dataframe thead th {\n",
       "        text-align: right;\n",
       "    }\n",
       "</style>\n",
       "<table border=\"1\" class=\"dataframe\">\n",
       "  <thead>\n",
       "    <tr style=\"text-align: right;\">\n",
       "      <th></th>\n",
       "      <th>customer_id</th>\n",
       "      <th>type</th>\n",
       "      <th>payment_method</th>\n",
       "      <th>internet_service</th>\n",
       "      <th>gender</th>\n",
       "      <th>type_One year</th>\n",
       "      <th>type_Two year</th>\n",
       "      <th>payment_method_Credit card (automatic)</th>\n",
       "      <th>payment_method_Electronic check</th>\n",
       "      <th>payment_method_Mailed check</th>\n",
       "      <th>internet_service_Fiber optic</th>\n",
       "      <th>internet_service_No data</th>\n",
       "      <th>gender_Male</th>\n",
       "    </tr>\n",
       "  </thead>\n",
       "  <tbody>\n",
       "    <tr>\n",
       "      <th>0</th>\n",
       "      <td>7590-VHVEG</td>\n",
       "      <td>Month-to-month</td>\n",
       "      <td>Electronic check</td>\n",
       "      <td>DSL</td>\n",
       "      <td>Female</td>\n",
       "      <td>0.0</td>\n",
       "      <td>0.0</td>\n",
       "      <td>0.0</td>\n",
       "      <td>1.0</td>\n",
       "      <td>0.0</td>\n",
       "      <td>0.0</td>\n",
       "      <td>0.0</td>\n",
       "      <td>0.0</td>\n",
       "    </tr>\n",
       "    <tr>\n",
       "      <th>1</th>\n",
       "      <td>5575-GNVDE</td>\n",
       "      <td>One year</td>\n",
       "      <td>Mailed check</td>\n",
       "      <td>DSL</td>\n",
       "      <td>Male</td>\n",
       "      <td>1.0</td>\n",
       "      <td>0.0</td>\n",
       "      <td>0.0</td>\n",
       "      <td>0.0</td>\n",
       "      <td>1.0</td>\n",
       "      <td>0.0</td>\n",
       "      <td>0.0</td>\n",
       "      <td>1.0</td>\n",
       "    </tr>\n",
       "  </tbody>\n",
       "</table>\n",
       "</div>"
      ],
      "text/plain": [
       "  customer_id            type    payment_method internet_service  gender  \\\n",
       "0  7590-VHVEG  Month-to-month  Electronic check              DSL  Female   \n",
       "1  5575-GNVDE        One year      Mailed check              DSL    Male   \n",
       "\n",
       "   type_One year  type_Two year  payment_method_Credit card (automatic)  \\\n",
       "0            0.0            0.0                                     0.0   \n",
       "1            1.0            0.0                                     0.0   \n",
       "\n",
       "   payment_method_Electronic check  payment_method_Mailed check  \\\n",
       "0                              1.0                          0.0   \n",
       "1                              0.0                          1.0   \n",
       "\n",
       "   internet_service_Fiber optic  internet_service_No data  gender_Male  \n",
       "0                           0.0                       0.0          0.0  \n",
       "1                           0.0                       0.0          1.0  "
      ]
     },
     "execution_count": 66,
     "metadata": {},
     "output_type": "execute_result"
    }
   ],
   "source": [
    "obj_df.head(2)"
   ]
  },
  {
   "cell_type": "markdown",
   "id": "0b50be0b-06ef-4d07-ad4d-e5a4ff027180",
   "metadata": {},
   "source": [
    "##### 3.2 Тип данных `float`, `int64`"
   ]
  },
  {
   "cell_type": "code",
   "execution_count": 67,
   "id": "37dda6f5-f4fe-423b-94ae-613601879e75",
   "metadata": {},
   "outputs": [],
   "source": [
    "num_df = df.select_dtypes(include=[\"float64\", \"int64\"])"
   ]
  },
  {
   "cell_type": "code",
   "execution_count": 68,
   "id": "fa686213-63fe-48fc-804d-778b25d9ac98",
   "metadata": {},
   "outputs": [
    {
     "data": {
      "text/html": [
       "<div>\n",
       "<style scoped>\n",
       "    .dataframe tbody tr th:only-of-type {\n",
       "        vertical-align: middle;\n",
       "    }\n",
       "\n",
       "    .dataframe tbody tr th {\n",
       "        vertical-align: top;\n",
       "    }\n",
       "\n",
       "    .dataframe thead th {\n",
       "        text-align: right;\n",
       "    }\n",
       "</style>\n",
       "<table border=\"1\" class=\"dataframe\">\n",
       "  <thead>\n",
       "    <tr style=\"text-align: right;\">\n",
       "      <th></th>\n",
       "      <th>id</th>\n",
       "      <th>paperless_billing</th>\n",
       "      <th>monthly_charges</th>\n",
       "      <th>total_charges</th>\n",
       "      <th>online_security</th>\n",
       "      <th>online_backup</th>\n",
       "      <th>device_protection</th>\n",
       "      <th>tech_support</th>\n",
       "      <th>streaming_tv</th>\n",
       "      <th>streaming_movies</th>\n",
       "      <th>senior_citizen</th>\n",
       "      <th>partner</th>\n",
       "      <th>dependents</th>\n",
       "      <th>multiple_lines</th>\n",
       "      <th>target</th>\n",
       "    </tr>\n",
       "  </thead>\n",
       "  <tbody>\n",
       "    <tr>\n",
       "      <th>0</th>\n",
       "      <td>1</td>\n",
       "      <td>1</td>\n",
       "      <td>29.85</td>\n",
       "      <td>29.85</td>\n",
       "      <td>0</td>\n",
       "      <td>1</td>\n",
       "      <td>0</td>\n",
       "      <td>0</td>\n",
       "      <td>0</td>\n",
       "      <td>0</td>\n",
       "      <td>0</td>\n",
       "      <td>1</td>\n",
       "      <td>0</td>\n",
       "      <td>0</td>\n",
       "      <td>0</td>\n",
       "    </tr>\n",
       "    <tr>\n",
       "      <th>1</th>\n",
       "      <td>2</td>\n",
       "      <td>0</td>\n",
       "      <td>56.95</td>\n",
       "      <td>1889.50</td>\n",
       "      <td>1</td>\n",
       "      <td>0</td>\n",
       "      <td>1</td>\n",
       "      <td>0</td>\n",
       "      <td>0</td>\n",
       "      <td>0</td>\n",
       "      <td>0</td>\n",
       "      <td>0</td>\n",
       "      <td>0</td>\n",
       "      <td>0</td>\n",
       "      <td>0</td>\n",
       "    </tr>\n",
       "  </tbody>\n",
       "</table>\n",
       "</div>"
      ],
      "text/plain": [
       "   id  paperless_billing  monthly_charges  total_charges  online_security  \\\n",
       "0   1                  1            29.85          29.85                0   \n",
       "1   2                  0            56.95        1889.50                1   \n",
       "\n",
       "   online_backup  device_protection  tech_support  streaming_tv  \\\n",
       "0              1                  0             0             0   \n",
       "1              0                  1             0             0   \n",
       "\n",
       "   streaming_movies  senior_citizen  partner  dependents  multiple_lines  \\\n",
       "0                 0               0        1           0               0   \n",
       "1                 0               0        0           0               0   \n",
       "\n",
       "   target  \n",
       "0       0  \n",
       "1       0  "
      ]
     },
     "execution_count": 68,
     "metadata": {},
     "output_type": "execute_result"
    }
   ],
   "source": [
    "num_df.head(2)"
   ]
  },
  {
   "cell_type": "code",
   "execution_count": 69,
   "id": "8404b763-e163-46f2-abe0-7d31f8ebfe3f",
   "metadata": {},
   "outputs": [],
   "source": [
    "num_columns = [\"monthly_charges\", \"total_charges\"]"
   ]
  },
  {
   "cell_type": "code",
   "execution_count": 70,
   "id": "36891ef8-3ac7-470c-8194-448ed4d3b94a",
   "metadata": {},
   "outputs": [],
   "source": [
    "encoder_spl = SplineTransformer(n_knots=3, degree=4)\n",
    "encoded_features = encoder_spl.fit_transform(df[num_columns].to_numpy())\n",
    "\n",
    "encoded_df = pd.DataFrame(\n",
    "    encoded_features, \n",
    "    columns=encoder_spl.get_feature_names_out(num_columns)\n",
    ")\n",
    "num_df = pd.concat([num_df, encoded_df], axis=1)"
   ]
  },
  {
   "cell_type": "code",
   "execution_count": 71,
   "id": "8b67a319-da1e-45e5-8c30-4675500e36e1",
   "metadata": {},
   "outputs": [],
   "source": [
    "n_quantiles=100\n",
    "\n",
    "encoder_q = QuantileTransformer(n_quantiles=n_quantiles)\n",
    "encoded_features = encoder_q.fit_transform(df[num_columns].to_numpy())\n",
    "\n",
    "encoded_df = pd.DataFrame(\n",
    "    encoded_features, \n",
    "    columns=encoder_q.get_feature_names_out(num_columns)\n",
    ")\n",
    "encoded_df.columns = [col + f\"_q_{n_quantiles}\" for col in num_columns]\n",
    "num_df = pd.concat([num_df, encoded_df], axis=1)"
   ]
  },
  {
   "cell_type": "code",
   "execution_count": 72,
   "id": "9a1a9295-1392-47df-b628-0cd93bdd5962",
   "metadata": {},
   "outputs": [],
   "source": [
    "encoder_rb = RobustScaler()\n",
    "encoded_features = encoder_rb.fit_transform(df[num_columns].to_numpy())\n",
    "\n",
    "encoded_df = pd.DataFrame(\n",
    "    encoded_features, \n",
    "    columns=encoder_rb.get_feature_names_out(num_columns)\n",
    ")\n",
    "encoded_df.columns = [col + f\"_robust\" for col in num_columns]\n",
    "num_df = pd.concat([num_df, encoded_df], axis=1)"
   ]
  },
  {
   "cell_type": "code",
   "execution_count": 73,
   "id": "2201a871-96df-4e7a-892e-8112e5680c19",
   "metadata": {},
   "outputs": [],
   "source": [
    "degree = 3\n",
    "\n",
    "encoder_pol = PolynomialFeatures(degree=degree)\n",
    "encoded_features = encoder_pol.fit_transform(df[num_columns].to_numpy())\n",
    "\n",
    "encoded_df = pd.DataFrame(\n",
    "    encoded_features, \n",
    "    columns=encoder_pol.get_feature_names_out(num_columns)\n",
    ")\n",
    "encoded_df[encoded_df.columns[1 + len(num_columns):]]\n",
    "num_df = pd.concat([num_df, encoded_df], axis=1)"
   ]
  },
  {
   "cell_type": "code",
   "execution_count": 74,
   "id": "2f73ae70-e6c6-47d8-9b13-b94c586bd124",
   "metadata": {},
   "outputs": [],
   "source": [
    "n_bins = 5\n",
    "\n",
    "encoder_kbd = KBinsDiscretizer(\n",
    "    n_bins=n_bins, \n",
    "    encode='ordinal', \n",
    "    strategy='uniform', \n",
    "    subsample=None\n",
    ")\n",
    "encoded_features = encoder_kbd.fit_transform(df[num_columns].to_numpy())\n",
    "\n",
    "encoded_df = pd.DataFrame(\n",
    "    encoded_features, \n",
    "    columns=encoder_kbd.get_feature_names_out(num_columns)\n",
    ")\n",
    "encoded_df.columns = [col + f\"_bin\" for col in num_columns]\n",
    "num_df = pd.concat([num_df, encoded_df], axis=1)"
   ]
  },
  {
   "cell_type": "code",
   "execution_count": 75,
   "id": "b9b65ad1-b46a-4e73-8c2d-2b63db9c3bc7",
   "metadata": {},
   "outputs": [
    {
     "data": {
      "text/html": [
       "<div>\n",
       "<style scoped>\n",
       "    .dataframe tbody tr th:only-of-type {\n",
       "        vertical-align: middle;\n",
       "    }\n",
       "\n",
       "    .dataframe tbody tr th {\n",
       "        vertical-align: top;\n",
       "    }\n",
       "\n",
       "    .dataframe thead th {\n",
       "        text-align: right;\n",
       "    }\n",
       "</style>\n",
       "<table border=\"1\" class=\"dataframe\">\n",
       "  <thead>\n",
       "    <tr style=\"text-align: right;\">\n",
       "      <th></th>\n",
       "      <th>id</th>\n",
       "      <th>paperless_billing</th>\n",
       "      <th>monthly_charges</th>\n",
       "      <th>total_charges</th>\n",
       "      <th>online_security</th>\n",
       "      <th>online_backup</th>\n",
       "      <th>device_protection</th>\n",
       "      <th>tech_support</th>\n",
       "      <th>streaming_tv</th>\n",
       "      <th>streaming_movies</th>\n",
       "      <th>...</th>\n",
       "      <th>total_charges</th>\n",
       "      <th>monthly_charges^2</th>\n",
       "      <th>monthly_charges total_charges</th>\n",
       "      <th>total_charges^2</th>\n",
       "      <th>monthly_charges^3</th>\n",
       "      <th>monthly_charges^2 total_charges</th>\n",
       "      <th>monthly_charges total_charges^2</th>\n",
       "      <th>total_charges^3</th>\n",
       "      <th>monthly_charges_bin</th>\n",
       "      <th>total_charges_bin</th>\n",
       "    </tr>\n",
       "  </thead>\n",
       "  <tbody>\n",
       "    <tr>\n",
       "      <th>0</th>\n",
       "      <td>1</td>\n",
       "      <td>1</td>\n",
       "      <td>29.85</td>\n",
       "      <td>29.85</td>\n",
       "      <td>0</td>\n",
       "      <td>1</td>\n",
       "      <td>0</td>\n",
       "      <td>0</td>\n",
       "      <td>0</td>\n",
       "      <td>0</td>\n",
       "      <td>...</td>\n",
       "      <td>29.85</td>\n",
       "      <td>891.0225</td>\n",
       "      <td>891.0225</td>\n",
       "      <td>8.910225e+02</td>\n",
       "      <td>26597.021625</td>\n",
       "      <td>2.659702e+04</td>\n",
       "      <td>2.659702e+04</td>\n",
       "      <td>2.659702e+04</td>\n",
       "      <td>0.0</td>\n",
       "      <td>0.0</td>\n",
       "    </tr>\n",
       "    <tr>\n",
       "      <th>1</th>\n",
       "      <td>2</td>\n",
       "      <td>0</td>\n",
       "      <td>56.95</td>\n",
       "      <td>1889.50</td>\n",
       "      <td>1</td>\n",
       "      <td>0</td>\n",
       "      <td>1</td>\n",
       "      <td>0</td>\n",
       "      <td>0</td>\n",
       "      <td>0</td>\n",
       "      <td>...</td>\n",
       "      <td>1889.50</td>\n",
       "      <td>3243.3025</td>\n",
       "      <td>107607.0250</td>\n",
       "      <td>3.570210e+06</td>\n",
       "      <td>184706.077375</td>\n",
       "      <td>6.128220e+06</td>\n",
       "      <td>2.033235e+08</td>\n",
       "      <td>6.745912e+09</td>\n",
       "      <td>1.0</td>\n",
       "      <td>1.0</td>\n",
       "    </tr>\n",
       "  </tbody>\n",
       "</table>\n",
       "<p>2 rows × 43 columns</p>\n",
       "</div>"
      ],
      "text/plain": [
       "   id  paperless_billing  monthly_charges  total_charges  online_security  \\\n",
       "0   1                  1            29.85          29.85                0   \n",
       "1   2                  0            56.95        1889.50                1   \n",
       "\n",
       "   online_backup  device_protection  tech_support  streaming_tv  \\\n",
       "0              1                  0             0             0   \n",
       "1              0                  1             0             0   \n",
       "\n",
       "   streaming_movies  ...  total_charges  monthly_charges^2  \\\n",
       "0                 0  ...          29.85           891.0225   \n",
       "1                 0  ...        1889.50          3243.3025   \n",
       "\n",
       "   monthly_charges total_charges  total_charges^2  monthly_charges^3  \\\n",
       "0                       891.0225     8.910225e+02       26597.021625   \n",
       "1                    107607.0250     3.570210e+06      184706.077375   \n",
       "\n",
       "   monthly_charges^2 total_charges  monthly_charges total_charges^2  \\\n",
       "0                     2.659702e+04                     2.659702e+04   \n",
       "1                     6.128220e+06                     2.033235e+08   \n",
       "\n",
       "   total_charges^3  monthly_charges_bin  total_charges_bin  \n",
       "0     2.659702e+04                  0.0                0.0  \n",
       "1     6.745912e+09                  1.0                1.0  \n",
       "\n",
       "[2 rows x 43 columns]"
      ]
     },
     "execution_count": 75,
     "metadata": {},
     "output_type": "execute_result"
    }
   ],
   "source": [
    "num_df.head(2)"
   ]
  },
  {
   "cell_type": "markdown",
   "id": "b4a24929-a41e-407a-b11f-9068228ed2d8",
   "metadata": {},
   "source": [
    "##### 3.3 Тип данных `datetime`"
   ]
  },
  {
   "cell_type": "code",
   "execution_count": 76,
   "id": "22d1688e-9144-499d-95e7-fd336a2d494f",
   "metadata": {},
   "outputs": [],
   "source": [
    "dt_df = df.select_dtypes(include=\"datetime\")"
   ]
  },
  {
   "cell_type": "code",
   "execution_count": 77,
   "id": "4def974d-40d1-491e-8221-0e61dc78cf3a",
   "metadata": {},
   "outputs": [],
   "source": [
    "dt_df[\"current_date\"] = datetime.datetime.now()"
   ]
  },
  {
   "cell_type": "code",
   "execution_count": 78,
   "id": "567918a5-599b-4987-8f53-d163521b60ad",
   "metadata": {},
   "outputs": [],
   "source": [
    "dt_df[\"days_diff\"] = dt_df.apply(lambda row: (row[\"current_date\"] - row[\"begin_date\"]).days, axis=1)\n",
    "dt_df[\"diff_years\"] = dt_df.apply(lambda row: relativedelta(row[\"current_date\"], row[\"begin_date\"]).years, axis=1)\n",
    "dt_df[\"diff_months\"] = dt_df.apply(lambda row: relativedelta(row[\"current_date\"], row[\"begin_date\"]).months, axis=1)"
   ]
  },
  {
   "cell_type": "markdown",
   "id": "55df561c-5539-4f59-b9e7-b43e94a1dfac",
   "metadata": {},
   "source": [
    "##### 4. Объединим все `encoders` в `Pipeline` и `ColumnTransformer`"
   ]
  },
  {
   "cell_type": "code",
   "execution_count": 79,
   "id": "aa175c48-c7f1-4091-a66b-27775b7d910c",
   "metadata": {},
   "outputs": [],
   "source": [
    "numeric_transformer = ColumnTransformer(\n",
    "    transformers=[\n",
    "        (\"spl\", encoder_spl, num_columns),\n",
    "        (\"q\", encoder_q, num_columns),\n",
    "        (\"rb\", encoder_rb, num_columns),\n",
    "        (\"pol\", encoder_pol, num_columns),\n",
    "        (\"kbd\", encoder_kbd, num_columns),\n",
    "    ]\n",
    ")\n",
    "\n",
    "categorical_transformer = Pipeline(\n",
    "    steps=[\n",
    "        (\"encoder\", encoder_oh),\n",
    "    ]\n",
    ")\n",
    "\n",
    "preprocessor = ColumnTransformer(\n",
    "    transformers=[\n",
    "        (\"num\", numeric_transformer, num_columns),\n",
    "        (\"cat\", categorical_transformer, cat_columns),\n",
    "    ],\n",
    "    n_jobs=-1\n",
    ")"
   ]
  },
  {
   "cell_type": "code",
   "execution_count": 80,
   "id": "20102991-4fcc-469c-9789-64a9e4db900b",
   "metadata": {},
   "outputs": [
    {
     "data": {
      "text/html": [
       "<style>#sk-container-id-2 {color: black;}#sk-container-id-2 pre{padding: 0;}#sk-container-id-2 div.sk-toggleable {background-color: white;}#sk-container-id-2 label.sk-toggleable__label {cursor: pointer;display: block;width: 100%;margin-bottom: 0;padding: 0.3em;box-sizing: border-box;text-align: center;}#sk-container-id-2 label.sk-toggleable__label-arrow:before {content: \"▸\";float: left;margin-right: 0.25em;color: #696969;}#sk-container-id-2 label.sk-toggleable__label-arrow:hover:before {color: black;}#sk-container-id-2 div.sk-estimator:hover label.sk-toggleable__label-arrow:before {color: black;}#sk-container-id-2 div.sk-toggleable__content {max-height: 0;max-width: 0;overflow: hidden;text-align: left;background-color: #f0f8ff;}#sk-container-id-2 div.sk-toggleable__content pre {margin: 0.2em;color: black;border-radius: 0.25em;background-color: #f0f8ff;}#sk-container-id-2 input.sk-toggleable__control:checked~div.sk-toggleable__content {max-height: 200px;max-width: 100%;overflow: auto;}#sk-container-id-2 input.sk-toggleable__control:checked~label.sk-toggleable__label-arrow:before {content: \"▾\";}#sk-container-id-2 div.sk-estimator input.sk-toggleable__control:checked~label.sk-toggleable__label {background-color: #d4ebff;}#sk-container-id-2 div.sk-label input.sk-toggleable__control:checked~label.sk-toggleable__label {background-color: #d4ebff;}#sk-container-id-2 input.sk-hidden--visually {border: 0;clip: rect(1px 1px 1px 1px);clip: rect(1px, 1px, 1px, 1px);height: 1px;margin: -1px;overflow: hidden;padding: 0;position: absolute;width: 1px;}#sk-container-id-2 div.sk-estimator {font-family: monospace;background-color: #f0f8ff;border: 1px dotted black;border-radius: 0.25em;box-sizing: border-box;margin-bottom: 0.5em;}#sk-container-id-2 div.sk-estimator:hover {background-color: #d4ebff;}#sk-container-id-2 div.sk-parallel-item::after {content: \"\";width: 100%;border-bottom: 1px solid gray;flex-grow: 1;}#sk-container-id-2 div.sk-label:hover label.sk-toggleable__label {background-color: #d4ebff;}#sk-container-id-2 div.sk-serial::before {content: \"\";position: absolute;border-left: 1px solid gray;box-sizing: border-box;top: 0;bottom: 0;left: 50%;z-index: 0;}#sk-container-id-2 div.sk-serial {display: flex;flex-direction: column;align-items: center;background-color: white;padding-right: 0.2em;padding-left: 0.2em;position: relative;}#sk-container-id-2 div.sk-item {position: relative;z-index: 1;}#sk-container-id-2 div.sk-parallel {display: flex;align-items: stretch;justify-content: center;background-color: white;position: relative;}#sk-container-id-2 div.sk-item::before, #sk-container-id-2 div.sk-parallel-item::before {content: \"\";position: absolute;border-left: 1px solid gray;box-sizing: border-box;top: 0;bottom: 0;left: 50%;z-index: -1;}#sk-container-id-2 div.sk-parallel-item {display: flex;flex-direction: column;z-index: 1;position: relative;background-color: white;}#sk-container-id-2 div.sk-parallel-item:first-child::after {align-self: flex-end;width: 50%;}#sk-container-id-2 div.sk-parallel-item:last-child::after {align-self: flex-start;width: 50%;}#sk-container-id-2 div.sk-parallel-item:only-child::after {width: 0;}#sk-container-id-2 div.sk-dashed-wrapped {border: 1px dashed gray;margin: 0 0.4em 0.5em 0.4em;box-sizing: border-box;padding-bottom: 0.4em;background-color: white;}#sk-container-id-2 div.sk-label label {font-family: monospace;font-weight: bold;display: inline-block;line-height: 1.2em;}#sk-container-id-2 div.sk-label-container {text-align: center;}#sk-container-id-2 div.sk-container {/* jupyter's `normalize.less` sets `[hidden] { display: none; }` but bootstrap.min.css set `[hidden] { display: none !important; }` so we also need the `!important` here to be able to override the default hidden behavior on the sphinx rendered scikit-learn.org. See: https://github.com/scikit-learn/scikit-learn/issues/21755 */display: inline-block !important;position: relative;}#sk-container-id-2 div.sk-text-repr-fallback {display: none;}</style><div id=\"sk-container-id-2\" class=\"sk-top-container\"><div class=\"sk-text-repr-fallback\"><pre>ColumnTransformer(n_jobs=-1,\n",
       "                  transformers=[(&#x27;num&#x27;,\n",
       "                                 ColumnTransformer(transformers=[(&#x27;spl&#x27;,\n",
       "                                                                  SplineTransformer(degree=4,\n",
       "                                                                                    n_knots=3),\n",
       "                                                                  [&#x27;monthly_charges&#x27;,\n",
       "                                                                   &#x27;total_charges&#x27;]),\n",
       "                                                                 (&#x27;q&#x27;,\n",
       "                                                                  QuantileTransformer(n_quantiles=100),\n",
       "                                                                  [&#x27;monthly_charges&#x27;,\n",
       "                                                                   &#x27;total_charges&#x27;]),\n",
       "                                                                 (&#x27;rb&#x27;,\n",
       "                                                                  RobustScaler(),\n",
       "                                                                  [&#x27;monthly_charges&#x27;,\n",
       "                                                                   &#x27;total_charges&#x27;]),\n",
       "                                                                 (&#x27;pol&#x27;,\n",
       "                                                                  PolynomialFeatures(degree=3),\n",
       "                                                                  [&#x27;monthly_char...\n",
       "                                                                   &#x27;total_charges&#x27;]),\n",
       "                                                                 (&#x27;kbd&#x27;,\n",
       "                                                                  KBinsDiscretizer(encode=&#x27;ordinal&#x27;,\n",
       "                                                                                   strategy=&#x27;uniform&#x27;,\n",
       "                                                                                   subsample=None),\n",
       "                                                                  [&#x27;monthly_charges&#x27;,\n",
       "                                                                   &#x27;total_charges&#x27;])]),\n",
       "                                 [&#x27;monthly_charges&#x27;, &#x27;total_charges&#x27;]),\n",
       "                                (&#x27;cat&#x27;,\n",
       "                                 Pipeline(steps=[(&#x27;encoder&#x27;,\n",
       "                                                  OneHotEncoder(drop=&#x27;first&#x27;,\n",
       "                                                                handle_unknown=&#x27;ignore&#x27;,\n",
       "                                                                max_categories=10,\n",
       "                                                                sparse_output=False))]),\n",
       "                                 [&#x27;type&#x27;, &#x27;payment_method&#x27;, &#x27;internet_service&#x27;,\n",
       "                                  &#x27;gender&#x27;])])</pre><b>In a Jupyter environment, please rerun this cell to show the HTML representation or trust the notebook. <br />On GitHub, the HTML representation is unable to render, please try loading this page with nbviewer.org.</b></div><div class=\"sk-container\" hidden><div class=\"sk-item sk-dashed-wrapped\"><div class=\"sk-label-container\"><div class=\"sk-label sk-toggleable\"><input class=\"sk-toggleable__control sk-hidden--visually\" id=\"sk-estimator-id-15\" type=\"checkbox\" ><label for=\"sk-estimator-id-15\" class=\"sk-toggleable__label sk-toggleable__label-arrow\">ColumnTransformer</label><div class=\"sk-toggleable__content\"><pre>ColumnTransformer(n_jobs=-1,\n",
       "                  transformers=[(&#x27;num&#x27;,\n",
       "                                 ColumnTransformer(transformers=[(&#x27;spl&#x27;,\n",
       "                                                                  SplineTransformer(degree=4,\n",
       "                                                                                    n_knots=3),\n",
       "                                                                  [&#x27;monthly_charges&#x27;,\n",
       "                                                                   &#x27;total_charges&#x27;]),\n",
       "                                                                 (&#x27;q&#x27;,\n",
       "                                                                  QuantileTransformer(n_quantiles=100),\n",
       "                                                                  [&#x27;monthly_charges&#x27;,\n",
       "                                                                   &#x27;total_charges&#x27;]),\n",
       "                                                                 (&#x27;rb&#x27;,\n",
       "                                                                  RobustScaler(),\n",
       "                                                                  [&#x27;monthly_charges&#x27;,\n",
       "                                                                   &#x27;total_charges&#x27;]),\n",
       "                                                                 (&#x27;pol&#x27;,\n",
       "                                                                  PolynomialFeatures(degree=3),\n",
       "                                                                  [&#x27;monthly_char...\n",
       "                                                                   &#x27;total_charges&#x27;]),\n",
       "                                                                 (&#x27;kbd&#x27;,\n",
       "                                                                  KBinsDiscretizer(encode=&#x27;ordinal&#x27;,\n",
       "                                                                                   strategy=&#x27;uniform&#x27;,\n",
       "                                                                                   subsample=None),\n",
       "                                                                  [&#x27;monthly_charges&#x27;,\n",
       "                                                                   &#x27;total_charges&#x27;])]),\n",
       "                                 [&#x27;monthly_charges&#x27;, &#x27;total_charges&#x27;]),\n",
       "                                (&#x27;cat&#x27;,\n",
       "                                 Pipeline(steps=[(&#x27;encoder&#x27;,\n",
       "                                                  OneHotEncoder(drop=&#x27;first&#x27;,\n",
       "                                                                handle_unknown=&#x27;ignore&#x27;,\n",
       "                                                                max_categories=10,\n",
       "                                                                sparse_output=False))]),\n",
       "                                 [&#x27;type&#x27;, &#x27;payment_method&#x27;, &#x27;internet_service&#x27;,\n",
       "                                  &#x27;gender&#x27;])])</pre></div></div></div><div class=\"sk-parallel\"><div class=\"sk-parallel-item\"><div class=\"sk-item\"><div class=\"sk-label-container\"><div class=\"sk-label sk-toggleable\"><input class=\"sk-toggleable__control sk-hidden--visually\" id=\"sk-estimator-id-16\" type=\"checkbox\" ><label for=\"sk-estimator-id-16\" class=\"sk-toggleable__label sk-toggleable__label-arrow\">num</label><div class=\"sk-toggleable__content\"><pre>[&#x27;monthly_charges&#x27;, &#x27;total_charges&#x27;]</pre></div></div></div><div class=\"sk-serial\"><div class=\"sk-item sk-dashed-wrapped\"><div class=\"sk-parallel\"><div class=\"sk-parallel-item\"><div class=\"sk-item\"><div class=\"sk-label-container\"><div class=\"sk-label sk-toggleable\"><input class=\"sk-toggleable__control sk-hidden--visually\" id=\"sk-estimator-id-17\" type=\"checkbox\" ><label for=\"sk-estimator-id-17\" class=\"sk-toggleable__label sk-toggleable__label-arrow\">spl</label><div class=\"sk-toggleable__content\"><pre>[&#x27;monthly_charges&#x27;, &#x27;total_charges&#x27;]</pre></div></div></div><div class=\"sk-serial\"><div class=\"sk-item\"><div class=\"sk-estimator sk-toggleable\"><input class=\"sk-toggleable__control sk-hidden--visually\" id=\"sk-estimator-id-18\" type=\"checkbox\" ><label for=\"sk-estimator-id-18\" class=\"sk-toggleable__label sk-toggleable__label-arrow\">SplineTransformer</label><div class=\"sk-toggleable__content\"><pre>SplineTransformer(degree=4, n_knots=3)</pre></div></div></div></div></div></div><div class=\"sk-parallel-item\"><div class=\"sk-item\"><div class=\"sk-label-container\"><div class=\"sk-label sk-toggleable\"><input class=\"sk-toggleable__control sk-hidden--visually\" id=\"sk-estimator-id-19\" type=\"checkbox\" ><label for=\"sk-estimator-id-19\" class=\"sk-toggleable__label sk-toggleable__label-arrow\">q</label><div class=\"sk-toggleable__content\"><pre>[&#x27;monthly_charges&#x27;, &#x27;total_charges&#x27;]</pre></div></div></div><div class=\"sk-serial\"><div class=\"sk-item\"><div class=\"sk-estimator sk-toggleable\"><input class=\"sk-toggleable__control sk-hidden--visually\" id=\"sk-estimator-id-20\" type=\"checkbox\" ><label for=\"sk-estimator-id-20\" class=\"sk-toggleable__label sk-toggleable__label-arrow\">QuantileTransformer</label><div class=\"sk-toggleable__content\"><pre>QuantileTransformer(n_quantiles=100)</pre></div></div></div></div></div></div><div class=\"sk-parallel-item\"><div class=\"sk-item\"><div class=\"sk-label-container\"><div class=\"sk-label sk-toggleable\"><input class=\"sk-toggleable__control sk-hidden--visually\" id=\"sk-estimator-id-21\" type=\"checkbox\" ><label for=\"sk-estimator-id-21\" class=\"sk-toggleable__label sk-toggleable__label-arrow\">rb</label><div class=\"sk-toggleable__content\"><pre>[&#x27;monthly_charges&#x27;, &#x27;total_charges&#x27;]</pre></div></div></div><div class=\"sk-serial\"><div class=\"sk-item\"><div class=\"sk-estimator sk-toggleable\"><input class=\"sk-toggleable__control sk-hidden--visually\" id=\"sk-estimator-id-22\" type=\"checkbox\" ><label for=\"sk-estimator-id-22\" class=\"sk-toggleable__label sk-toggleable__label-arrow\">RobustScaler</label><div class=\"sk-toggleable__content\"><pre>RobustScaler()</pre></div></div></div></div></div></div><div class=\"sk-parallel-item\"><div class=\"sk-item\"><div class=\"sk-label-container\"><div class=\"sk-label sk-toggleable\"><input class=\"sk-toggleable__control sk-hidden--visually\" id=\"sk-estimator-id-23\" type=\"checkbox\" ><label for=\"sk-estimator-id-23\" class=\"sk-toggleable__label sk-toggleable__label-arrow\">pol</label><div class=\"sk-toggleable__content\"><pre>[&#x27;monthly_charges&#x27;, &#x27;total_charges&#x27;]</pre></div></div></div><div class=\"sk-serial\"><div class=\"sk-item\"><div class=\"sk-estimator sk-toggleable\"><input class=\"sk-toggleable__control sk-hidden--visually\" id=\"sk-estimator-id-24\" type=\"checkbox\" ><label for=\"sk-estimator-id-24\" class=\"sk-toggleable__label sk-toggleable__label-arrow\">PolynomialFeatures</label><div class=\"sk-toggleable__content\"><pre>PolynomialFeatures(degree=3)</pre></div></div></div></div></div></div><div class=\"sk-parallel-item\"><div class=\"sk-item\"><div class=\"sk-label-container\"><div class=\"sk-label sk-toggleable\"><input class=\"sk-toggleable__control sk-hidden--visually\" id=\"sk-estimator-id-25\" type=\"checkbox\" ><label for=\"sk-estimator-id-25\" class=\"sk-toggleable__label sk-toggleable__label-arrow\">kbd</label><div class=\"sk-toggleable__content\"><pre>[&#x27;monthly_charges&#x27;, &#x27;total_charges&#x27;]</pre></div></div></div><div class=\"sk-serial\"><div class=\"sk-item\"><div class=\"sk-estimator sk-toggleable\"><input class=\"sk-toggleable__control sk-hidden--visually\" id=\"sk-estimator-id-26\" type=\"checkbox\" ><label for=\"sk-estimator-id-26\" class=\"sk-toggleable__label sk-toggleable__label-arrow\">KBinsDiscretizer</label><div class=\"sk-toggleable__content\"><pre>KBinsDiscretizer(encode=&#x27;ordinal&#x27;, strategy=&#x27;uniform&#x27;, subsample=None)</pre></div></div></div></div></div></div></div></div></div></div></div><div class=\"sk-parallel-item\"><div class=\"sk-item\"><div class=\"sk-label-container\"><div class=\"sk-label sk-toggleable\"><input class=\"sk-toggleable__control sk-hidden--visually\" id=\"sk-estimator-id-27\" type=\"checkbox\" ><label for=\"sk-estimator-id-27\" class=\"sk-toggleable__label sk-toggleable__label-arrow\">cat</label><div class=\"sk-toggleable__content\"><pre>[&#x27;type&#x27;, &#x27;payment_method&#x27;, &#x27;internet_service&#x27;, &#x27;gender&#x27;]</pre></div></div></div><div class=\"sk-serial\"><div class=\"sk-item\"><div class=\"sk-serial\"><div class=\"sk-item\"><div class=\"sk-estimator sk-toggleable\"><input class=\"sk-toggleable__control sk-hidden--visually\" id=\"sk-estimator-id-28\" type=\"checkbox\" ><label for=\"sk-estimator-id-28\" class=\"sk-toggleable__label sk-toggleable__label-arrow\">OneHotEncoder</label><div class=\"sk-toggleable__content\"><pre>OneHotEncoder(drop=&#x27;first&#x27;, handle_unknown=&#x27;ignore&#x27;, max_categories=10,\n",
       "              sparse_output=False)</pre></div></div></div></div></div></div></div></div></div></div></div></div>"
      ],
      "text/plain": [
       "ColumnTransformer(n_jobs=-1,\n",
       "                  transformers=[('num',\n",
       "                                 ColumnTransformer(transformers=[('spl',\n",
       "                                                                  SplineTransformer(degree=4,\n",
       "                                                                                    n_knots=3),\n",
       "                                                                  ['monthly_charges',\n",
       "                                                                   'total_charges']),\n",
       "                                                                 ('q',\n",
       "                                                                  QuantileTransformer(n_quantiles=100),\n",
       "                                                                  ['monthly_charges',\n",
       "                                                                   'total_charges']),\n",
       "                                                                 ('rb',\n",
       "                                                                  RobustScaler(),\n",
       "                                                                  ['monthly_charges',\n",
       "                                                                   'total_charges']),\n",
       "                                                                 ('pol',\n",
       "                                                                  PolynomialFeatures(degree=3),\n",
       "                                                                  ['monthly_char...\n",
       "                                                                   'total_charges']),\n",
       "                                                                 ('kbd',\n",
       "                                                                  KBinsDiscretizer(encode='ordinal',\n",
       "                                                                                   strategy='uniform',\n",
       "                                                                                   subsample=None),\n",
       "                                                                  ['monthly_charges',\n",
       "                                                                   'total_charges'])]),\n",
       "                                 ['monthly_charges', 'total_charges']),\n",
       "                                ('cat',\n",
       "                                 Pipeline(steps=[('encoder',\n",
       "                                                  OneHotEncoder(drop='first',\n",
       "                                                                handle_unknown='ignore',\n",
       "                                                                max_categories=10,\n",
       "                                                                sparse_output=False))]),\n",
       "                                 ['type', 'payment_method', 'internet_service',\n",
       "                                  'gender'])])"
      ]
     },
     "execution_count": 80,
     "metadata": {},
     "output_type": "execute_result"
    }
   ],
   "source": [
    "preprocessor"
   ]
  },
  {
   "cell_type": "markdown",
   "id": "c790b1c4-5f16-4f32-b75e-8d81bb236ec1",
   "metadata": {},
   "source": [
    "##### 4.1 Проверим, что все работает"
   ]
  },
  {
   "cell_type": "code",
   "execution_count": 81,
   "id": "4fea72ea-8a6a-4dac-8208-8116d3ba12f0",
   "metadata": {},
   "outputs": [],
   "source": [
    "encoded_features = preprocessor.fit_transform(df)\n",
    "\n",
    "transformed_df = pd.DataFrame(\n",
    "    encoded_features, \n",
    "    columns=preprocessor.get_feature_names_out()\n",
    ")"
   ]
  },
  {
   "cell_type": "code",
   "execution_count": 82,
   "id": "c783f564-7aee-4be3-a079-e482ab1a4a51",
   "metadata": {},
   "outputs": [
    {
     "data": {
      "text/html": [
       "<div>\n",
       "<style scoped>\n",
       "    .dataframe tbody tr th:only-of-type {\n",
       "        vertical-align: middle;\n",
       "    }\n",
       "\n",
       "    .dataframe tbody tr th {\n",
       "        vertical-align: top;\n",
       "    }\n",
       "\n",
       "    .dataframe thead th {\n",
       "        text-align: right;\n",
       "    }\n",
       "</style>\n",
       "<table border=\"1\" class=\"dataframe\">\n",
       "  <thead>\n",
       "    <tr style=\"text-align: right;\">\n",
       "      <th></th>\n",
       "      <th>num__spl__monthly_charges_sp_0</th>\n",
       "      <th>num__spl__monthly_charges_sp_1</th>\n",
       "      <th>num__spl__monthly_charges_sp_2</th>\n",
       "      <th>num__spl__monthly_charges_sp_3</th>\n",
       "      <th>num__spl__monthly_charges_sp_4</th>\n",
       "      <th>num__spl__monthly_charges_sp_5</th>\n",
       "      <th>num__spl__total_charges_sp_0</th>\n",
       "      <th>num__spl__total_charges_sp_1</th>\n",
       "      <th>num__spl__total_charges_sp_2</th>\n",
       "      <th>num__spl__total_charges_sp_3</th>\n",
       "      <th>...</th>\n",
       "      <th>num__kbd__monthly_charges</th>\n",
       "      <th>num__kbd__total_charges</th>\n",
       "      <th>cat__type_One year</th>\n",
       "      <th>cat__type_Two year</th>\n",
       "      <th>cat__payment_method_Credit card (automatic)</th>\n",
       "      <th>cat__payment_method_Electronic check</th>\n",
       "      <th>cat__payment_method_Mailed check</th>\n",
       "      <th>cat__internet_service_Fiber optic</th>\n",
       "      <th>cat__internet_service_No data</th>\n",
       "      <th>cat__gender_Male</th>\n",
       "    </tr>\n",
       "  </thead>\n",
       "  <tbody>\n",
       "    <tr>\n",
       "      <th>0</th>\n",
       "      <td>0.014583</td>\n",
       "      <td>0.335266</td>\n",
       "      <td>0.554993</td>\n",
       "      <td>0.095040</td>\n",
       "      <td>0.000118</td>\n",
       "      <td>0.0</td>\n",
       "      <td>0.040533</td>\n",
       "      <td>0.454885</td>\n",
       "      <td>0.461758</td>\n",
       "      <td>0.042824</td>\n",
       "      <td>...</td>\n",
       "      <td>0.0</td>\n",
       "      <td>0.0</td>\n",
       "      <td>0.0</td>\n",
       "      <td>0.0</td>\n",
       "      <td>0.0</td>\n",
       "      <td>1.0</td>\n",
       "      <td>0.0</td>\n",
       "      <td>0.0</td>\n",
       "      <td>0.0</td>\n",
       "      <td>0.0</td>\n",
       "    </tr>\n",
       "    <tr>\n",
       "      <th>1</th>\n",
       "      <td>0.000116</td>\n",
       "      <td>0.094742</td>\n",
       "      <td>0.554677</td>\n",
       "      <td>0.335807</td>\n",
       "      <td>0.014658</td>\n",
       "      <td>0.0</td>\n",
       "      <td>0.004242</td>\n",
       "      <td>0.228653</td>\n",
       "      <td>0.596333</td>\n",
       "      <td>0.169278</td>\n",
       "      <td>...</td>\n",
       "      <td>1.0</td>\n",
       "      <td>1.0</td>\n",
       "      <td>1.0</td>\n",
       "      <td>0.0</td>\n",
       "      <td>0.0</td>\n",
       "      <td>0.0</td>\n",
       "      <td>1.0</td>\n",
       "      <td>0.0</td>\n",
       "      <td>0.0</td>\n",
       "      <td>1.0</td>\n",
       "    </tr>\n",
       "  </tbody>\n",
       "</table>\n",
       "<p>2 rows × 36 columns</p>\n",
       "</div>"
      ],
      "text/plain": [
       "   num__spl__monthly_charges_sp_0  num__spl__monthly_charges_sp_1  \\\n",
       "0                        0.014583                        0.335266   \n",
       "1                        0.000116                        0.094742   \n",
       "\n",
       "   num__spl__monthly_charges_sp_2  num__spl__monthly_charges_sp_3  \\\n",
       "0                        0.554993                        0.095040   \n",
       "1                        0.554677                        0.335807   \n",
       "\n",
       "   num__spl__monthly_charges_sp_4  num__spl__monthly_charges_sp_5  \\\n",
       "0                        0.000118                             0.0   \n",
       "1                        0.014658                             0.0   \n",
       "\n",
       "   num__spl__total_charges_sp_0  num__spl__total_charges_sp_1  \\\n",
       "0                      0.040533                      0.454885   \n",
       "1                      0.004242                      0.228653   \n",
       "\n",
       "   num__spl__total_charges_sp_2  num__spl__total_charges_sp_3  ...  \\\n",
       "0                      0.461758                      0.042824  ...   \n",
       "1                      0.596333                      0.169278  ...   \n",
       "\n",
       "   num__kbd__monthly_charges  num__kbd__total_charges  cat__type_One year  \\\n",
       "0                        0.0                      0.0                 0.0   \n",
       "1                        1.0                      1.0                 1.0   \n",
       "\n",
       "   cat__type_Two year  cat__payment_method_Credit card (automatic)  \\\n",
       "0                 0.0                                          0.0   \n",
       "1                 0.0                                          0.0   \n",
       "\n",
       "   cat__payment_method_Electronic check  cat__payment_method_Mailed check  \\\n",
       "0                                   1.0                               0.0   \n",
       "1                                   0.0                               1.0   \n",
       "\n",
       "   cat__internet_service_Fiber optic  cat__internet_service_No data  \\\n",
       "0                                0.0                            0.0   \n",
       "1                                0.0                            0.0   \n",
       "\n",
       "   cat__gender_Male  \n",
       "0               0.0  \n",
       "1               1.0  \n",
       "\n",
       "[2 rows x 36 columns]"
      ]
     },
     "execution_count": 82,
     "metadata": {},
     "output_type": "execute_result"
    }
   ],
   "source": [
    "transformed_df.head(2)"
   ]
  },
  {
   "cell_type": "markdown",
   "id": "b1b58ddd-45ed-4132-859a-2380f7177623",
   "metadata": {},
   "source": [
    "##### 4.2 Сохраним `ColumnTransformer` в `MLFlow`"
   ]
  },
  {
   "cell_type": "code",
   "execution_count": 83,
   "id": "fcabe69f-fd8e-43da-b0e3-0e389349c5f4",
   "metadata": {},
   "outputs": [],
   "source": [
    "os.environ[\"MLFLOW_S3_ENDPOINT_URL\"] = \"...\"\n",
    "os.environ[\"AWS_ACCESS_KEY_ID\"] = \"...\"\n",
    "os.environ[\"AWS_SECRET_ACCESS_KEY\"] = \"...\""
   ]
  },
  {
   "cell_type": "code",
   "execution_count": 84,
   "id": "b23f8ea8-12d0-4f5c-a663-2692f55fbdc2",
   "metadata": {},
   "outputs": [],
   "source": [
    "mlflow.set_tracking_uri(f\"http://{TRACKING_SERVER_HOST}:{TRACKING_SERVER_PORT}\")\n",
    "mlflow.set_registry_uri(f\"http://{TRACKING_SERVER_HOST}:{TRACKING_SERVER_PORT}\")"
   ]
  },
  {
   "cell_type": "code",
   "execution_count": 85,
   "id": "94745092-75bc-46f3-b3c0-0c3648eb6f20",
   "metadata": {},
   "outputs": [],
   "source": [
    "# experiment_id = mlflow.get_experiment_by_name(EXPERIMENT_NAME).experiment_id\n",
    "\n",
    "# with mlflow.start_run(run_name=RUN_NAME, experiment_id=experiment_id) as run:\n",
    "#     run_id = run.info.run_id\n",
    "\n",
    "#     mlflow.sklearn.log_model(preprocessor, \"column_transformer\")"
   ]
  },
  {
   "cell_type": "markdown",
   "id": "e7280f01-968c-4760-93bb-2a5422056caa",
   "metadata": {},
   "source": [
    "##### 4.3 Проверим, что загруженный `ColumnTransformer` работает точно также, как и оригинальный"
   ]
  },
  {
   "cell_type": "code",
   "execution_count": 31,
   "id": "d093a686-2bd9-4d1b-abb4-ad4808da959f",
   "metadata": {},
   "outputs": [],
   "source": [
    "model_uri = f\"runs:/{run_id}/column_transformer\"\n",
    "\n",
    "loaded_transformer = mlflow.sklearn.load_model(model_uri)"
   ]
  },
  {
   "cell_type": "code",
   "execution_count": 32,
   "id": "a07931d4-3b02-46f9-9126-72286fb1c82b",
   "metadata": {},
   "outputs": [],
   "source": [
    "loaded_transformer"
   ]
  },
  {
   "cell_type": "code",
   "execution_count": 33,
   "id": "a13b3866-239d-44d1-a66a-4da8da27fffc",
   "metadata": {},
   "outputs": [],
   "source": [
    "encoded_features = loaded_transformer.fit_transform(df)\n",
    "\n",
    "transformed_df_loaded_from_mlflow = pd.DataFrame(\n",
    "    encoded_features, \n",
    "    columns=preprocessor.get_feature_names_out()\n",
    ")"
   ]
  },
  {
   "cell_type": "code",
   "execution_count": 34,
   "id": "e3e92b20-0be2-4c44-995e-20f8263f0c34",
   "metadata": {},
   "outputs": [],
   "source": [
    "assert transformed_df_loaded_from_mlflow.equals(transformed_df)"
   ]
  },
  {
   "cell_type": "markdown",
   "id": "1a398e41-723b-4593-94c3-cef272b3c49b",
   "metadata": {},
   "source": [
    "##### 5. Объединим признаки модель с изначальным набором данным и обучим модель с новыми признаками"
   ]
  },
  {
   "cell_type": "code",
   "execution_count": 86,
   "id": "32909e6f-dbb7-45f0-87a8-61cc651746a7",
   "metadata": {},
   "outputs": [],
   "source": [
    "df = pd.concat([df, transformed_df], axis=1)"
   ]
  },
  {
   "cell_type": "code",
   "execution_count": 87,
   "id": "314e882b-7d35-482f-a1cc-e9cd8fe666b2",
   "metadata": {},
   "outputs": [],
   "source": [
    "df[\"current_date\"] = datetime.datetime.now()\n",
    "df[\"days_diff\"] = df.apply(lambda row: (row[\"current_date\"] - row[\"begin_date\"]).days, axis=1)\n",
    "df[\"diff_years\"] = df.apply(lambda row: relativedelta(row[\"current_date\"], row[\"begin_date\"]).years, axis=1)\n",
    "df[\"diff_months\"] = df.apply(lambda row: relativedelta(row[\"current_date\"], row[\"begin_date\"]).months, axis=1)"
   ]
  },
  {
   "cell_type": "code",
   "execution_count": 95,
   "id": "9905c7a1-9fbc-4cd9-8e68-7140aa679e0b",
   "metadata": {},
   "outputs": [],
   "source": [
    "features = (\n",
    "    list(transformed_df.columns) + \\\n",
    "    [\n",
    "        \"days_diff\", \"diff_years\", \"diff_months\"\n",
    "    ] + \\\n",
    "    [\n",
    "        'monthly_charges', 'total_charges', 'online_security', 'online_backup',\n",
    "        'device_protection', 'tech_support', 'streaming_tv', 'streaming_movies',\n",
    "        'senior_citizen', 'partner', 'dependents', 'multiple_lines'\n",
    "    ]\n",
    ")\n",
    "\n",
    "target = \"target\"\n",
    "\n",
    "loss_function = \"Logloss\"\n",
    "task_type = 'CPU'\n",
    "random_seed = 0\n",
    "iterations = 400\n",
    "verbose = False\n",
    "max_depth=3\n",
    "\n",
    "model = CatBoostClassifier(\n",
    "    iterations=iterations, \n",
    "    loss_function=loss_function, \n",
    "    random_seed=random_seed, \n",
    "    task_type=task_type,\n",
    "    verbose=verbose,\n",
    "    max_depth=max_depth\n",
    ")\n",
    "\n",
    "test_size = 0.2\n",
    "X_train, X_test, y_train, y_test = train_test_split(\n",
    "    df[features],\n",
    "    df[target],\n",
    "    test_size=test_size,\n",
    "    shuffle=False,\n",
    ")"
   ]
  },
  {
   "cell_type": "code",
   "execution_count": 96,
   "id": "9c0a996b-0391-44c0-bae6-36d1ea740853",
   "metadata": {},
   "outputs": [
    {
     "data": {
      "text/html": [
       "<div>\n",
       "<style scoped>\n",
       "    .dataframe tbody tr th:only-of-type {\n",
       "        vertical-align: middle;\n",
       "    }\n",
       "\n",
       "    .dataframe tbody tr th {\n",
       "        vertical-align: top;\n",
       "    }\n",
       "\n",
       "    .dataframe thead th {\n",
       "        text-align: right;\n",
       "    }\n",
       "</style>\n",
       "<table border=\"1\" class=\"dataframe\">\n",
       "  <thead>\n",
       "    <tr style=\"text-align: right;\">\n",
       "      <th></th>\n",
       "      <th>id</th>\n",
       "      <th>customer_id</th>\n",
       "      <th>begin_date</th>\n",
       "      <th>end_date</th>\n",
       "      <th>type</th>\n",
       "      <th>paperless_billing</th>\n",
       "      <th>payment_method</th>\n",
       "      <th>monthly_charges</th>\n",
       "      <th>total_charges</th>\n",
       "      <th>internet_service</th>\n",
       "      <th>...</th>\n",
       "      <th>cat__payment_method_Credit card (automatic)</th>\n",
       "      <th>cat__payment_method_Electronic check</th>\n",
       "      <th>cat__payment_method_Mailed check</th>\n",
       "      <th>cat__internet_service_Fiber optic</th>\n",
       "      <th>cat__internet_service_No data</th>\n",
       "      <th>cat__gender_Male</th>\n",
       "      <th>current_date</th>\n",
       "      <th>days_diff</th>\n",
       "      <th>diff_years</th>\n",
       "      <th>diff_months</th>\n",
       "    </tr>\n",
       "  </thead>\n",
       "  <tbody>\n",
       "    <tr>\n",
       "      <th>0</th>\n",
       "      <td>1</td>\n",
       "      <td>7590-VHVEG</td>\n",
       "      <td>2020-01-01</td>\n",
       "      <td>NaT</td>\n",
       "      <td>Month-to-month</td>\n",
       "      <td>1</td>\n",
       "      <td>Electronic check</td>\n",
       "      <td>29.85</td>\n",
       "      <td>29.85</td>\n",
       "      <td>DSL</td>\n",
       "      <td>...</td>\n",
       "      <td>0.0</td>\n",
       "      <td>1.0</td>\n",
       "      <td>0.0</td>\n",
       "      <td>0.0</td>\n",
       "      <td>0.0</td>\n",
       "      <td>0.0</td>\n",
       "      <td>2023-10-31 13:55:36.785985</td>\n",
       "      <td>1399</td>\n",
       "      <td>3</td>\n",
       "      <td>9</td>\n",
       "    </tr>\n",
       "    <tr>\n",
       "      <th>1</th>\n",
       "      <td>2</td>\n",
       "      <td>5575-GNVDE</td>\n",
       "      <td>2017-04-01</td>\n",
       "      <td>NaT</td>\n",
       "      <td>One year</td>\n",
       "      <td>0</td>\n",
       "      <td>Mailed check</td>\n",
       "      <td>56.95</td>\n",
       "      <td>1889.50</td>\n",
       "      <td>DSL</td>\n",
       "      <td>...</td>\n",
       "      <td>0.0</td>\n",
       "      <td>0.0</td>\n",
       "      <td>1.0</td>\n",
       "      <td>0.0</td>\n",
       "      <td>0.0</td>\n",
       "      <td>1.0</td>\n",
       "      <td>2023-10-31 13:55:36.785985</td>\n",
       "      <td>2404</td>\n",
       "      <td>6</td>\n",
       "      <td>6</td>\n",
       "    </tr>\n",
       "  </tbody>\n",
       "</table>\n",
       "<p>2 rows × 62 columns</p>\n",
       "</div>"
      ],
      "text/plain": [
       "   id customer_id begin_date end_date            type  paperless_billing  \\\n",
       "0   1  7590-VHVEG 2020-01-01      NaT  Month-to-month                  1   \n",
       "1   2  5575-GNVDE 2017-04-01      NaT        One year                  0   \n",
       "\n",
       "     payment_method  monthly_charges  total_charges internet_service  ...  \\\n",
       "0  Electronic check            29.85          29.85              DSL  ...   \n",
       "1      Mailed check            56.95        1889.50              DSL  ...   \n",
       "\n",
       "   cat__payment_method_Credit card (automatic)  \\\n",
       "0                                          0.0   \n",
       "1                                          0.0   \n",
       "\n",
       "   cat__payment_method_Electronic check  cat__payment_method_Mailed check  \\\n",
       "0                                   1.0                               0.0   \n",
       "1                                   0.0                               1.0   \n",
       "\n",
       "   cat__internet_service_Fiber optic  cat__internet_service_No data  \\\n",
       "0                                0.0                            0.0   \n",
       "1                                0.0                            0.0   \n",
       "\n",
       "   cat__gender_Male               current_date  days_diff  diff_years  \\\n",
       "0               0.0 2023-10-31 13:55:36.785985       1399           3   \n",
       "1               1.0 2023-10-31 13:55:36.785985       2404           6   \n",
       "\n",
       "   diff_months  \n",
       "0            9  \n",
       "1            6  \n",
       "\n",
       "[2 rows x 62 columns]"
      ]
     },
     "execution_count": 96,
     "metadata": {},
     "output_type": "execute_result"
    }
   ],
   "source": [
    "df.head(2)"
   ]
  },
  {
   "cell_type": "code",
   "execution_count": 97,
   "id": "d5e4a438-d0a2-40d1-89f7-05ab977755d3",
   "metadata": {},
   "outputs": [
    {
     "name": "stdout",
     "output_type": "stream",
     "text": [
      "Размер выборки для обучения: (5634, 51)\n",
      "Размер выборки для теста: (1409, 51)\n"
     ]
    }
   ],
   "source": [
    "print(f\"Размер выборки для обучения: {X_train.shape}\")\n",
    "print(f\"Размер выборки для теста: {X_test.shape}\")"
   ]
  },
  {
   "cell_type": "code",
   "execution_count": 98,
   "id": "a4c39232-3a3d-4f67-9111-a4c00f2f06e6",
   "metadata": {},
   "outputs": [
    {
     "data": {
      "text/plain": [
       "<catboost.core.CatBoostClassifier at 0x2905cb510>"
      ]
     },
     "execution_count": 98,
     "metadata": {},
     "output_type": "execute_result"
    }
   ],
   "source": [
    "model.fit(X_train, y_train)"
   ]
  },
  {
   "cell_type": "code",
   "execution_count": 101,
   "id": "77cb4d3c-18d6-415e-b2e0-37952cdd5792",
   "metadata": {},
   "outputs": [],
   "source": [
    "prediction = model.predict(X_test)\n",
    "probas = model.predict_proba(X_test)[:, 1]"
   ]
  },
  {
   "cell_type": "code",
   "execution_count": 103,
   "id": "94d7adba-99ae-4656-be20-6b047cb0c073",
   "metadata": {},
   "outputs": [],
   "source": [
    "metrics = {}\n",
    "\n",
    "_, err1, _, err2 = confusion_matrix(y_test, prediction, normalize='all').ravel()\n",
    "auc = roc_auc_score(y_test, probas)\n",
    "precision = precision_score(y_test, prediction)\n",
    "recall = recall_score(y_test, prediction)\n",
    "f1 = f1_score(y_test, prediction)\n",
    "logloss = log_loss(y_test, prediction)\n",
    "\n",
    "metrics[\"err1\"] = err1\n",
    "metrics[\"err2\"] = err2\n",
    "metrics[\"auc\"] = auc\n",
    "metrics[\"precision\"] = precision\n",
    "metrics[\"recall\"] = recall\n",
    "metrics[\"f1\"] = f1\n",
    "metrics[\"logloss\"] = logloss"
   ]
  },
  {
   "cell_type": "code",
   "execution_count": 105,
   "id": "19bd4e46-bea9-45b9-9c3e-f0a1423a6436",
   "metadata": {
    "scrolled": true
   },
   "outputs": [
    {
     "name": "stderr",
     "output_type": "stream",
     "text": [
      "/Users/nikolaistepanov/.pyenv/versions/3.11.3/lib/python3.11/site-packages/mlflow/models/signature.py:212: UserWarning: Hint: Inferred schema contains integer column(s). Integer columns in Python cannot represent missing values. If your input data contains missing values at inference time, it will be encoded as floats and will cause a schema enforcement error. The best way to avoid this problem is to infer the model schema based on a realistic data sample (training dataset) that includes missing values. Alternatively, you can declare integer columns as doubles (float64) whenever these columns may have missing values. See `Handling Integers With Missing Values <https://www.mlflow.org/docs/latest/models.html#handling-integers-with-missing-values>`_ for more details.\n",
      "  inputs = _infer_schema(model_input) if model_input is not None else None\n",
      "2023/10/31 13:58:58 WARNING mlflow.sklearn: Model was missing function: predict. Not logging python_function flavor!\n",
      "/Users/nikolaistepanov/.pyenv/versions/3.11.3/lib/python3.11/site-packages/_distutils_hack/__init__.py:33: UserWarning: Setuptools is replacing distutils.\n",
      "  warnings.warn(\"Setuptools is replacing distutils.\")\n",
      "Registered model 'churn_model_nikolaistepanov_prepared' already exists. Creating a new version of this model...\n",
      "2023/10/31 13:59:04 INFO mlflow.tracking._model_registry.client: Waiting up to 60 seconds for model version to finish creation. Model name: churn_model_nikolaistepanov_prepared, version 9\n",
      "Created version '9' of model 'churn_model_nikolaistepanov_prepared'.\n"
     ]
    }
   ],
   "source": [
    "pip_requirements=\"../requirements.txt\"\n",
    "signature = mlflow.models.infer_signature(X_test, prediction)\n",
    "input_example = X_test[:10]\n",
    "\n",
    "experiment_id = mlflow.get_experiment_by_name(EXPERIMENT_NAME).experiment_id\n",
    "\n",
    "with mlflow.start_run(run_name=RUN_NAME, experiment_id=experiment_id) as run:\n",
    "    run_id = run.info.run_id\n",
    "    \n",
    "    mlflow.log_metrics(metrics)\n",
    "    cv_info = mlflow.sklearn.log_model(preprocessor, artifact_path=\"preprocessor\")\n",
    "    model_info = mlflow.catboost.log_model(\n",
    "        cb_model=model, \n",
    "        artifact_path=\"models\",\n",
    "        signature=signature,\n",
    "        input_example=input_example,\n",
    "        registered_model_name=REGISTRY_MODEL_NAME,\n",
    "        await_registration_for=60,\n",
    "        pip_requirements=pip_requirements,\n",
    "    )"
   ]
  },
  {
   "cell_type": "code",
   "execution_count": null,
   "id": "6cb108ec-b0fd-4c1b-9c9a-55518efe7daf",
   "metadata": {},
   "outputs": [],
   "source": []
  }
 ],
 "metadata": {
  "kernelspec": {
   "display_name": "Python 3 (ipykernel)",
   "language": "python",
   "name": "python3"
  },
  "language_info": {
   "codemirror_mode": {
    "name": "ipython",
    "version": 3
   },
   "file_extension": ".py",
   "mimetype": "text/x-python",
   "name": "python",
   "nbconvert_exporter": "python",
   "pygments_lexer": "ipython3",
   "version": "3.11.3"
  }
 },
 "nbformat": 4,
 "nbformat_minor": 5
}
