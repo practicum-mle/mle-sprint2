{
 "cells": [
  {
   "cell_type": "code",
   "execution_count": null,
   "id": "a84d4f54-40a4-4038-aaa9-8001e438dd86",
   "metadata": {},
   "outputs": [],
   "source": [
    "import os\n",
    "\n",
    "import psycopg\n",
    "import pandas as pd\n",
    "import mlflow\n",
    "from autofeat import AutoFeatClassifier\n",
    "from catboost import CatBoostClassifier\n",
    "from mlxtend.feature_selection import SequentialFeatureSelector as SFS\n",
    "from mlxtend.plotting import plot_sequential_feature_selection as plot_sfs\n",
    "from sklearn.ensemble import RandomForestClassifier\n",
    "from sklearn.model_selection import train_test_split\n",
    "from sklearn.metrics import (\n",
    "    roc_auc_score,\n",
    "    f1_score,\n",
    "    precision_score,\n",
    "    recall_score,\n",
    "    confusion_matrix,\n",
    "    log_loss,\n",
    ")\n",
    "import matplotlib.pyplot as plt"
   ]
  },
  {
   "cell_type": "code",
   "execution_count": null,
   "id": "8d3298b5-954f-46ec-a05e-0e4e29bbda40",
   "metadata": {},
   "outputs": [],
   "source": [
    "os.mkdir(\"ASSETS\")"
   ]
  },
  {
   "cell_type": "code",
   "execution_count": null,
   "id": "906d592e-f1a7-4fb2-8f71-914f56bbf520",
   "metadata": {},
   "outputs": [],
   "source": [
    "PREPROCESSED_PATH = \"/Users/nikolaistepanov/YandexPracticum/data/preprocessed_realty.xlsx\"\n",
    "\n",
    "features = [] # список признаков, которые отбирает студент\n",
    "target = '' # колонка с таргет студента"
   ]
  },
  {
   "cell_type": "code",
   "execution_count": null,
   "id": "a2672e78-2c23-4a13-95ee-359210f77883",
   "metadata": {},
   "outputs": [],
   "source": [
    "estimator = RandomForestClassifier(n_estimators=300)\n",
    "\n",
    "# количетсво признаков и метрику студент определяет самостоятельно\n",
    "# как пример forward feature selection\n",
    "sfs = SFS(estimator, \n",
    "          k_features=10, \n",
    "          forward=True, \n",
    "          floating=False, \n",
    "          scoring='mean_absolute_error',\n",
    "          cv=4,\n",
    "          n_jobs=-1)\n",
    "\n",
    "# как пример backward feature selection\n",
    "sbs = SFS(estimator, \n",
    "          k_features=10, \n",
    "          forward=False, \n",
    "          floating=False, \n",
    "          scoring='mean_absolute_error',\n",
    "          cv=4,\n",
    "          n_jobs=-1)"
   ]
  },
  {
   "cell_type": "code",
   "execution_count": null,
   "id": "3063191f-4769-436c-98af-2ae50b260b57",
   "metadata": {},
   "outputs": [],
   "source": [
    "df = pd.read_csv(PREPROCESSED_PATH)"
   ]
  },
  {
   "cell_type": "markdown",
   "id": "1e3c6bdf-8aa9-43bc-961a-7c9b485ef426",
   "metadata": {},
   "source": [
    "### Длаьше студент должен разбить их на train/val/test. Возможен и другой вариант. Но в любом случае будет хорошо, если он пояснит почему он решил разбить именно так"
   ]
  },
  {
   "cell_type": "code",
   "execution_count": null,
   "id": "29020d1f-2c21-4a93-941b-8b90313893c5",
   "metadata": {},
   "outputs": [],
   "source": [
    "X_train, X_test, y_train, y_test = train_test_split(\n",
    "    df[features],\n",
    "    df[target],\n",
    "    test_size=0.2, # у студента может быть другое\n",
    "    shuffle=False, # аналогично выше\n",
    ")"
   ]
  },
  {
   "cell_type": "code",
   "execution_count": null,
   "id": "89c9fcce-2d04-4dcd-b888-99862aded8b0",
   "metadata": {},
   "outputs": [],
   "source": [
    "print(f\"Размер выборки для обучения: {X_train.shape}\")\n",
    "print(f\"Размер выборки для теста: {X_test.shape}\")"
   ]
  },
  {
   "cell_type": "code",
   "execution_count": null,
   "id": "6a383639-d10d-4886-a5e1-ff1d736bd65a",
   "metadata": {},
   "outputs": [],
   "source": [
    "sfs = sfs.fit(X_train_features, y_train)\n",
    "top_sfs = sfs.k_feature_names_"
   ]
  },
  {
   "cell_type": "code",
   "execution_count": null,
   "id": "48ef5faf-5996-4068-b304-cbd7df8ddcec",
   "metadata": {},
   "outputs": [],
   "source": [
    "print('\\nSequential Forward Selection (k=10):')\n",
    "print(sfs.k_feature_idx_)\n",
    "print('CV Score:')\n",
    "print(sfs.k_score_)"
   ]
  },
  {
   "cell_type": "code",
   "execution_count": null,
   "id": "83648df7-21a4-47ad-bf45-006c25f35cdd",
   "metadata": {},
   "outputs": [],
   "source": [
    "sfs_df = pd.DataFrame.from_dict(sfs.get_metric_dict()).T"
   ]
  },
  {
   "cell_type": "code",
   "execution_count": null,
   "id": "095a4036-008d-4f45-8c3d-8267d8b197bd",
   "metadata": {},
   "outputs": [],
   "source": [
    "sfs_df.head(1)"
   ]
  },
  {
   "cell_type": "code",
   "execution_count": null,
   "id": "81ea8359-1dc5-4d57-a862-9544e5ac1770",
   "metadata": {},
   "outputs": [],
   "source": [
    "sfs_df.to_csv(\"ASSETS/sfs.csv\")"
   ]
  },
  {
   "cell_type": "code",
   "execution_count": null,
   "id": "74ddb696-0c4c-4267-ae63-266ec843bd3a",
   "metadata": {},
   "outputs": [],
   "source": [
    "fig = plot_sfs(sfs.get_metric_dict(), kind='std_dev')\n",
    "\n",
    "plt.title('Sequential Forward Selection (w. StdDev)')\n",
    "plt.grid()\n",
    "plt.show()\n",
    "\n",
    "plt.savefig(f\"{FS_ASSETS}/sfs.png\")"
   ]
  },
  {
   "cell_type": "code",
   "execution_count": null,
   "id": "8cd32246-677d-446a-b096-b0d6eb86956e",
   "metadata": {},
   "outputs": [],
   "source": [
    "%%time\n",
    "\n",
    "\n",
    "sbs = sbs.fit(X_train_features, y_train)\n",
    "top_sbs = sbs.k_feature_names_"
   ]
  },
  {
   "cell_type": "code",
   "execution_count": null,
   "id": "3a862084-5f3a-4ad5-9368-887571396cca",
   "metadata": {},
   "outputs": [],
   "source": [
    "print('\\nSequential Backward Selection (k=10):')\n",
    "print(sbs.k_feature_idx_)\n",
    "print('CV Score:')\n",
    "print(sbs.k_score_)"
   ]
  },
  {
   "cell_type": "code",
   "execution_count": null,
   "id": "89efd3fc-898f-4208-ab6e-41944e745bd1",
   "metadata": {},
   "outputs": [],
   "source": [
    "sbs_df = pd.DataFrame.from_dict(sbs.get_metric_dict()).T"
   ]
  },
  {
   "cell_type": "code",
   "execution_count": null,
   "id": "50231f24-44ec-4a70-a308-0a9e93f65b3c",
   "metadata": {},
   "outputs": [],
   "source": [
    "sbs_df.to_csv(\"ASSETS/sbs.csv\")"
   ]
  },
  {
   "cell_type": "code",
   "execution_count": null,
   "id": "3b832e29-7510-4d08-a6d3-005b329da4ce",
   "metadata": {},
   "outputs": [],
   "source": [
    "fig = plot_sfs(sbs.get_metric_dict(), kind='std_dev')\n",
    "\n",
    "plt.title('Sequential Forward Selection (w. StdDev)')\n",
    "plt.grid()\n",
    "plt.show()\n",
    "\n",
    "plt.savefig(\"FS_ASSETS/sbs.png\")"
   ]
  },
  {
   "cell_type": "code",
   "execution_count": null,
   "id": "db512e24-e0be-4aa9-ab35-6395bad7c544",
   "metadata": {},
   "outputs": [],
   "source": [
    "interc_features = list(set(top_sbs) & set(top_sfs))"
   ]
  },
  {
   "cell_type": "code",
   "execution_count": null,
   "id": "57f51f1c-8f74-44b6-8b60-77a5d7a2f12c",
   "metadata": {},
   "outputs": [],
   "source": [
    "union_features = list(set(top_sbs) | set(top_sfs))"
   ]
  },
  {
   "cell_type": "code",
   "execution_count": null,
   "id": "588505ff-972d-4bb9-8532-26276347c03a",
   "metadata": {},
   "outputs": [],
   "source": [
    "### Дальше студент обучает свою модель на отобранных признаках и логирует в mlflow"
   ]
  },
  {
   "cell_type": "code",
   "execution_count": null,
   "id": "aa7ca733-f693-4e40-8c9e-661764ac421b",
   "metadata": {},
   "outputs": [],
   "source": [
    "TRACKING_SERVER_HOST = \"127.0.0.1\"\n",
    "TRACKING_SERVER_PORT = 5000\n",
    "\n",
    "EXPERIMENT_NAME = \"churn_nikolaistepanov\"\n",
    "RUN_NAME = \"fs\"\n",
    "REGISTRY_MODEL_NAME = \"churn_model_nikolaistepanov_prepared\"\n",
    "FS_ASSETS = \"fs_assets\""
   ]
  },
  {
   "cell_type": "code",
   "execution_count": null,
   "id": "e7189b06-f50b-48b4-ab5b-96dbad22a114",
   "metadata": {},
   "outputs": [],
   "source": [
    "os.environ[\"MLFLOW_S3_ENDPOINT_URL\"] = \"...\"\n",
    "os.environ[\"AWS_ACCESS_KEY_ID\"] = \"...\"\n",
    "os.environ[\"AWS_SECRET_ACCESS_KEY\"] = \"...\""
   ]
  },
  {
   "cell_type": "code",
   "execution_count": null,
   "id": "b36155d4-a1a5-45d5-9e1e-1fe7dae22016",
   "metadata": {},
   "outputs": [],
   "source": [
    "mlflow.set_tracking_uri(f\"http://{TRACKING_SERVER_HOST}:{TRACKING_SERVER_PORT}\")\n",
    "mlflow.set_registry_uri(f\"http://{TRACKING_SERVER_HOST}:{TRACKING_SERVER_PORT}\")"
   ]
  },
  {
   "cell_type": "code",
   "execution_count": null,
   "id": "f0e0e350-fb4f-4999-8fb9-6d58f60b895c",
   "metadata": {},
   "outputs": [],
   "source": [
    "metrics_interc = {\"auc\": 0.9}\n",
    "pip_requirements=\"../requirements.txt\"\n",
    "signature = mlflow.models.infer_signature(X_test_features[interc_features], prediction_interc)\n",
    "input_example = X_test_features[interc_features][:10]\n",
    "\n",
    "experiment_id = mlflow.get_experiment_by_name(EXPERIMENT_NAME).experiment_id\n",
    "\n",
    "with mlflow.start_run(run_name=f\"{RUN_NAME}_intersection\", experiment_id=experiment_id) as run:\n",
    "    run_id = run.info.run_id\n",
    "    \n",
    "    mlflow.log_metrics(metrics_interc)\n",
    "    mlflow.log_artifacts(\"ASSETS\")\n",
    "    model_info = mlflow.catboost.log_model(\n",
    "        cb_model=model_interc, \n",
    "        artifact_path=\"models\",\n",
    "        signature=signature,\n",
    "        input_example=input_example,\n",
    "        registered_model_name=REGISTRY_MODEL_NAME,\n",
    "        await_registration_for=60,\n",
    "        pip_requirements=pip_requirements,\n",
    "    )\n",
    "    mlflow.log_params() # тут студент логирует параметры модели"
   ]
  }
 ],
 "metadata": {
  "kernelspec": {
   "display_name": "Python 3 (ipykernel)",
   "language": "python",
   "name": "python3"
  },
  "language_info": {
   "codemirror_mode": {
    "name": "ipython",
    "version": 3
   },
   "file_extension": ".py",
   "mimetype": "text/x-python",
   "name": "python",
   "nbconvert_exporter": "python",
   "pygments_lexer": "ipython3",
   "version": "3.8.10"
  }
 },
 "nbformat": 4,
 "nbformat_minor": 5
}
