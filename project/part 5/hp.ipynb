{
 "cells": [
  {
   "cell_type": "markdown",
   "id": "219b2ff9-490f-4d33-acf6-b48791be0a64",
   "metadata": {},
   "source": [
    "#### В начале студент загружает модели и данные. Эти этапы можно посмотреть в предыдущих ноутбуках"
   ]
  },
  {
   "cell_type": "code",
   "execution_count": null,
   "id": "47fd61a9-28f4-4282-84c4-875274d517e6",
   "metadata": {},
   "outputs": [],
   "source": [
    "from collections import defaultdict\n",
    "import os\n",
    "\n",
    "import psycopg\n",
    "import pandas as pd\n",
    "from numpy import random, array, median\n",
    "import mlflow\n",
    "from mlflow.utils.mlflow_tags import MLFLOW_PARENT_RUN_ID\n",
    "import optuna\n",
    "from optuna.integration.mlflow import MLflowCallback\n",
    "from catboost import CatBoostClassifier\n",
    "from scipy.stats import uniform, loguniform, randint\n",
    "from sklearn.model_selection import train_test_split, StratifiedKFold\n",
    "from sklearn.metrics import (\n",
    "    roc_auc_score,\n",
    "    f1_score,\n",
    "    precision_score,\n",
    "    recall_score,\n",
    "    confusion_matrix,\n",
    "    log_loss,\n",
    ")"
   ]
  },
  {
   "cell_type": "markdown",
   "id": "645ac958-5f79-4660-a2d6-3cf3a35670cf",
   "metadata": {},
   "source": [
    "### Начнем с optuna с параллельным логирвоание в MLflow"
   ]
  },
  {
   "cell_type": "code",
   "execution_count": null,
   "id": "439e3bcf-6b5e-4093-9726-0ab739cf6e02",
   "metadata": {},
   "outputs": [],
   "source": [
    "TRACKING_SERVER_HOST = \"127.0.0.1\"\n",
    "TRACKING_SERVER_PORT = 5000\n",
    "\n",
    "EXPERIMENT_NAME = \"churn_nikolaistepanov\"\n",
    "RUN_NAME = \"fs\"\n",
    "REGISTRY_MODEL_NAME = \"student_model\"\n",
    "\n",
    "STUDY_DB_NAME = \"sqlite:///local.study.db\"\n",
    "STUDY_NAME = \"student_model\""
   ]
  },
  {
   "cell_type": "code",
   "execution_count": null,
   "id": "bae5b1c9-4a57-44e7-9484-457a6ed5fbfb",
   "metadata": {},
   "outputs": [],
   "source": [
    "os.environ[\"MLFLOW_S3_ENDPOINT_URL\"] = \"...\"\n",
    "os.environ[\"AWS_ACCESS_KEY_ID\"] = \"...\"\n",
    "os.environ[\"AWS_SECRET_ACCESS_KEY\"] = \"...\""
   ]
  },
  {
   "cell_type": "code",
   "execution_count": null,
   "id": "6699ae01-d12e-4db0-8141-c9eeb8d850df",
   "metadata": {},
   "outputs": [],
   "source": [
    "# Пример определения objective\n",
    "def objective(trial: optuna.Trial) -> float:\n",
    "    param = {\n",
    "        \"learning_rate\": trial.suggest_float(\"learning_rate\", 0.001, 0.1, log=True),\n",
    "        \"depth\": trial.suggest_int(\"depth\", 1, 12),\n",
    "        \"l2_leaf_reg\": trial.suggest_float(\"l2_leaf_reg\", 0.1, 5),\n",
    "        \"random_strength\": trial.suggest_float(\"random_strength\", 0.1, 5),\n",
    "        \"loss_function\": \"Logloss\",\n",
    "        \"task_type\": \"CPU\",\n",
    "        \"random_seed\": 0,\n",
    "        \"iterations\": 300,\n",
    "        \"verbose\": False,\n",
    "    }\n",
    "\n",
    "    model = CatBoostClassifier(**param)\n",
    "\n",
    "    skf = StratifiedKFold(n_splits=2)\n",
    "\n",
    "    metrics = defaultdict(list)\n",
    "    for i, (train_index, val_index) in enumerate(skf.split(X_train, y_train)):\n",
    "        train_x = X_train.iloc[train_index]\n",
    "        train_y = y_train.iloc[train_index]\n",
    "        val_x = X_train.iloc[val_index]\n",
    "        val_y = y_train.iloc[val_index]\n",
    "    \n",
    "        model.fit(train_x, train_y)\n",
    "    \n",
    "        prediction = model.predict(val_x)\n",
    "        probas = model.predict_proba(val_x)[:, 1]\n",
    "\n",
    "        _, err1, _, err2 = confusion_matrix(val_y, prediction, normalize='all').ravel()\n",
    "        auc = roc_auc_score(val_y, probas)\n",
    "        precision = precision_score(val_y, prediction)\n",
    "        recall = recall_score(val_y, prediction)\n",
    "        f1 = f1_score(val_y, prediction)\n",
    "        logloss = log_loss(val_y, prediction)\n",
    "        \n",
    "        metrics[\"err1\"].append(err1)\n",
    "        metrics[\"err2\"].append(err2)\n",
    "        metrics[\"auc\"].append(auc)\n",
    "        metrics[\"precision\"].append(precision)\n",
    "        metrics[\"recall\"].append(recall)\n",
    "        metrics[\"f1\"].append(f1)\n",
    "        metrics[\"logloss\"].append(logloss)\n",
    "\n",
    "\n",
    "    err_1 = median(array(metrics['err1']))\n",
    "    err_2 = median(array(metrics['err2']))\n",
    "    auc = median(array(metrics['auc']))\n",
    "    precision = median(array(metrics['precision']))\n",
    "    recall = median(array(metrics['recall']))\n",
    "    f1 = median(array(metrics['f1']))\n",
    "    logloss = median(array(metrics['logloss']))\n",
    "\n",
    "    return auc"
   ]
  },
  {
   "cell_type": "code",
   "execution_count": null,
   "id": "3162b803-d1c7-4fcd-b6c6-17009732935f",
   "metadata": {},
   "outputs": [],
   "source": [
    "experiment_id = mlflow.get_experiment_by_name(EXPERIMENT_NAME).experiment_id\n",
    "\n",
    "with mlflow.start_run(run_name=RUN_NAME, experiment_id=experiment_id) as run:\n",
    "    run_id = run.info.run_id\n",
    "\n",
    "mlflc = MLflowCallback(\n",
    "    tracking_uri=f\"http://{TRACKING_SERVER_HOST}:{TRACKING_SERVER_PORT}\",\n",
    "    metric_name=\"AUC\",\n",
    "    create_experiment=False,\n",
    "    mlflow_kwargs = {\n",
    "        \"experiment_id\": experiment_id, \n",
    "        \"tags\": {MLFLOW_PARENT_RUN_ID: run_id}\n",
    "    }\n",
    ")"
   ]
  },
  {
   "cell_type": "code",
   "execution_count": null,
   "id": "def9cc32-14a1-46a9-a861-e3d1d01b899a",
   "metadata": {},
   "outputs": [],
   "source": [
    "study = optuna.create_study(\n",
    "    sampler=optuna.samplers.TPESampler(), \n",
    "    direction=\"maximize\", \n",
    "    study_name=STUDY_NAME,\n",
    "    storage=STUDY_DB_NAME,\n",
    ")\n",
    "\n",
    "study.optimize(objective, n_trials=10, timeout=600, callbacks=[mlflc],)"
   ]
  },
  {
   "cell_type": "code",
   "execution_count": null,
   "id": "75b456e6-e067-4733-8d5c-337c4c1b262b",
   "metadata": {},
   "outputs": [],
   "source": [
    "best_params = study.best_params\n",
    "print(f\"Number of finished trials: {len(study.trials)}\")\n",
    "print(f\"Best params: {best_params}\")"
   ]
  },
  {
   "cell_type": "markdown",
   "id": "3a756323-804e-473f-9e78-528ca8c83af8",
   "metadata": {},
   "source": [
    "### Пример для [Random Search](https://scikit-learn.org/stable/modules/generated/sklearn.model_selection.RandomizedSearchCV.html)"
   ]
  },
  {
   "cell_type": "code",
   "execution_count": null,
   "id": "28f04d2e-c41b-4c73-a76b-ed07f52f2c7d",
   "metadata": {},
   "outputs": [],
   "source": [
    "from sklearn.datasets import load_iris\n",
    "from sklearn.linear_model import LogisticRegression\n",
    "from sklearn.model_selection import RandomizedSearchCV\n",
    "from scipy.stats import uniform\n",
    "iris = load_iris()\n",
    "logistic = LogisticRegression(solver='saga', tol=1e-2, max_iter=200,\n",
    "                              random_state=0)\n",
    "distributions = dict(C=uniform(loc=0, scale=4),\n",
    "                     penalty=['l2', 'l1'])\n",
    "clf = RandomizedSearchCV(logistic, distributions, random_state=0)\n",
    "search = clf.fit(iris.data, iris.target)\n",
    "search.best_params_"
   ]
  },
  {
   "cell_type": "markdown",
   "id": "cb4441cb-5214-42d4-9978-04c336224651",
   "metadata": {},
   "source": [
    "### Пример для [Halving Search](https://scikit-learn.org/stable/modules/generated/sklearn.model_selection.HalvingGridSearchCV.html)"
   ]
  },
  {
   "cell_type": "code",
   "execution_count": null,
   "id": "0dac64cf-381c-4795-91bf-6cbcb9b34050",
   "metadata": {},
   "outputs": [],
   "source": [
    "from sklearn.datasets import load_iris\n",
    "from sklearn.ensemble import RandomForestClassifier\n",
    "from sklearn.experimental import enable_halving_search_cv  # noqa\n",
    "from sklearn.model_selection import HalvingGridSearchCV\n",
    "\n",
    "\n",
    "X, y = load_iris(return_X_y=True)\n",
    "clf = RandomForestClassifier(random_state=0)\n",
    "param_grid = {\"max_depth\": [3, None],\n",
    "              \"min_samples_split\": [5, 10]}\n",
    "search = HalvingGridSearchCV(clf, param_grid, resource='n_estimators',\n",
    "                             max_resources=10,\n",
    "                             random_state=0).fit(X, y)\n",
    "search.best_params_  "
   ]
  },
  {
   "cell_type": "markdown",
   "id": "1b479074-0b73-4b8b-9c58-65eb0b7b7992",
   "metadata": {},
   "source": [
    "### Студент делает минимум два варианта отбора признаков и затем логирует модель"
   ]
  },
  {
   "cell_type": "code",
   "execution_count": null,
   "id": "d3e0b40c-4784-401a-837c-83320a0fdd21",
   "metadata": {},
   "outputs": [],
   "source": [
    "pip_requirements = \"../../requirements.txt\"\n",
    "\n",
    "experiment_id = mlflow.get_experiment_by_name(EXPERIMENT_NAME).experiment_id\n",
    "\n",
    "with mlflow.start_run(run_name=RUN_NAME, experiment_id=experiment_id) as run:\n",
    "    run_id = run.info.run_id\n",
    "\n",
    "    mlflow.log_metrics(metrics)\n",
    "    model_final = ... # финальная модель студента\n",
    "    model_info = mlflow.catboost.log_model(\n",
    "        cb_model=model_final,\n",
    "        artifact_path=\"models\",\n",
    "        registered_model_name=REGISTRY_MODEL_NAME,\n",
    "        await_registration_for=60, # опционально\n",
    "        pip_requirements=pip_requirements,\n",
    "        # signature=signature,\n",
    "        # input_example=input_example,\n",
    "        # metadata=metadata,\n",
    "    )"
   ]
  }
 ],
 "metadata": {
  "kernelspec": {
   "display_name": "Python 3 (ipykernel)",
   "language": "python",
   "name": "python3"
  },
  "language_info": {
   "codemirror_mode": {
    "name": "ipython",
    "version": 3
   },
   "file_extension": ".py",
   "mimetype": "text/x-python",
   "name": "python",
   "nbconvert_exporter": "python",
   "pygments_lexer": "ipython3",
   "version": "3.8.10"
  }
 },
 "nbformat": 4,
 "nbformat_minor": 5
}
